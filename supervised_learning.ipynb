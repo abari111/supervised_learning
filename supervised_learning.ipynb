{
 "cells": [
  {
   "cell_type": "markdown",
   "id": "ec8157c3",
   "metadata": {
    "id": "HglThjN2zmsQ"
   },
   "source": [
    "# **Atelier 2: Apprentissage supervisé avec Python** "
   ]
  },
  {
   "cell_type": "markdown",
   "id": "3bd9c744",
   "metadata": {},
   "source": [
    "<strong style='color:red'>  DODO MAMANE Abari p2214579 </strong>"
   ]
  },
  {
   "cell_type": "markdown",
   "id": "fb8e25e3",
   "metadata": {
    "id": "T5KltVlGzz8c"
   },
   "source": [
    "\n",
    "\n",
    "*   Data preprocessing (donné hétérogènes, données manquantes, etc.)\n",
    "*   Feature engineering\n",
    "*   Feature selection\n",
    "*   Classification\n",
    "*   Evaluation de la qualité d'un classifieur\n",
    "\n"
   ]
  },
  {
   "cell_type": "markdown",
   "id": "598367dc",
   "metadata": {
    "id": "ezANXZo70MTZ"
   },
   "source": [
    "# **I- Apprentissage supervisé: Feature engineering et classification**\n",
    "> **Apprentissage supervisé** : L'apprentissage supervisé est une technique d'apprentissage automatique dans laquelle un modèle de machine learning est entraîné à prédire une sortie en utilisant des exemples d'entrée et de sortie précédemment connus. Le modèle est \"supervisé\" parce qu'il est guidé par des exemples de données d'entraînement qui comprennent des entrées et les sorties correctes associées, de sorte qu'il peut apprendre à faire des prédictions correctes pour de nouvelles entrées.\n",
    "\n",
    "> **Feature engineering**: Le feature engineering est le processus de création et de sélection des caractéristiques (ou \"features\") utilisées comme entrées pour un modèle de machine learning. Les features sont les variables indépendantes qui sont utilisées pour faire des prédictions ou des classifications.\n"
   ]
  },
  {
   "cell_type": "code",
   "execution_count": 2,
   "id": "477f41c2",
   "metadata": {
    "id": "bTR5NXhz157g"
   },
   "outputs": [],
   "source": [
    "import pandas as pd\n",
    "import matplotlib.pyplot as plt \n",
    "import numpy as np\n",
    "from sklearn.model_selection import train_test_split, GridSearchCV, cross_val_score, cross_validate, KFold\n",
    "from sklearn.tree import DecisionTreeClassifier\n",
    "from sklearn import metrics\n",
    "from sklearn.neighbors import KNeighborsClassifier\n",
    "from sklearn.neural_network import MLPClassifier\n",
    "from sklearn.tree import export_graphviz\n",
    "import graphviz\n",
    "import pydotplus\n",
    "from sklearn.preprocessing import StandardScaler, MinMaxScaler\n",
    "from sklearn.decomposition import PCA, TruncatedSVD\n",
    "from sklearn.ensemble import RandomForestClassifier\n",
    "from sklearn.model_selection import GridSearchCV\n",
    "import warnings\n",
    "from sklearn.pipeline import Pipeline\n",
    "from sklearn.ensemble import BaggingClassifier, AdaBoostClassifier\n",
    "from sklearn.naive_bayes import GaussianNB\n",
    "from sklearn.feature_extraction.text import CountVectorizer, TfidfVectorizer \n",
    "warnings.filterwarnings(\"ignore\")"
   ]
  },
  {
   "cell_type": "markdown",
   "id": "fa4eba24",
   "metadata": {
    "id": "egHF-yNg1Xfh"
   },
   "source": [
    "### **1- Chargement des données et préparation**\n",
    "* la base de données credit_scoring.csv : Cette base contient des données de clients d'une banque et leur statut qui est de 1 si un credit leur a été accordé et 0 sinon.      \n",
    "* Évaluation de la solvabilité d'un client souhaitant souscrire à un credit, à base de cette base de données (credit_scoring.csv). "
   ]
  },
  {
   "cell_type": "code",
   "execution_count": 3,
   "id": "89fa74c5",
   "metadata": {
    "id": "3-SXnTdSzwHn"
   },
   "outputs": [],
   "source": [
    "# Importation des données\n",
    "data = pd.read_csv('credit_scoring.csv', sep=';')"
   ]
  },
  {
   "cell_type": "code",
   "execution_count": 4,
   "id": "6b2155d9",
   "metadata": {
    "colab": {
     "base_uri": "https://localhost:8080/",
     "height": 206
    },
    "id": "jY7EfdXD21mS",
    "outputId": "03cbcc50-5084-4211-d5c6-b570d14e5593"
   },
   "outputs": [
    {
     "data": {
      "text/html": [
       "\n",
       "  <div id=\"df-553a5ae5-b997-4f2c-9536-312139b5f431\">\n",
       "    <div class=\"colab-df-container\">\n",
       "      <div>\n",
       "<style scoped>\n",
       "    .dataframe tbody tr th:only-of-type {\n",
       "        vertical-align: middle;\n",
       "    }\n",
       "\n",
       "    .dataframe tbody tr th {\n",
       "        vertical-align: top;\n",
       "    }\n",
       "\n",
       "    .dataframe thead th {\n",
       "        text-align: right;\n",
       "    }\n",
       "</style>\n",
       "<table border=\"1\" class=\"dataframe\">\n",
       "  <thead>\n",
       "    <tr style=\"text-align: right;\">\n",
       "      <th></th>\n",
       "      <th>Seniority</th>\n",
       "      <th>Home</th>\n",
       "      <th>Time</th>\n",
       "      <th>Age</th>\n",
       "      <th>Marital</th>\n",
       "      <th>Records</th>\n",
       "      <th>Job</th>\n",
       "      <th>Expenses</th>\n",
       "      <th>Income</th>\n",
       "      <th>Assets</th>\n",
       "      <th>Debt</th>\n",
       "      <th>Amount</th>\n",
       "      <th>Price</th>\n",
       "      <th>Status</th>\n",
       "    </tr>\n",
       "  </thead>\n",
       "  <tbody>\n",
       "    <tr>\n",
       "      <th>0</th>\n",
       "      <td>9.0</td>\n",
       "      <td>1.0</td>\n",
       "      <td>60.0</td>\n",
       "      <td>30.0</td>\n",
       "      <td>0.0</td>\n",
       "      <td>1.0</td>\n",
       "      <td>1.0</td>\n",
       "      <td>73.0</td>\n",
       "      <td>129.0</td>\n",
       "      <td>0.0</td>\n",
       "      <td>0.0</td>\n",
       "      <td>800.0</td>\n",
       "      <td>846.0</td>\n",
       "      <td>1</td>\n",
       "    </tr>\n",
       "    <tr>\n",
       "      <th>1</th>\n",
       "      <td>17.0</td>\n",
       "      <td>1.0</td>\n",
       "      <td>60.0</td>\n",
       "      <td>58.0</td>\n",
       "      <td>1.0</td>\n",
       "      <td>1.0</td>\n",
       "      <td>0.0</td>\n",
       "      <td>48.0</td>\n",
       "      <td>131.0</td>\n",
       "      <td>0.0</td>\n",
       "      <td>0.0</td>\n",
       "      <td>1000.0</td>\n",
       "      <td>1658.0</td>\n",
       "      <td>1</td>\n",
       "    </tr>\n",
       "    <tr>\n",
       "      <th>2</th>\n",
       "      <td>10.0</td>\n",
       "      <td>0.0</td>\n",
       "      <td>36.0</td>\n",
       "      <td>46.0</td>\n",
       "      <td>0.0</td>\n",
       "      <td>2.0</td>\n",
       "      <td>1.0</td>\n",
       "      <td>90.0</td>\n",
       "      <td>200.0</td>\n",
       "      <td>3000.0</td>\n",
       "      <td>0.0</td>\n",
       "      <td>2000.0</td>\n",
       "      <td>2985.0</td>\n",
       "      <td>0</td>\n",
       "    </tr>\n",
       "    <tr>\n",
       "      <th>3</th>\n",
       "      <td>0.0</td>\n",
       "      <td>1.0</td>\n",
       "      <td>60.0</td>\n",
       "      <td>24.0</td>\n",
       "      <td>1.0</td>\n",
       "      <td>1.0</td>\n",
       "      <td>0.0</td>\n",
       "      <td>63.0</td>\n",
       "      <td>182.0</td>\n",
       "      <td>2500.0</td>\n",
       "      <td>0.0</td>\n",
       "      <td>900.0</td>\n",
       "      <td>1325.0</td>\n",
       "      <td>1</td>\n",
       "    </tr>\n",
       "    <tr>\n",
       "      <th>4</th>\n",
       "      <td>0.0</td>\n",
       "      <td>1.0</td>\n",
       "      <td>36.0</td>\n",
       "      <td>26.0</td>\n",
       "      <td>1.0</td>\n",
       "      <td>1.0</td>\n",
       "      <td>0.0</td>\n",
       "      <td>46.0</td>\n",
       "      <td>107.0</td>\n",
       "      <td>0.0</td>\n",
       "      <td>0.0</td>\n",
       "      <td>310.0</td>\n",
       "      <td>910.0</td>\n",
       "      <td>1</td>\n",
       "    </tr>\n",
       "  </tbody>\n",
       "</table>\n",
       "</div>\n",
       "      <button class=\"colab-df-convert\" onclick=\"convertToInteractive('df-553a5ae5-b997-4f2c-9536-312139b5f431')\"\n",
       "              title=\"Convert this dataframe to an interactive table.\"\n",
       "              style=\"display:none;\">\n",
       "        \n",
       "  <svg xmlns=\"http://www.w3.org/2000/svg\" height=\"24px\"viewBox=\"0 0 24 24\"\n",
       "       width=\"24px\">\n",
       "    <path d=\"M0 0h24v24H0V0z\" fill=\"none\"/>\n",
       "    <path d=\"M18.56 5.44l.94 2.06.94-2.06 2.06-.94-2.06-.94-.94-2.06-.94 2.06-2.06.94zm-11 1L8.5 8.5l.94-2.06 2.06-.94-2.06-.94L8.5 2.5l-.94 2.06-2.06.94zm10 10l.94 2.06.94-2.06 2.06-.94-2.06-.94-.94-2.06-.94 2.06-2.06.94z\"/><path d=\"M17.41 7.96l-1.37-1.37c-.4-.4-.92-.59-1.43-.59-.52 0-1.04.2-1.43.59L10.3 9.45l-7.72 7.72c-.78.78-.78 2.05 0 2.83L4 21.41c.39.39.9.59 1.41.59.51 0 1.02-.2 1.41-.59l7.78-7.78 2.81-2.81c.8-.78.8-2.07 0-2.86zM5.41 20L4 18.59l7.72-7.72 1.47 1.35L5.41 20z\"/>\n",
       "  </svg>\n",
       "      </button>\n",
       "      \n",
       "  <style>\n",
       "    .colab-df-container {\n",
       "      display:flex;\n",
       "      flex-wrap:wrap;\n",
       "      gap: 12px;\n",
       "    }\n",
       "\n",
       "    .colab-df-convert {\n",
       "      background-color: #E8F0FE;\n",
       "      border: none;\n",
       "      border-radius: 50%;\n",
       "      cursor: pointer;\n",
       "      display: none;\n",
       "      fill: #1967D2;\n",
       "      height: 32px;\n",
       "      padding: 0 0 0 0;\n",
       "      width: 32px;\n",
       "    }\n",
       "\n",
       "    .colab-df-convert:hover {\n",
       "      background-color: #E2EBFA;\n",
       "      box-shadow: 0px 1px 2px rgba(60, 64, 67, 0.3), 0px 1px 3px 1px rgba(60, 64, 67, 0.15);\n",
       "      fill: #174EA6;\n",
       "    }\n",
       "\n",
       "    [theme=dark] .colab-df-convert {\n",
       "      background-color: #3B4455;\n",
       "      fill: #D2E3FC;\n",
       "    }\n",
       "\n",
       "    [theme=dark] .colab-df-convert:hover {\n",
       "      background-color: #434B5C;\n",
       "      box-shadow: 0px 1px 3px 1px rgba(0, 0, 0, 0.15);\n",
       "      filter: drop-shadow(0px 1px 2px rgba(0, 0, 0, 0.3));\n",
       "      fill: #FFFFFF;\n",
       "    }\n",
       "  </style>\n",
       "\n",
       "      <script>\n",
       "        const buttonEl =\n",
       "          document.querySelector('#df-553a5ae5-b997-4f2c-9536-312139b5f431 button.colab-df-convert');\n",
       "        buttonEl.style.display =\n",
       "          google.colab.kernel.accessAllowed ? 'block' : 'none';\n",
       "\n",
       "        async function convertToInteractive(key) {\n",
       "          const element = document.querySelector('#df-553a5ae5-b997-4f2c-9536-312139b5f431');\n",
       "          const dataTable =\n",
       "            await google.colab.kernel.invokeFunction('convertToInteractive',\n",
       "                                                     [key], {});\n",
       "          if (!dataTable) return;\n",
       "\n",
       "          const docLinkHtml = 'Like what you see? Visit the ' +\n",
       "            '<a target=\"_blank\" href=https://colab.research.google.com/notebooks/data_table.ipynb>data table notebook</a>'\n",
       "            + ' to learn more about interactive tables.';\n",
       "          element.innerHTML = '';\n",
       "          dataTable['output_type'] = 'display_data';\n",
       "          await google.colab.output.renderOutput(dataTable, element);\n",
       "          const docLink = document.createElement('div');\n",
       "          docLink.innerHTML = docLinkHtml;\n",
       "          element.appendChild(docLink);\n",
       "        }\n",
       "      </script>\n",
       "    </div>\n",
       "  </div>\n",
       "  "
      ],
      "text/plain": [
       "   Seniority  Home  Time   Age  Marital  Records  Job  Expenses  Income  \\\n",
       "0        9.0   1.0  60.0  30.0      0.0      1.0  1.0      73.0   129.0   \n",
       "1       17.0   1.0  60.0  58.0      1.0      1.0  0.0      48.0   131.0   \n",
       "2       10.0   0.0  36.0  46.0      0.0      2.0  1.0      90.0   200.0   \n",
       "3        0.0   1.0  60.0  24.0      1.0      1.0  0.0      63.0   182.0   \n",
       "4        0.0   1.0  36.0  26.0      1.0      1.0  0.0      46.0   107.0   \n",
       "\n",
       "   Assets  Debt  Amount   Price  Status  \n",
       "0     0.0   0.0   800.0   846.0       1  \n",
       "1     0.0   0.0  1000.0  1658.0       1  \n",
       "2  3000.0   0.0  2000.0  2985.0       0  \n",
       "3  2500.0   0.0   900.0  1325.0       1  \n",
       "4     0.0   0.0   310.0   910.0       1  "
      ]
     },
     "execution_count": 4,
     "metadata": {},
     "output_type": "execute_result"
    }
   ],
   "source": [
    "# Affichage des 5 premiers lignes\n",
    "data.head() "
   ]
  },
  {
   "cell_type": "code",
   "execution_count": 5,
   "id": "f512edaa",
   "metadata": {
    "colab": {
     "base_uri": "https://localhost:8080/"
    },
    "id": "ow9DGUtL5yKl",
    "outputId": "39c784cc-aa5e-45a4-8c7c-661f478b0f25"
   },
   "outputs": [
    {
     "data": {
      "text/plain": [
       "Index(['Seniority', 'Home', 'Time', 'Age', 'Marital', 'Records', 'Job',\n",
       "       'Expenses', 'Income', 'Assets', 'Debt', 'Amount', 'Price', 'Status'],\n",
       "      dtype='object')"
      ]
     },
     "execution_count": 5,
     "metadata": {},
     "output_type": "execute_result"
    }
   ],
   "source": [
    "# les features\n",
    "data.columns"
   ]
  },
  {
   "cell_type": "code",
   "execution_count": 6,
   "id": "514fa084",
   "metadata": {
    "colab": {
     "base_uri": "https://localhost:8080/"
    },
    "id": "E4777bju3AyU",
    "outputId": "e890b3b6-593f-42be-ac89-436940e0372b"
   },
   "outputs": [
    {
     "data": {
      "text/plain": [
       "(4375, 14)"
      ]
     },
     "execution_count": 6,
     "metadata": {},
     "output_type": "execute_result"
    }
   ],
   "source": [
    "# shape de données\n",
    "data.shape"
   ]
  },
  {
   "cell_type": "code",
   "execution_count": 7,
   "id": "a7c5396b",
   "metadata": {
    "id": "21kPszcj3Y4m"
   },
   "outputs": [],
   "source": [
    "# Transformation en numpy du jeu de données issue de data\n",
    "# separation des caracteristiques (features) et la variable à prédire (target)\n",
    "\n",
    "X = data.iloc[:, :].values\n",
    "\n",
    "features = X[:, :-1]\n",
    "target = X[:, -1]\n",
    "target = target.astype(np.int)"
   ]
  },
  {
   "cell_type": "code",
   "execution_count": 8,
   "id": "c15e3939",
   "metadata": {
    "colab": {
     "base_uri": "https://localhost:8080/"
    },
    "id": "hEQq2hNn4IXt",
    "outputId": "790c8570-3008-4056-c29a-1eae329a56de"
   },
   "outputs": [
    {
     "name": "stdout",
     "output_type": "stream",
     "text": [
      "Shape features: (4375, 13) \n",
      "Shape target: (4375,)\n",
      "nombre des éléments positifs: 3159\n",
      "nombre des éléments négatifs: 1216\n"
     ]
    }
   ],
   "source": [
    "# Analyse des propriétés de la dataset\n",
    "nbr_neg =sum(target >= 1)\n",
    "nbr_pos = sum(target <= 0 )\n",
    "print(f'Shape features: {features.shape} \\nShape target: {target.shape}')\n",
    "print(f'nombre des éléments positifs: {nbr_neg}')\n",
    "print(f'nombre des éléments négatifs: {nbr_pos}') "
   ]
  },
  {
   "cell_type": "code",
   "execution_count": 9,
   "id": "257c5375",
   "metadata": {
    "colab": {
     "base_uri": "https://localhost:8080/",
     "height": 282
    },
    "id": "CTAc9u2B4rNK",
    "outputId": "39fc55b6-68ad-4558-8b70-7bc9d664ba4d"
   },
   "outputs": [
    {
     "data": {
      "text/plain": [
       "<matplotlib.axes._subplots.AxesSubplot at 0x7fc7f2047130>"
      ]
     },
     "execution_count": 9,
     "metadata": {},
     "output_type": "execute_result"
    },
    {
     "data": {
      "image/png": "[encoded data removed]",
      "text/plain": [
       "<Figure size 432x288 with 1 Axes>"
      ]
     },
     "metadata": {
      "needs_background": "light"
     },
     "output_type": "display_data"
    }
   ],
   "source": [
    "import seaborn as sns\n",
    "sns.histplot(target)"
   ]
  },
  {
   "cell_type": "code",
   "execution_count": 10,
   "id": "c0112c87",
   "metadata": {
    "colab": {
     "base_uri": "https://localhost:8080/"
    },
    "id": "YgP3qGFj5MUV",
    "outputId": "5bd55651-f02e-4f84-dc99-65eaba4ee054"
   },
   "outputs": [
    {
     "name": "stdout",
     "output_type": "stream",
     "text": [
      "training samples : 2187, \n",
      " test samples : 2188\n"
     ]
    }
   ],
   "source": [
    "# Split the data in training and test set\n",
    "x_train, x_test, y_train, y_test = train_test_split(features, target, train_size=0.5, random_state=1)\n",
    "print(f\"training samples : {y_train.shape[0]}, \\n test samples : {y_test.shape[0]}\")"
   ]
  },
  {
   "cell_type": "markdown",
   "id": "1013dba6",
   "metadata": {
    "id": "uijj_-qf6zpe"
   },
   "source": [
    "🔑 **Summary**\n",
    "\n",
    "* Nous avons chargé le fichier __credit_scoring.csv__ contenant les données.\n",
    "* Il s'agit des caractéristiques telles que (seniority, home, time, age, marital, records, job, expenses, income, assets, debt, amount, price) et status qui est un valeur specifiant si le credit a été accordé à la personne  (status=1) ou pas (status=0).\n",
    "* Statistiques sur la dataset:\n",
    "  * Nombre des caractéristiques : 13\n",
    "  * Nombre d'observations : 4375\n",
    "  * observation avec status = 1 : 1216\n",
    "  * Observations avec status = 1 : 3159\n",
    "* Separation de données en train set et test set:\n",
    "  * Nombre de training samples : 2187\n",
    "  * Nombre de test samples : 2188     "
   ]
  },
  {
   "cell_type": "markdown",
   "id": "39605ab4",
   "metadata": {
    "id": "hQxKcWHU9iv0"
   },
   "source": [
    "## **2- Apprentissage et évaluation de modèles**\n",
    "\n",
    "> Dans cette partie nous allons utilisées sur notre jeu de données les algorithmes d'apprentissage supervisé suivants : \n",
    "> * **Un arbre CART** (random_state=1)\n",
    "> * **k-plus-proches-voisins** avec k=5\n",
    "> * **MultilayerPerceptron** à deux couches de tailles respectives 40 et 20 et random_state=1\n",
    "\n",
    "> * L'objectif est de comparer ces algorithmes en se basant sur l'accuracy et le meilleur critère entre Rappel et la précision.\n",
    "\n",
    "> ❗ **Choix entre Rappel et Precision** \n",
    ">> Le meilleur critère est Précision . En effet la précision est le pourcentage des vraies positifs (True positifs). Dans ce cas s'il s'agit de la portion des personnes ayant réellement un score 1 parmi celles predites avec un score 1. Le meilleur critère est celui qui minimise les faux positifs donc la precision. Rappel(Recall) nous donne le pourcentage de personnes ayant un score de 1 et qui ont été predites comme telles. Le recall ne minimise pas les faux positifs, mais plutot les faux negatifs. Donc avec precision élévée on a plus de chance de ne pas octroyer un credit à celui qui n'est pas solvable.   "
   ]
  },
  {
   "cell_type": "code",
   "execution_count": 11,
   "id": "1cd00886",
   "metadata": {
    "id": "txJAGmVvCUdo"
   },
   "outputs": [],
   "source": [
    "# Training models\n",
    "def train(models, x_train, y_train):\n",
    "  \"\"\"\n",
    "  Cette fonction prend en entrée un dictionnaire des models et les données\n",
    "  d'entrainement et entraine ces models.\n",
    "\n",
    "  Parameters:\n",
    "  models (dict) : dictionnaire des models tel {'model_name': object, ...}\n",
    "  x_train (ndarray) : données d' entrainement (features)\n",
    "  y_train (ndarray) : labels   \n",
    "  \"\"\"\n",
    "  for model in models.values():\n",
    "    model.fit(x_train, y_train)\n",
    "\n",
    "# Evaluate models\n",
    "def evaluate(models, x_test, y_test):\n",
    "  \"\"\"\n",
    "  Cette fonction prend en entrée un dictionnaire de models et données de test et\n",
    "  évalue ces models en utilisant l'accuracy et la precision  \n",
    "  Parameters:\n",
    "  models (dict) : dictionnaire des models tel que {'model_name': object, ...}\n",
    "  x_test (ndarray) : données de test (features)\n",
    "  y_test (ndarray) : labels   \n",
    "  \"\"\"\n",
    "  results = {'classifier': [], 'precision': [], 'accuracy': []}\n",
    "  for model_name, model in models.items():\n",
    "    y_predicted = model.predict(x_test)\n",
    "    \n",
    "    results['classifier'].append(model_name)\n",
    "    results['accuracy'].append(metrics.accuracy_score(y_test, y_predicted))\n",
    "    results['precision'].append(metrics.precision_score(y_test, y_predicted))\n",
    "  \n",
    "  return pd.DataFrame(results)   \n",
    "\n",
    "def confusion_matrix(models, x_test, y_test):\n",
    "  \"\"\"\n",
    "        Display Confusion Matrix given y_test and y_pred and the model\n",
    "  \"\"\"\n",
    "  nbr = len(models.keys())\n",
    "  i = 1\n",
    "  plt.figure(figsize=(20, 15))\n",
    "  for model_name, model in models.items():\n",
    "    #plt.subplot(nbr // 2 + 1 , nbr//2 + 1, i) \n",
    "    ax = plt.subplot(nbr // 3 + 1, 3, i)\n",
    "    ax.set_title(model_name)\n",
    "    y_predicted = model.predict(x_test)\n",
    "    confusion_matrix = metrics.confusion_matrix(y_test, y_predicted)\n",
    "    cm_display = metrics.ConfusionMatrixDisplay(confusion_matrix=confusion_matrix, display_labels=[0, 1])\n",
    "    cm_display.plot(ax=ax)\n",
    "    i+=1 \n",
    "\n",
    "  plt.show()"
   ]
  },
  {
   "cell_type": "code",
   "execution_count": 12,
   "id": "312d5c5f",
   "metadata": {
    "id": "tc2wSAVkFZpn"
   },
   "outputs": [],
   "source": [
    "# Les modèles\n",
    "models = {\n",
    "    'cart' : DecisionTreeClassifier(random_state=1),\n",
    "    'knn' : KNeighborsClassifier(n_neighbors=5),\n",
    "    'mlp' : MLPClassifier(hidden_layer_sizes=(40, 20), random_state=1)\n",
    "}"
   ]
  },
  {
   "cell_type": "code",
   "execution_count": 13,
   "id": "f20be012",
   "metadata": {
    "id": "_SyvzTxoF3wM"
   },
   "outputs": [],
   "source": [
    "# entrainement des modèles\n",
    "train(models, x_train, y_train)"
   ]
  },
  {
   "cell_type": "code",
   "execution_count": 14,
   "id": "9c750dc0",
   "metadata": {
    "colab": {
     "base_uri": "https://localhost:8080/",
     "height": 143
    },
    "id": "nzaxTMLSF7Ds",
    "outputId": "e963e376-0c61-418d-93d3-af087bf91711"
   },
   "outputs": [
    {
     "data": {
      "text/html": [
       "<style type=\"text/css\">\n",
       "</style>\n",
       "<table id=\"T_6e8bb_\" class=\"dataframe\">\n",
       "  <thead>\n",
       "    <tr>\n",
       "      <th class=\"col_heading level0 col0\" >classifier</th>\n",
       "      <th class=\"col_heading level0 col1\" >precision</th>\n",
       "      <th class=\"col_heading level0 col2\" >accuracy</th>\n",
       "    </tr>\n",
       "  </thead>\n",
       "  <tbody>\n",
       "    <tr>\n",
       "      <td id=\"T_6e8bb_row0_col0\" class=\"data row0 col0\" >cart</td>\n",
       "      <td id=\"T_6e8bb_row0_col1\" class=\"data row0 col1\" >0.819417</td>\n",
       "      <td id=\"T_6e8bb_row0_col2\" class=\"data row0 col2\" >0.727148</td>\n",
       "    </tr>\n",
       "    <tr>\n",
       "      <td id=\"T_6e8bb_row1_col0\" class=\"data row1 col0\" >knn</td>\n",
       "      <td id=\"T_6e8bb_row1_col1\" class=\"data row1 col1\" >0.770971</td>\n",
       "      <td id=\"T_6e8bb_row1_col2\" class=\"data row1 col2\" >0.724863</td>\n",
       "    </tr>\n",
       "    <tr>\n",
       "      <td id=\"T_6e8bb_row2_col0\" class=\"data row2 col0\" >mlp</td>\n",
       "      <td id=\"T_6e8bb_row2_col1\" class=\"data row2 col1\" >0.795644</td>\n",
       "      <td id=\"T_6e8bb_row2_col2\" class=\"data row2 col2\" >0.697898</td>\n",
       "    </tr>\n",
       "  </tbody>\n",
       "</table>\n"
      ],
      "text/plain": [
       "<pandas.io.formats.style.Styler at 0x7fc7f1fc9e50>"
      ]
     },
     "execution_count": 14,
     "metadata": {},
     "output_type": "execute_result"
    }
   ],
   "source": [
    "# Evaluation des modèles\n",
    "evaluate(models, x_test, y_test).style.hide_index()"
   ]
  },
  {
   "cell_type": "markdown",
   "id": "336c7b17",
   "metadata": {
    "id": "0NUWD8wwPp2U"
   },
   "source": [
    "🔑 **Evaluation des modèles sans pretraitement**\n",
    "\n",
    "* Le classifier cart à la meilleure precision et le meilleur accuracy\n",
    "* Le classifier mlp a le plus petit accuracy. \n",
    "* Sans pretraitement (normalisation et autres) le classifier qui a le plus de precision et d'accuracy est le cart.   "
   ]
  },
  {
   "cell_type": "code",
   "execution_count": 15,
   "id": "ed8129be",
   "metadata": {
    "colab": {
     "base_uri": "https://localhost:8080/",
     "height": 404
    },
    "id": "o2SY0fbUF-tv",
    "outputId": "86ba0b87-3ac2-437e-8e77-9b2a83a4ecaa"
   },
   "outputs": [
    {
     "data": {
      "image/png": "[encoded data removed]",
      "text/plain": [
       "<Figure size 1440x1080 with 6 Axes>"
      ]
     },
     "metadata": {
      "needs_background": "light"
     },
     "output_type": "display_data"
    }
   ],
   "source": [
    "# Display confusion matrix\n",
    "confusion_matrix(models, x_test, y_test)"
   ]
  },
  {
   "cell_type": "markdown",
   "id": "3e2b2ae4",
   "metadata": {
    "id": "K5ev63nsQxGP"
   },
   "source": [
    "## **3- Normalisation des variables continues**\n",
    "\n",
    "> **Objectif** : normaliser les données d'entrainement pour voir l'impact que ça a sur les performances de modèles.\n",
    "\n",
    "> Deux types pretraitement sont appliquées aux données:\n",
    "* Standardisation\n",
    "* Normalisation "
   ]
  },
  {
   "cell_type": "code",
   "execution_count": 16,
   "id": "098a4a25",
   "metadata": {
    "id": "fVdbbTdQTSzt"
   },
   "outputs": [],
   "source": [
    "# Les modèles\n",
    "models = {\n",
    "    'cart' : DecisionTreeClassifier(random_state=1),\n",
    "    'knn' : KNeighborsClassifier(n_neighbors=5),\n",
    "    'mlp' : MLPClassifier(hidden_layer_sizes=(40, 20), random_state=1)\n",
    "}"
   ]
  },
  {
   "cell_type": "markdown",
   "id": "bdf7ae89",
   "metadata": {
    "id": "bOFjO7RtR_60"
   },
   "source": [
    "### Standardisation "
   ]
  },
  {
   "cell_type": "code",
   "execution_count": 17,
   "id": "928058cb",
   "metadata": {
    "id": "58Jk887uR9tS"
   },
   "outputs": [],
   "source": [
    "# Configuration Pour standardiser les données en prend comme parametres de reference le mean et le std des données de training set \n",
    "std = StandardScaler().fit(x_train)"
   ]
  },
  {
   "cell_type": "code",
   "execution_count": 18,
   "id": "0f6e0a2f",
   "metadata": {
    "id": "VmCmbr2CSyls"
   },
   "outputs": [],
   "source": [
    "# Application de la standardisation et entrainement\n",
    "x_train_std = std.transform(x_train)\n",
    "train(models, x_train_std, y_train)"
   ]
  },
  {
   "cell_type": "code",
   "execution_count": 19,
   "id": "ad339e0f",
   "metadata": {
    "colab": {
     "base_uri": "https://localhost:8080/",
     "height": 143
    },
    "id": "KPQOMnlZTcs7",
    "outputId": "5d78fc4b-81d1-4041-c076-6458b9c45c64"
   },
   "outputs": [
    {
     "data": {
      "text/html": [
       "<style type=\"text/css\">\n",
       "</style>\n",
       "<table id=\"T_4a5b0_\" class=\"dataframe\">\n",
       "  <thead>\n",
       "    <tr>\n",
       "      <th class=\"col_heading level0 col0\" >classifier</th>\n",
       "      <th class=\"col_heading level0 col1\" >precision</th>\n",
       "      <th class=\"col_heading level0 col2\" >accuracy</th>\n",
       "    </tr>\n",
       "  </thead>\n",
       "  <tbody>\n",
       "    <tr>\n",
       "      <td id=\"T_4a5b0_row0_col0\" class=\"data row0 col0\" >cart</td>\n",
       "      <td id=\"T_4a5b0_row0_col1\" class=\"data row0 col1\" >0.818182</td>\n",
       "      <td id=\"T_4a5b0_row0_col2\" class=\"data row0 col2\" >0.727148</td>\n",
       "    </tr>\n",
       "    <tr>\n",
       "      <td id=\"T_4a5b0_row1_col0\" class=\"data row1 col0\" >knn</td>\n",
       "      <td id=\"T_4a5b0_row1_col1\" class=\"data row1 col1\" >0.810602</td>\n",
       "      <td id=\"T_4a5b0_row1_col2\" class=\"data row1 col2\" >0.752742</td>\n",
       "    </tr>\n",
       "    <tr>\n",
       "      <td id=\"T_4a5b0_row2_col0\" class=\"data row2 col0\" >mlp</td>\n",
       "      <td id=\"T_4a5b0_row2_col1\" class=\"data row2 col1\" >0.838172</td>\n",
       "      <td id=\"T_4a5b0_row2_col2\" class=\"data row2 col2\" >0.776508</td>\n",
       "    </tr>\n",
       "  </tbody>\n",
       "</table>\n"
      ],
      "text/plain": [
       "<pandas.io.formats.style.Styler at 0x7fc7eed8e490>"
      ]
     },
     "execution_count": 19,
     "metadata": {},
     "output_type": "execute_result"
    }
   ],
   "source": [
    "# Application de la standardisation au test set d'evaluation des modèles\n",
    "x_test_std = std.transform(x_test)\n",
    "evaluate(models, x_test_std, y_test).style.hide_index()"
   ]
  },
  {
   "cell_type": "markdown",
   "id": "2d377863",
   "metadata": {
    "id": "y63lHGf8UXrH"
   },
   "source": [
    "🔑 **Standardisation**\n",
    "* Après la standardisation on remarque une amélioration au niveau de la precision des models.  \n",
    "* très peu (ou pas ) d'amelioration au niveau du classifier cart. Donc la standardisation n'a pas un grand effet sur les performances du modèle.\n",
    "* Une nette amélioration des performances du classifieur mlp. Donc le mlp est très sensible à l'echelle de données.    "
   ]
  },
  {
   "cell_type": "markdown",
   "id": "5ca3f80e",
   "metadata": {
    "id": "cvGoypchWEhJ"
   },
   "source": [
    "### Normalization\n"
   ]
  },
  {
   "cell_type": "code",
   "execution_count": 20,
   "id": "7c60b2a3",
   "metadata": {
    "id": "vYd9nOm-UStW"
   },
   "outputs": [],
   "source": [
    "# Normalization\n",
    "min_max = MinMaxScaler().fit(x_train)"
   ]
  },
  {
   "cell_type": "code",
   "execution_count": 21,
   "id": "ad294c5e",
   "metadata": {
    "id": "20TVpMJRW7oc"
   },
   "outputs": [],
   "source": [
    "# Normalisation des données d'entrainement et training des models\n",
    "x_train_norm = min_max.transform(x_train)\n",
    "train(models, x_train_norm, y_train)  "
   ]
  },
  {
   "cell_type": "code",
   "execution_count": 22,
   "id": "89be5923",
   "metadata": {
    "colab": {
     "base_uri": "https://localhost:8080/",
     "height": 143
    },
    "id": "z54f8kryXXdd",
    "outputId": "1f035c2b-3c39-489c-a4e0-833f9e6b649b"
   },
   "outputs": [
    {
     "data": {
      "text/html": [
       "\n",
       "  <div id=\"df-40eb7583-55fd-4a1d-a7e9-929d14cda43d\">\n",
       "    <div class=\"colab-df-container\">\n",
       "      <div>\n",
       "<style scoped>\n",
       "    .dataframe tbody tr th:only-of-type {\n",
       "        vertical-align: middle;\n",
       "    }\n",
       "\n",
       "    .dataframe tbody tr th {\n",
       "        vertical-align: top;\n",
       "    }\n",
       "\n",
       "    .dataframe thead th {\n",
       "        text-align: right;\n",
       "    }\n",
       "</style>\n",
       "<table border=\"1\" class=\"dataframe\">\n",
       "  <thead>\n",
       "    <tr style=\"text-align: right;\">\n",
       "      <th></th>\n",
       "      <th>classifier</th>\n",
       "      <th>precision</th>\n",
       "      <th>accuracy</th>\n",
       "    </tr>\n",
       "  </thead>\n",
       "  <tbody>\n",
       "    <tr>\n",
       "      <th>0</th>\n",
       "      <td>cart</td>\n",
       "      <td>0.819767</td>\n",
       "      <td>0.728519</td>\n",
       "    </tr>\n",
       "    <tr>\n",
       "      <th>1</th>\n",
       "      <td>knn</td>\n",
       "      <td>0.807669</td>\n",
       "      <td>0.745430</td>\n",
       "    </tr>\n",
       "    <tr>\n",
       "      <th>2</th>\n",
       "      <td>mlp</td>\n",
       "      <td>0.832346</td>\n",
       "      <td>0.788848</td>\n",
       "    </tr>\n",
       "  </tbody>\n",
       "</table>\n",
       "</div>\n",
       "      <button class=\"colab-df-convert\" onclick=\"convertToInteractive('df-40eb7583-55fd-4a1d-a7e9-929d14cda43d')\"\n",
       "              title=\"Convert this dataframe to an interactive table.\"\n",
       "              style=\"display:none;\">\n",
       "        \n",
       "  <svg xmlns=\"http://www.w3.org/2000/svg\" height=\"24px\"viewBox=\"0 0 24 24\"\n",
       "       width=\"24px\">\n",
       "    <path d=\"M0 0h24v24H0V0z\" fill=\"none\"/>\n",
       "    <path d=\"M18.56 5.44l.94 2.06.94-2.06 2.06-.94-2.06-.94-.94-2.06-.94 2.06-2.06.94zm-11 1L8.5 8.5l.94-2.06 2.06-.94-2.06-.94L8.5 2.5l-.94 2.06-2.06.94zm10 10l.94 2.06.94-2.06 2.06-.94-2.06-.94-.94-2.06-.94 2.06-2.06.94z\"/><path d=\"M17.41 7.96l-1.37-1.37c-.4-.4-.92-.59-1.43-.59-.52 0-1.04.2-1.43.59L10.3 9.45l-7.72 7.72c-.78.78-.78 2.05 0 2.83L4 21.41c.39.39.9.59 1.41.59.51 0 1.02-.2 1.41-.59l7.78-7.78 2.81-2.81c.8-.78.8-2.07 0-2.86zM5.41 20L4 18.59l7.72-7.72 1.47 1.35L5.41 20z\"/>\n",
       "  </svg>\n",
       "      </button>\n",
       "      \n",
       "  <style>\n",
       "    .colab-df-container {\n",
       "      display:flex;\n",
       "      flex-wrap:wrap;\n",
       "      gap: 12px;\n",
       "    }\n",
       "\n",
       "    .colab-df-convert {\n",
       "      background-color: #E8F0FE;\n",
       "      border: none;\n",
       "      border-radius: 50%;\n",
       "      cursor: pointer;\n",
       "      display: none;\n",
       "      fill: #1967D2;\n",
       "      height: 32px;\n",
       "      padding: 0 0 0 0;\n",
       "      width: 32px;\n",
       "    }\n",
       "\n",
       "    .colab-df-convert:hover {\n",
       "      background-color: #E2EBFA;\n",
       "      box-shadow: 0px 1px 2px rgba(60, 64, 67, 0.3), 0px 1px 3px 1px rgba(60, 64, 67, 0.15);\n",
       "      fill: #174EA6;\n",
       "    }\n",
       "\n",
       "    [theme=dark] .colab-df-convert {\n",
       "      background-color: #3B4455;\n",
       "      fill: #D2E3FC;\n",
       "    }\n",
       "\n",
       "    [theme=dark] .colab-df-convert:hover {\n",
       "      background-color: #434B5C;\n",
       "      box-shadow: 0px 1px 3px 1px rgba(0, 0, 0, 0.15);\n",
       "      filter: drop-shadow(0px 1px 2px rgba(0, 0, 0, 0.3));\n",
       "      fill: #FFFFFF;\n",
       "    }\n",
       "  </style>\n",
       "\n",
       "      <script>\n",
       "        const buttonEl =\n",
       "          document.querySelector('#df-40eb7583-55fd-4a1d-a7e9-929d14cda43d button.colab-df-convert');\n",
       "        buttonEl.style.display =\n",
       "          google.colab.kernel.accessAllowed ? 'block' : 'none';\n",
       "\n",
       "        async function convertToInteractive(key) {\n",
       "          const element = document.querySelector('#df-40eb7583-55fd-4a1d-a7e9-929d14cda43d');\n",
       "          const dataTable =\n",
       "            await google.colab.kernel.invokeFunction('convertToInteractive',\n",
       "                                                     [key], {});\n",
       "          if (!dataTable) return;\n",
       "\n",
       "          const docLinkHtml = 'Like what you see? Visit the ' +\n",
       "            '<a target=\"_blank\" href=https://colab.research.google.com/notebooks/data_table.ipynb>data table notebook</a>'\n",
       "            + ' to learn more about interactive tables.';\n",
       "          element.innerHTML = '';\n",
       "          dataTable['output_type'] = 'display_data';\n",
       "          await google.colab.output.renderOutput(dataTable, element);\n",
       "          const docLink = document.createElement('div');\n",
       "          docLink.innerHTML = docLinkHtml;\n",
       "          element.appendChild(docLink);\n",
       "        }\n",
       "      </script>\n",
       "    </div>\n",
       "  </div>\n",
       "  "
      ],
      "text/plain": [
       "  classifier  precision  accuracy\n",
       "0       cart   0.819767  0.728519\n",
       "1        knn   0.807669  0.745430\n",
       "2        mlp   0.832346  0.788848"
      ]
     },
     "execution_count": 22,
     "metadata": {},
     "output_type": "execute_result"
    }
   ],
   "source": [
    "# Evaluation\n",
    "x_test_norm = min_max.transform(x_test)\n",
    "evaluate(models, x_test_norm, y_test)"
   ]
  },
  {
   "cell_type": "markdown",
   "id": "579a45ee",
   "metadata": {
    "id": "g8J6_m_XYade"
   },
   "source": [
    "🔑 **Normalisation MinMax**\n",
    "* Les performances des modèles cart et knn sont sensiblement les mêmes que celles obtenues avec le standardscaler\n",
    "* Les performances du classifier mlp ont legerement augmentées   "
   ]
  },
  {
   "cell_type": "markdown",
   "id": "fde12c2c",
   "metadata": {
    "id": "gsRMnTYmZH8Y"
   },
   "source": [
    "**❗Note** \n",
    "* La normalisation (standardscaler et minmaxscaler) a un impact considérable sur le classifieur mlp. Après la normalisation, il s'est classé premier dans tous les critères de performances utilisés.\n",
    "* La normalisation MinMax a legerement augmenté la performance (accuracy) de mlp que standardscaler.    "
   ]
  },
  {
   "cell_type": "markdown",
   "id": "e4b69174",
   "metadata": {
    "id": "-8Z6SFdWbCwr"
   },
   "source": [
    "## **4- Création dess nouvelles caractéristiques par PCA**\n",
    " "
   ]
  },
  {
   "cell_type": "markdown",
   "id": "d891cc0e",
   "metadata": {
    "id": "tIjro8MbGMSt"
   },
   "source": [
    "> **PCA** : La décomposition en composantes principales (DCP ou PCA en anglais) est une technique de traitement de données utilisée pour réduire la dimensionnalité d'un ensemble de données en conservant le maximum d'informations possible. Elle est particulièrement utile lorsque vous avez un grand nombre de variables et que vous souhaitez trouver une représentation de ces variables qui soit plus facile à comprendre et à manipuler.\n",
    "\n",
    "> **Création de nouvelles caractéristiques**: il s'agit de générer de nouvelles caractéristiques à partir des caractéristiques existantes. Par exemple, on peut créer une nouvelle caractéristique qui est la somme de deux caractéristiques existantes."
   ]
  },
  {
   "cell_type": "markdown",
   "id": "9b76469b",
   "metadata": {
    "id": "Z1NtMpFkEDdg"
   },
   "source": [
    "> **Objectif**: \n",
    "* PCA des données,\n",
    "* concaténation des valeurs des 3 premiers axes à nos données,\n",
    "* Evaluation des modèles     "
   ]
  },
  {
   "cell_type": "code",
   "execution_count": 23,
   "id": "88c630fd",
   "metadata": {
    "id": "EwAELSoM8RuO"
   },
   "outputs": [],
   "source": [
    "# Les modèles\n",
    "models = {\n",
    "    'cart' : DecisionTreeClassifier(random_state=1),\n",
    "    'knn' : KNeighborsClassifier(n_neighbors=5),\n",
    "    'mlp' : MLPClassifier(hidden_layer_sizes=(40, 20), random_state=1)\n",
    "}"
   ]
  },
  {
   "cell_type": "code",
   "execution_count": 24,
   "id": "68fc12cc",
   "metadata": {
    "id": "HjCape_TXrpG"
   },
   "outputs": [],
   "source": [
    "# Decompositionn PCA\n",
    "pca = PCA(n_components=3)"
   ]
  },
  {
   "cell_type": "markdown",
   "id": "d122fb1f",
   "metadata": {
    "id": "cmjJXGNNHsFl"
   },
   "source": [
    "### PCA Données non normalisées"
   ]
  },
  {
   "cell_type": "code",
   "execution_count": 25,
   "id": "0086d9e4",
   "metadata": {
    "id": "BPbfZl_hH8yW"
   },
   "outputs": [],
   "source": [
    "# PCA et training\n",
    "pca.fit(x_train)\n",
    "x_pca = pca.transform(x_train)\n",
    "x_train_extended = np.concatenate((x_train, x_pca), axis=1)\n",
    "train(models, x_train_extended, y_train)"
   ]
  },
  {
   "cell_type": "code",
   "execution_count": 26,
   "id": "b7d97597",
   "metadata": {
    "colab": {
     "base_uri": "https://localhost:8080/",
     "height": 143
    },
    "id": "vgyspkbVIDyQ",
    "outputId": "55587162-3729-4e05-92a0-c2f762ffa699"
   },
   "outputs": [
    {
     "data": {
      "text/html": [
       "<style type=\"text/css\">\n",
       "</style>\n",
       "<table id=\"T_8df75_\" class=\"dataframe\">\n",
       "  <thead>\n",
       "    <tr>\n",
       "      <th class=\"col_heading level0 col0\" >classifier</th>\n",
       "      <th class=\"col_heading level0 col1\" >precision</th>\n",
       "      <th class=\"col_heading level0 col2\" >accuracy</th>\n",
       "    </tr>\n",
       "  </thead>\n",
       "  <tbody>\n",
       "    <tr>\n",
       "      <td id=\"T_8df75_row0_col0\" class=\"data row0 col0\" >cart</td>\n",
       "      <td id=\"T_8df75_row0_col1\" class=\"data row0 col1\" >0.819497</td>\n",
       "      <td id=\"T_8df75_row0_col2\" class=\"data row0 col2\" >0.740402</td>\n",
       "    </tr>\n",
       "    <tr>\n",
       "      <td id=\"T_8df75_row1_col0\" class=\"data row1 col0\" >knn</td>\n",
       "      <td id=\"T_8df75_row1_col1\" class=\"data row1 col1\" >0.766885</td>\n",
       "      <td id=\"T_8df75_row1_col2\" class=\"data row1 col2\" >0.723949</td>\n",
       "    </tr>\n",
       "    <tr>\n",
       "      <td id=\"T_8df75_row2_col0\" class=\"data row2 col0\" >mlp</td>\n",
       "      <td id=\"T_8df75_row2_col1\" class=\"data row2 col1\" >0.729970</td>\n",
       "      <td id=\"T_8df75_row2_col2\" class=\"data row2 col2\" >0.701097</td>\n",
       "    </tr>\n",
       "  </tbody>\n",
       "</table>\n"
      ],
      "text/plain": [
       "<pandas.io.formats.style.Styler at 0x7fc7eefb2f10>"
      ]
     },
     "execution_count": 26,
     "metadata": {},
     "output_type": "execute_result"
    }
   ],
   "source": [
    "# Evaluation\n",
    "x_test_extended = np.concatenate((x_test, pca.transform(x_test) ), axis=1 )\n",
    "evaluate(models, x_test_extended, y_test).style.hide_index()"
   ]
  },
  {
   "cell_type": "markdown",
   "id": "5d73eda4",
   "metadata": {
    "id": "PeMlOplaJG6B"
   },
   "source": [
    "❗**PCA sur les données non-normalisées**\n",
    "* Les caractéristiques ajoutées en faisant le PCA sur les données non-normalisées, n'ont pas eu un grand effet la performance des modèles      "
   ]
  },
  {
   "cell_type": "markdown",
   "id": "6e484232",
   "metadata": {
    "id": "jP_P-WvYIMRj"
   },
   "source": [
    "### PCA Données normalisées\n"
   ]
  },
  {
   "cell_type": "code",
   "execution_count": 27,
   "id": "f008af33",
   "metadata": {
    "id": "3WyZ7pq1bfOQ"
   },
   "outputs": [],
   "source": [
    "# PCA et training\n",
    "pca.fit(x_train_norm)\n",
    "x_pca = pca.transform(x_train_norm)\n",
    "x_train_extended = np.concatenate((x_train_norm, x_pca), axis=1)\n",
    "train(models, x_train_extended, y_train)"
   ]
  },
  {
   "cell_type": "code",
   "execution_count": 28,
   "id": "e7510a6e",
   "metadata": {
    "colab": {
     "base_uri": "https://localhost:8080/",
     "height": 143
    },
    "id": "zcjhBTrLcA_v",
    "outputId": "29fc1fbf-4a55-49d3-9fe0-7c33c28e7ee4"
   },
   "outputs": [
    {
     "data": {
      "text/html": [
       "<style type=\"text/css\">\n",
       "</style>\n",
       "<table id=\"T_9a7fb_\" class=\"dataframe\">\n",
       "  <thead>\n",
       "    <tr>\n",
       "      <th class=\"col_heading level0 col0\" >classifier</th>\n",
       "      <th class=\"col_heading level0 col1\" >precision</th>\n",
       "      <th class=\"col_heading level0 col2\" >accuracy</th>\n",
       "    </tr>\n",
       "  </thead>\n",
       "  <tbody>\n",
       "    <tr>\n",
       "      <td id=\"T_9a7fb_row0_col0\" class=\"data row0 col0\" >cart</td>\n",
       "      <td id=\"T_9a7fb_row0_col1\" class=\"data row0 col1\" >0.816472</td>\n",
       "      <td id=\"T_9a7fb_row0_col2\" class=\"data row0 col2\" >0.722121</td>\n",
       "    </tr>\n",
       "    <tr>\n",
       "      <td id=\"T_9a7fb_row1_col0\" class=\"data row1 col0\" >knn</td>\n",
       "      <td id=\"T_9a7fb_row1_col1\" class=\"data row1 col1\" >0.805970</td>\n",
       "      <td id=\"T_9a7fb_row1_col2\" class=\"data row1 col2\" >0.744516</td>\n",
       "    </tr>\n",
       "    <tr>\n",
       "      <td id=\"T_9a7fb_row2_col0\" class=\"data row2 col0\" >mlp</td>\n",
       "      <td id=\"T_9a7fb_row2_col1\" class=\"data row2 col1\" >0.834716</td>\n",
       "      <td id=\"T_9a7fb_row2_col2\" class=\"data row2 col2\" >0.792505</td>\n",
       "    </tr>\n",
       "  </tbody>\n",
       "</table>\n"
      ],
      "text/plain": [
       "<pandas.io.formats.style.Styler at 0x7fc7f23c4d90>"
      ]
     },
     "execution_count": 28,
     "metadata": {},
     "output_type": "execute_result"
    }
   ],
   "source": [
    "# Evaluation\n",
    "x_test_extended = np.concatenate((x_test_norm, pca.transform(x_test_norm) ), axis=1 )\n",
    "evaluate(models, x_test_extended, y_test).style.hide_index()"
   ]
  },
  {
   "cell_type": "markdown",
   "id": "2bf0eefb",
   "metadata": {
    "id": "UOXau6qPKANm"
   },
   "source": [
    "❗ **PCA sur les données normalisation**\n",
    "* Contrairement au PCA sur les données non-normalisées, le PCA sur les données normalisées à permis d'obenir des caractérisques qui ont legerement augmenté la précision.      "
   ]
  },
  {
   "cell_type": "markdown",
   "id": "79bebc96",
   "metadata": {
    "id": "criJJmLKNK9l"
   },
   "source": [
    "**🔑Summary**\n",
    "> Effectuer le  PCA sur les données normalisées augmentent legerement l'accuracy.   "
   ]
  },
  {
   "cell_type": "markdown",
   "id": "177d96f2",
   "metadata": {
    "id": "NIWx2jRUG5Sr"
   },
   "source": [
    "\n",
    "\n",
    "---\n",
    "\n",
    "❗❗❗ Dans les parties qui suivent seul le __mlp__  et la normalisation (MinMax) ont été utilisé vu les performances obtenues en utilisant les données normalisées sur le modèle.  \n",
    "\n",
    "---\n",
    "\n"
   ]
  },
  {
   "cell_type": "markdown",
   "id": "1f71dd1e",
   "metadata": {
    "id": "QVxJfjkseMxz"
   },
   "source": [
    "## **5- Sélection de variables**"
   ]
  },
  {
   "cell_type": "markdown",
   "id": "6dee484a",
   "metadata": {
    "id": "xN9-E76ZL_7f"
   },
   "source": [
    "> **Sélection de caractéristiques** : il s'agit de choisir les caractéristiques les plus pertinentes parmi un grand nombre de caractéristiques potentielles.\n",
    "\n",
    "> **Objectif**:  Choix du nombre de variables en fonction de leur importances, qui donnent les meilleures performances du modèle MLP. L'algorithme Random Forest est utilisé pour obtenir les variables les plus importantes.   \n"
   ]
  },
  {
   "cell_type": "code",
   "execution_count": 29,
   "id": "9dd979fd",
   "metadata": {
    "id": "lnpNzZ56cfSw"
   },
   "outputs": [],
   "source": [
    "\n",
    "sorted_idx = None\n",
    "\n",
    "# affichage de l'importance de chaque de caractéristique\n",
    "def variables_importances(x, y, features):\n",
    "  \"\"\"\n",
    "  prend en entrée les données de features x, et les targets y et \n",
    "  les noms de features pour afficher une bar d'importances de features    \n",
    "\n",
    "  Parameters:\n",
    "  x (ndarray) : features data\n",
    "  y (ndarray) : targets data\n",
    "  features (list) : features names\n",
    "\n",
    "  Returns:\n",
    "  None\n",
    "  \"\"\"\n",
    "  global sorted_idx\n",
    "\n",
    "  # Random Forest\n",
    "  clf = RandomForestClassifier(n_estimators=100)  \n",
    "  clf.fit(x, y)\n",
    "  \n",
    "  # Features importances\n",
    "  importances = clf.feature_importances_\n",
    "  \n",
    "  std = np.std([tree.feature_importances_ for tree in clf.estimators_], axis=0)\n",
    "  sorted_idx = np.argsort(importances)[::-1]\n",
    "  features =features\n",
    "  \n",
    "  print(features[sorted_idx])\n",
    "\n",
    "  # Plot features with their importances\n",
    "  padding = np.arange(x.size/len(x)) + 0.5 \n",
    "  plt.barh(padding, importances[sorted_idx], \n",
    "           xerr=std[sorted_idx], align='center')\n",
    "  plt.yticks(padding, features[sorted_idx]) \n",
    "  plt.xlabel(\"Relative Importance\")\n",
    "  plt.title(\"Variable Importance\")\n",
    "  plt.show()"
   ]
  },
  {
   "cell_type": "code",
   "execution_count": 30,
   "id": "62e6f408",
   "metadata": {
    "id": "HyINXiEql5Ta"
   },
   "outputs": [],
   "source": [
    "def variables_selection(model, x_train, y_train, x_test, y_test, sorted_idx):\n",
    "  \"\"\"\n",
    "  Selection des variables\n",
    "  \"\"\"\n",
    "  scores = np.zeros(x_train.shape[1] + 1)\n",
    "  for f in np.arange(0, x_train.shape[1] + 1):\n",
    "    x_train_select = x_train[:, sorted_idx[: f+1]]\n",
    "    x_test_select = x_test[:, sorted_idx[:f+1]]\n",
    "    \n",
    "    model.fit(x_train_select, y_train)\n",
    "\n",
    "    y_predicted = model.predict(x_test_select)\n",
    "    scores[f] = np.round(metrics.accuracy_score(y_test, y_predicted), 3)\n",
    "  plt.plot(scores)\n",
    "  plt.xlabel(\"Nombre de Variables\")\n",
    "  plt.ylabel(\"Accuracy\")\n",
    "  plt.title(\"Evolution de l'accuracy en fonction des variables\")\n",
    "  plt.show()  \n",
    "\n",
    "\n",
    "   "
   ]
  },
  {
   "cell_type": "code",
   "execution_count": 31,
   "id": "94ab3a8c",
   "metadata": {
    "colab": {
     "base_uri": "https://localhost:8080/",
     "height": 347
    },
    "id": "h83rBUPhjOH1",
    "outputId": "cdab8ccc-dee7-4e42-8b4c-64812ea66cf5"
   },
   "outputs": [
    {
     "name": "stdout",
     "output_type": "stream",
     "text": [
      "Index(['Income', 'Seniority', 'Price', 'Amount', 'Age', 'Assets', 'Expenses',\n",
      "       'Records', 'Time', 'Job', 'Debt', 'Home', 'Marital'],\n",
      "      dtype='object')\n"
     ]
    },
    {
     "data": {
      "image/png": "[encoded data removed]",
      "text/plain": [
       "<Figure size 432x288 with 1 Axes>"
      ]
     },
     "metadata": {
      "needs_background": "light"
     },
     "output_type": "display_data"
    }
   ],
   "source": [
    "features = data.columns[:-1]\n",
    "variables_importances(x_train_norm, y_train, features)"
   ]
  },
  {
   "cell_type": "markdown",
   "id": "3f7a44a0",
   "metadata": {
    "id": "zWz4oxHOPOwp"
   },
   "source": [
    "❗ **Importance des variables**\n",
    "> les variables les plus importantes sont income, seniority, price. Cela est logique puisque une personne ayant un revenu élévé est facilement solvable.\n",
    "> les variables les moins importantes sont marital, home, debt. Le mariage n'est pas forcement un indicateur important pour juger la solvabilité d'une personne. Une personne celibataire comme une personne mariée peuvent tous être solvable ou pas. Le statut marital  ne donne pas forcement une credibilité à la solvabilité d'une personne.  "
   ]
  },
  {
   "cell_type": "code",
   "execution_count": 32,
   "id": "785e2432",
   "metadata": {
    "colab": {
     "base_uri": "https://localhost:8080/",
     "height": 295
    },
    "id": "xAi4Oa-bPPwI",
    "outputId": "d3773e3c-6611-485f-e41a-5cc168afe87c"
   },
   "outputs": [
    {
     "data": {
      "image/png": "[encoded data removed]",
      "text/plain": [
       "<Figure size 432x288 with 1 Axes>"
      ]
     },
     "metadata": {
      "needs_background": "light"
     },
     "output_type": "display_data"
    }
   ],
   "source": [
    "variables_selection(models['mlp'], x_train_norm, y_train, x_test_norm, y_test, sorted_idx)"
   ]
  },
  {
   "cell_type": "markdown",
   "id": "9efad62d",
   "metadata": {
    "id": "eNsLzzW2RZLl"
   },
   "source": [
    "❗**Nombre de variables à selectionner**\n",
    "* le nombre de variables donnant le meilleur accuracy est __8__"
   ]
  },
  {
   "cell_type": "markdown",
   "id": "0de5900b",
   "metadata": {
    "id": "AvKItsoNESyA"
   },
   "source": [
    "##**6- Paramétrage des classifieurs**\n"
   ]
  },
  {
   "cell_type": "code",
   "execution_count": 33,
   "id": "09fe885e",
   "metadata": {
    "id": "EOQ424a2Gl9N"
   },
   "outputs": [],
   "source": [
    "model = MLPClassifier(hidden_layer_sizes=(70, 20), random_state=1)"
   ]
  },
  {
   "cell_type": "code",
   "execution_count": 34,
   "id": "08641e84",
   "metadata": {
    "id": "Y5pIXPyMrFSM"
   },
   "outputs": [],
   "source": [
    "x_train_select = x_train_norm[:,sorted_idx[:8]]"
   ]
  },
  {
   "cell_type": "markdown",
   "id": "31213d75",
   "metadata": {
    "id": "uPE45eaVJfhW"
   },
   "source": [
    "### Optimisation des hyperparamètres"
   ]
  },
  {
   "cell_type": "markdown",
   "id": "be42d0bb",
   "metadata": {
    "id": "lD8pwe2d9xYC"
   },
   "source": [
    "🔑 **Gridsearch** \n",
    ">Le grid search est une méthode utilisée pour optimiser les hyperparamètres d'un modèle de machine learning en testant différentes combinaisons de valeurs d'hyperparamètres sur un jeu de données de validation. La performance du modèle est évaluée pour chaque combinaison de paramètres, et la combinaison qui donne les meilleures résultats est sélectionnée comme étant la meilleure. "
   ]
  },
  {
   "cell_type": "code",
   "execution_count": 35,
   "id": "4b9d8193",
   "metadata": {
    "id": "N3DcYg15GSA5"
   },
   "outputs": [],
   "source": [
    "# grille de parametres\n",
    "params = {\n",
    "    'hidden_layer_sizes': [(40, 20), (30, 10), (40, 15), (10, 20)],\n",
    "    'activation': ['tanh', 'sigmoid', 'relu'],\n",
    "    'solver': ['sgd', 'adam'],\n",
    "    'learning_rate': ['constant', 'adaptive'],\n",
    "    'learning_rate_init': [0.001, 0.01, 0.1,]\n",
    "\n",
    "}"
   ]
  },
  {
   "cell_type": "code",
   "execution_count": 36,
   "id": "48c406d1",
   "metadata": {
    "colab": {
     "base_uri": "https://localhost:8080/"
    },
    "id": "1z4xrj_JKQeu",
    "outputId": "f77e7ba2-7575-4c9f-d6a3-55afd8ac48d4"
   },
   "outputs": [
    {
     "data": {
      "text/plain": [
       "GridSearchCV(estimator=MLPClassifier(hidden_layer_sizes=(70, 20),\n",
       "                                     random_state=1),\n",
       "             param_grid={'activation': ['tanh', 'sigmoid', 'relu'],\n",
       "                         'hidden_layer_sizes': [(40, 20), (30, 10), (40, 15),\n",
       "                                                (10, 20)],\n",
       "                         'learning_rate': ['constant', 'adaptive'],\n",
       "                         'learning_rate_init': [0.001, 0.01, 0.1],\n",
       "                         'solver': ['sgd', 'adam']})"
      ]
     },
     "execution_count": 36,
     "metadata": {},
     "output_type": "execute_result"
    }
   ],
   "source": [
    "# Gridsearch\n",
    "grid_search = GridSearchCV(model, params)\n",
    "grid_search.fit(x_train_select, y_train )"
   ]
  },
  {
   "cell_type": "code",
   "execution_count": 37,
   "id": "e45a17cb",
   "metadata": {
    "colab": {
     "base_uri": "https://localhost:8080/"
    },
    "id": "PLklbUSuQMzk",
    "outputId": "470345ba-c4ee-4000-a340-b33453dfe740"
   },
   "outputs": [
    {
     "data": {
      "text/plain": [
       "0.7832502638370793"
      ]
     },
     "execution_count": 37,
     "metadata": {},
     "output_type": "execute_result"
    }
   ],
   "source": [
    "# Meilleur score \n",
    "grid_search.best_score_"
   ]
  },
  {
   "cell_type": "code",
   "execution_count": 38,
   "id": "f169b61f",
   "metadata": {
    "colab": {
     "base_uri": "https://localhost:8080/"
    },
    "id": "ozxM324EVA3J",
    "outputId": "ebcadc92-b9de-4dc6-8846-4dbcab80b18d"
   },
   "outputs": [
    {
     "data": {
      "text/plain": [
       "{'activation': 'tanh',\n",
       " 'hidden_layer_sizes': (10, 20),\n",
       " 'learning_rate': 'constant',\n",
       " 'learning_rate_init': 0.001,\n",
       " 'solver': 'adam'}"
      ]
     },
     "execution_count": 38,
     "metadata": {},
     "output_type": "execute_result"
    }
   ],
   "source": [
    "# Meilleurs paramètres obtenus\n",
    "grid_search.best_params_"
   ]
  },
  {
   "cell_type": "markdown",
   "id": "d6bf6480",
   "metadata": {
    "id": "_LJT-mPDVmbp"
   },
   "source": [
    "🔑 **Meilleurs parametres**\n",
    "> * activation: 'tanh',\n",
    "*hidden_layer_sizes: (10, 20),\n",
    "*learning_rate: 'constant',\n",
    "*learning_rate_init: 0.001,\n",
    "*solver: 'adam'"
   ]
  },
  {
   "cell_type": "markdown",
   "id": "d9cffbd8",
   "metadata": {
    "id": "X98ikpHrPF9J"
   },
   "source": [
    "## **7- Création d'un pipeline**\n"
   ]
  },
  {
   "cell_type": "markdown",
   "id": "ff5d71f1",
   "metadata": {
    "id": "rplLjny--5bV"
   },
   "source": [
    ">**Un pipeline** en machine learning est un enchaînement de plusieurs étapes de traitement de données et d'apprentissage automatique. Il permet de regrouper différentes opérations de prétraitement, de transformation et d'estimation en un seul objet, ce qui peut être pratique pour automatiser des tâches de manière structurée et reproductible.\n",
    "\n",
    "> Dans partie, on encapsule dans un objet, tous les operations éffectués precedemment.   "
   ]
  },
  {
   "cell_type": "code",
   "execution_count": 39,
   "id": "82594988",
   "metadata": {
    "id": "Js1oEtZiL-xj"
   },
   "outputs": [],
   "source": [
    "class FeatureSelection:\n",
    "  \"\"\"\n",
    "  Class pour representer la selection des features.\n",
    "  \"\"\"\n",
    "  def __init__(self,sorted_idx, nbr_feature):\n",
    "    self.sorted_idx = sorted_idx\n",
    "    self.nbr_feature = nbr_feature\n",
    "     \n",
    "  def fit(self, X, Y):\n",
    "    return X[:, sorted_idx[:self.nbr_feature]], Y\n",
    "  \n",
    "  def transform(self, X):\n",
    "    return X[:, sorted_idx[:self.nbr_feature]]    "
   ]
  },
  {
   "cell_type": "code",
   "execution_count": 40,
   "id": "0a5e44a8",
   "metadata": {
    "id": "9QmX8hDoTlIC"
   },
   "outputs": [],
   "source": [
    "model = grid_search.best_estimator_\n",
    "fs = FeatureSelection(sorted_idx, 8)"
   ]
  },
  {
   "cell_type": "markdown",
   "id": "41d2f0e7",
   "metadata": {
    "id": "BUVAcPRcV_Ed"
   },
   "source": [
    "### Création du Pipeline"
   ]
  },
  {
   "cell_type": "code",
   "execution_count": 41,
   "id": "f81de719",
   "metadata": {
    "id": "YI1Y0dpGR4Be"
   },
   "outputs": [],
   "source": [
    "# Création du pipeline\n",
    "pipe = Pipeline([('normalization', min_max), ('feature_selection', fs), ('model', model)])"
   ]
  },
  {
   "cell_type": "code",
   "execution_count": 42,
   "id": "75e79476",
   "metadata": {
    "colab": {
     "base_uri": "https://localhost:8080/"
    },
    "id": "IYq1OJFtULoN",
    "outputId": "7c04dfc3-44e7-431f-e8a0-18a9acdb9c21"
   },
   "outputs": [
    {
     "data": {
      "text/plain": [
       "array([1])"
      ]
     },
     "execution_count": 42,
     "metadata": {},
     "output_type": "execute_result"
    }
   ],
   "source": [
    "pipe.predict(x_test[0].reshape(1, *x_test[0].shape))"
   ]
  },
  {
   "cell_type": "code",
   "execution_count": 43,
   "id": "d4554e1c",
   "metadata": {
    "colab": {
     "base_uri": "https://localhost:8080/"
    },
    "id": "GWkhLC3uWWC9",
    "outputId": "1f2d540e-4ac6-4317-e354-42a20bdfb758"
   },
   "outputs": [
    {
     "data": {
      "text/plain": [
       "0.7902193784277879"
      ]
     },
     "execution_count": 43,
     "metadata": {},
     "output_type": "execute_result"
    }
   ],
   "source": [
    "pipe.score(x_test, y_test )"
   ]
  },
  {
   "cell_type": "markdown",
   "id": "628a111b",
   "metadata": {
    "id": "HTQgpr43WE7F"
   },
   "source": [
    "### Exportation du Pipeline"
   ]
  },
  {
   "cell_type": "code",
   "execution_count": 44,
   "id": "ca492a97",
   "metadata": {
    "id": "S4rXgmISSqoU"
   },
   "outputs": [],
   "source": [
    "# Exportation de la pipeline\n",
    "import pickle\n",
    "with open('model_credit.pkl', 'wb') as f:\n",
    "  pickle.dump(pipe, f, pickle.HIGHEST_PROTOCOL)"
   ]
  },
  {
   "cell_type": "markdown",
   "id": "dd82a750",
   "metadata": {
    "id": "kfY_07YiWJsh"
   },
   "source": [
    "### Importation du pipeline"
   ]
  },
  {
   "cell_type": "code",
   "execution_count": 45,
   "id": "7362e228",
   "metadata": {
    "id": "mdRSh6eAUIpU"
   },
   "outputs": [],
   "source": [
    "# Importation de la pipeline sauvegardée\n",
    "with open('model_credit.pkl', 'rb') as f:\n",
    "  pipe_imported = pickle.load(f)\n"
   ]
  },
  {
   "cell_type": "code",
   "execution_count": 46,
   "id": "54050bc3",
   "metadata": {
    "colab": {
     "base_uri": "https://localhost:8080/"
    },
    "id": "AaAIIbVUVDO9",
    "outputId": "f59e2bf1-861d-422f-d118-8a6b2f4aedab"
   },
   "outputs": [
    {
     "data": {
      "text/plain": [
       "0.7902193784277879"
      ]
     },
     "execution_count": 46,
     "metadata": {},
     "output_type": "execute_result"
    }
   ],
   "source": [
    "pipe_imported.score(x_test, y_test)"
   ]
  },
  {
   "cell_type": "markdown",
   "id": "ac8cb96d",
   "metadata": {
    "id": "OWwFvzeGVQFg"
   },
   "source": [
    "## **8. Comparaison de plusieurs algorithmes** \n"
   ]
  },
  {
   "cell_type": "markdown",
   "id": "6f4d9817",
   "metadata": {
    "id": "mZ3FEeRtBAIE"
   },
   "source": [
    "> Dans cette partie on compare plusieurs algorithmes selon un certain nombre de critères."
   ]
  },
  {
   "cell_type": "code",
   "execution_count": 47,
   "id": "f5274436",
   "metadata": {
    "id": "mMAKv2opYmDO"
   },
   "outputs": [],
   "source": [
    "# Chargement de données\n",
    "data = pd.read_csv('credit_scoring.csv', sep=';')"
   ]
  },
  {
   "cell_type": "code",
   "execution_count": 48,
   "id": "8e609cf3",
   "metadata": {
    "id": "Y3ntf0UYYwlr"
   },
   "outputs": [],
   "source": [
    "# Extraction des features et targets\n",
    "X = data.iloc[:,:].values\n",
    "x_data = X[:, :-1]\n",
    "y_data = X[:, -1]"
   ]
  },
  {
   "cell_type": "code",
   "execution_count": 49,
   "id": "57f6c496",
   "metadata": {
    "id": "q3EaItDSZG6Z"
   },
   "outputs": [],
   "source": [
    "# Normalisation des données \n",
    "x_data_norm = MinMaxScaler().fit_transform(x_data)"
   ]
  },
  {
   "cell_type": "code",
   "execution_count": 50,
   "id": "b7279afa",
   "metadata": {
    "id": "xHfVuR0_Vr1F"
   },
   "outputs": [],
   "source": [
    "# Dictionnaire des algorithmes à comparer\n",
    "clfs = {\n",
    "    'RF' : RandomForestClassifier(n_estimators=50, random_state=1),\n",
    "    'KNN' : KNeighborsClassifier(n_neighbors=10),\n",
    "    'DT' : DecisionTreeClassifier(),\n",
    "    'MLP' : MLPClassifier(hidden_layer_sizes=(20, 10), random_state=1),\n",
    "    'B' : BaggingClassifier(n_estimators=50),\n",
    "    'ADA' : AdaBoostClassifier(n_estimators=50),\n",
    "    'NB' : GaussianNB()\n",
    "}"
   ]
  },
  {
   "cell_type": "code",
   "execution_count": 51,
   "id": "7eb673fc",
   "metadata": {
    "id": "nLpUO-73YgfU"
   },
   "outputs": [],
   "source": [
    "import time\n",
    "def run_classifiers(clfs, X, y):\n",
    "    \"\"\"\n",
    "        run models \n",
    "    \"\"\"\n",
    "    kf = KFold(n_splits=10, shuffle=True, random_state=0)\n",
    "    scores = {'Precision_mean': [], 'Precision_std': [], 'Accuracy_mean': [], 'Accuracy_std': [],\n",
    "              'AUC_mean': [], 'AUC_std': [], 'Exec_time': []}\n",
    "    for key, val in clfs.items():\n",
    "        \n",
    "        delta1 = time.time() \n",
    "        scoring = cross_validate(val,X, y, cv=kf, scoring=['precision', 'accuracy', 'roc_auc'])\n",
    "        delta2 = time.time()\n",
    "        \n",
    "        scores['Precision_mean'].append(np.mean(scoring['test_precision']))\n",
    "        scores['Precision_std'].append(np.std(scoring['test_precision']))\n",
    "        \n",
    "        scores['Accuracy_mean'].append(np.mean(scoring['test_accuracy']))\n",
    "        scores['Accuracy_std'].append(np.std(scoring['test_accuracy']))\n",
    "        \n",
    "        scores['AUC_mean'].append(np.mean(scoring['test_roc_auc']))\n",
    "        scores['AUC_std'].append(np.std(scoring['test_roc_auc']))\n",
    "        \n",
    "        scores['Exec_time'].append(delta2 - delta1)\n",
    "         \n",
    "        \n",
    "    df = pd.DataFrame(scores, index=list(clfs.keys()))\n",
    "    return df"
   ]
  },
  {
   "cell_type": "markdown",
   "id": "88ba3cf0",
   "metadata": {
    "id": "fNd86mTbXjUs"
   },
   "source": [
    "### **Sans Normalisation**"
   ]
  },
  {
   "cell_type": "code",
   "execution_count": 52,
   "id": "301fd9d8",
   "metadata": {
    "colab": {
     "base_uri": "https://localhost:8080/",
     "height": 269
    },
    "id": "-DGmilf7Xp6h",
    "outputId": "a2f8c49e-6723-4001-8a33-f7f60d503694"
   },
   "outputs": [
    {
     "data": {
      "text/html": [
       "\n",
       "  <div id=\"df-9f67404c-d13f-4eb9-9b1b-8d4dca3fcad1\">\n",
       "    <div class=\"colab-df-container\">\n",
       "      <div>\n",
       "<style scoped>\n",
       "    .dataframe tbody tr th:only-of-type {\n",
       "        vertical-align: middle;\n",
       "    }\n",
       "\n",
       "    .dataframe tbody tr th {\n",
       "        vertical-align: top;\n",
       "    }\n",
       "\n",
       "    .dataframe thead th {\n",
       "        text-align: right;\n",
       "    }\n",
       "</style>\n",
       "<table border=\"1\" class=\"dataframe\">\n",
       "  <thead>\n",
       "    <tr style=\"text-align: right;\">\n",
       "      <th></th>\n",
       "      <th>Precision_mean</th>\n",
       "      <th>Precision_std</th>\n",
       "      <th>Accuracy_mean</th>\n",
       "      <th>Accuracy_std</th>\n",
       "      <th>AUC_mean</th>\n",
       "      <th>AUC_std</th>\n",
       "      <th>Exec_time</th>\n",
       "    </tr>\n",
       "  </thead>\n",
       "  <tbody>\n",
       "    <tr>\n",
       "      <th>RF</th>\n",
       "      <td>0.818831</td>\n",
       "      <td>0.016441</td>\n",
       "      <td>0.782169</td>\n",
       "      <td>0.014083</td>\n",
       "      <td>0.822798</td>\n",
       "      <td>0.014985</td>\n",
       "      <td>3.018179</td>\n",
       "    </tr>\n",
       "    <tr>\n",
       "      <th>KNN</th>\n",
       "      <td>0.778454</td>\n",
       "      <td>0.019620</td>\n",
       "      <td>0.731652</td>\n",
       "      <td>0.016245</td>\n",
       "      <td>0.680238</td>\n",
       "      <td>0.036953</td>\n",
       "      <td>0.338254</td>\n",
       "    </tr>\n",
       "    <tr>\n",
       "      <th>DT</th>\n",
       "      <td>0.804840</td>\n",
       "      <td>0.020815</td>\n",
       "      <td>0.721371</td>\n",
       "      <td>0.023225</td>\n",
       "      <td>0.649533</td>\n",
       "      <td>0.031668</td>\n",
       "      <td>0.257365</td>\n",
       "    </tr>\n",
       "    <tr>\n",
       "      <th>MLP</th>\n",
       "      <td>0.804251</td>\n",
       "      <td>0.061927</td>\n",
       "      <td>0.699196</td>\n",
       "      <td>0.079948</td>\n",
       "      <td>0.735424</td>\n",
       "      <td>0.030031</td>\n",
       "      <td>8.332518</td>\n",
       "    </tr>\n",
       "    <tr>\n",
       "      <th>B</th>\n",
       "      <td>0.825237</td>\n",
       "      <td>0.016327</td>\n",
       "      <td>0.780341</td>\n",
       "      <td>0.012145</td>\n",
       "      <td>0.815724</td>\n",
       "      <td>0.016561</td>\n",
       "      <td>7.804719</td>\n",
       "    </tr>\n",
       "    <tr>\n",
       "      <th>ADA</th>\n",
       "      <td>0.822515</td>\n",
       "      <td>0.017518</td>\n",
       "      <td>0.788110</td>\n",
       "      <td>0.015590</td>\n",
       "      <td>0.829275</td>\n",
       "      <td>0.021240</td>\n",
       "      <td>2.374357</td>\n",
       "    </tr>\n",
       "    <tr>\n",
       "      <th>NB</th>\n",
       "      <td>0.828111</td>\n",
       "      <td>0.017918</td>\n",
       "      <td>0.772109</td>\n",
       "      <td>0.021881</td>\n",
       "      <td>0.790916</td>\n",
       "      <td>0.025893</td>\n",
       "      <td>0.060582</td>\n",
       "    </tr>\n",
       "  </tbody>\n",
       "</table>\n",
       "</div>\n",
       "      <button class=\"colab-df-convert\" onclick=\"convertToInteractive('df-9f67404c-d13f-4eb9-9b1b-8d4dca3fcad1')\"\n",
       "              title=\"Convert this dataframe to an interactive table.\"\n",
       "              style=\"display:none;\">\n",
       "        \n",
       "  <svg xmlns=\"http://www.w3.org/2000/svg\" height=\"24px\"viewBox=\"0 0 24 24\"\n",
       "       width=\"24px\">\n",
       "    <path d=\"M0 0h24v24H0V0z\" fill=\"none\"/>\n",
       "    <path d=\"M18.56 5.44l.94 2.06.94-2.06 2.06-.94-2.06-.94-.94-2.06-.94 2.06-2.06.94zm-11 1L8.5 8.5l.94-2.06 2.06-.94-2.06-.94L8.5 2.5l-.94 2.06-2.06.94zm10 10l.94 2.06.94-2.06 2.06-.94-2.06-.94-.94-2.06-.94 2.06-2.06.94z\"/><path d=\"M17.41 7.96l-1.37-1.37c-.4-.4-.92-.59-1.43-.59-.52 0-1.04.2-1.43.59L10.3 9.45l-7.72 7.72c-.78.78-.78 2.05 0 2.83L4 21.41c.39.39.9.59 1.41.59.51 0 1.02-.2 1.41-.59l7.78-7.78 2.81-2.81c.8-.78.8-2.07 0-2.86zM5.41 20L4 18.59l7.72-7.72 1.47 1.35L5.41 20z\"/>\n",
       "  </svg>\n",
       "      </button>\n",
       "      \n",
       "  <style>\n",
       "    .colab-df-container {\n",
       "      display:flex;\n",
       "      flex-wrap:wrap;\n",
       "      gap: 12px;\n",
       "    }\n",
       "\n",
       "    .colab-df-convert {\n",
       "      background-color: #E8F0FE;\n",
       "      border: none;\n",
       "      border-radius: 50%;\n",
       "      cursor: pointer;\n",
       "      display: none;\n",
       "      fill: #1967D2;\n",
       "      height: 32px;\n",
       "      padding: 0 0 0 0;\n",
       "      width: 32px;\n",
       "    }\n",
       "\n",
       "    .colab-df-convert:hover {\n",
       "      background-color: #E2EBFA;\n",
       "      box-shadow: 0px 1px 2px rgba(60, 64, 67, 0.3), 0px 1px 3px 1px rgba(60, 64, 67, 0.15);\n",
       "      fill: #174EA6;\n",
       "    }\n",
       "\n",
       "    [theme=dark] .colab-df-convert {\n",
       "      background-color: #3B4455;\n",
       "      fill: #D2E3FC;\n",
       "    }\n",
       "\n",
       "    [theme=dark] .colab-df-convert:hover {\n",
       "      background-color: #434B5C;\n",
       "      box-shadow: 0px 1px 3px 1px rgba(0, 0, 0, 0.15);\n",
       "      filter: drop-shadow(0px 1px 2px rgba(0, 0, 0, 0.3));\n",
       "      fill: #FFFFFF;\n",
       "    }\n",
       "  </style>\n",
       "\n",
       "      <script>\n",
       "        const buttonEl =\n",
       "          document.querySelector('#df-9f67404c-d13f-4eb9-9b1b-8d4dca3fcad1 button.colab-df-convert');\n",
       "        buttonEl.style.display =\n",
       "          google.colab.kernel.accessAllowed ? 'block' : 'none';\n",
       "\n",
       "        async function convertToInteractive(key) {\n",
       "          const element = document.querySelector('#df-9f67404c-d13f-4eb9-9b1b-8d4dca3fcad1');\n",
       "          const dataTable =\n",
       "            await google.colab.kernel.invokeFunction('convertToInteractive',\n",
       "                                                     [key], {});\n",
       "          if (!dataTable) return;\n",
       "\n",
       "          const docLinkHtml = 'Like what you see? Visit the ' +\n",
       "            '<a target=\"_blank\" href=https://colab.research.google.com/notebooks/data_table.ipynb>data table notebook</a>'\n",
       "            + ' to learn more about interactive tables.';\n",
       "          element.innerHTML = '';\n",
       "          dataTable['output_type'] = 'display_data';\n",
       "          await google.colab.output.renderOutput(dataTable, element);\n",
       "          const docLink = document.createElement('div');\n",
       "          docLink.innerHTML = docLinkHtml;\n",
       "          element.appendChild(docLink);\n",
       "        }\n",
       "      </script>\n",
       "    </div>\n",
       "  </div>\n",
       "  "
      ],
      "text/plain": [
       "     Precision_mean  Precision_std  Accuracy_mean  Accuracy_std  AUC_mean  \\\n",
       "RF         0.818831       0.016441       0.782169      0.014083  0.822798   \n",
       "KNN        0.778454       0.019620       0.731652      0.016245  0.680238   \n",
       "DT         0.804840       0.020815       0.721371      0.023225  0.649533   \n",
       "MLP        0.804251       0.061927       0.699196      0.079948  0.735424   \n",
       "B          0.825237       0.016327       0.780341      0.012145  0.815724   \n",
       "ADA        0.822515       0.017518       0.788110      0.015590  0.829275   \n",
       "NB         0.828111       0.017918       0.772109      0.021881  0.790916   \n",
       "\n",
       "      AUC_std  Exec_time  \n",
       "RF   0.014985   3.018179  \n",
       "KNN  0.036953   0.338254  \n",
       "DT   0.031668   0.257365  \n",
       "MLP  0.030031   8.332518  \n",
       "B    0.016561   7.804719  \n",
       "ADA  0.021240   2.374357  \n",
       "NB   0.025893   0.060582  "
      ]
     },
     "execution_count": 52,
     "metadata": {},
     "output_type": "execute_result"
    }
   ],
   "source": [
    "run_classifiers(clfs, x_data, y_data)"
   ]
  },
  {
   "cell_type": "markdown",
   "id": "24d2a85c",
   "metadata": {
    "id": "XTZGetw_XNge"
   },
   "source": [
    "🔑 **Comparaison**\n",
    "> * Le meilleur modèle est Adaboost, il obtient les meilleurs resultats dans presque tous les critères (precision, accuracy, auc).\n",
    "> * En termes de temps d'execution, le  Naive Bayes est le meilleur, 10 fois plus rapide que Random fores et le KNN et 40 plus rapide que ADA. Il a aussi la meilleure precision moyenne.\n",
    "> * Le MLP a la plus petite accuracy.      "
   ]
  },
  {
   "cell_type": "markdown",
   "id": "6dd2d83f",
   "metadata": {
    "id": "LKNK1RqyYMI1"
   },
   "source": [
    "### **Normalization**"
   ]
  },
  {
   "cell_type": "code",
   "execution_count": 53,
   "id": "ec96d0d5",
   "metadata": {
    "colab": {
     "base_uri": "https://localhost:8080/",
     "height": 269
    },
    "id": "X5sJKNRXZiOa",
    "outputId": "9edca269-33c6-4887-b49e-2a057881184d"
   },
   "outputs": [
    {
     "data": {
      "text/html": [
       "\n",
       "  <div id=\"df-44f230fc-cc8a-4938-97ac-296d88f49b14\">\n",
       "    <div class=\"colab-df-container\">\n",
       "      <div>\n",
       "<style scoped>\n",
       "    .dataframe tbody tr th:only-of-type {\n",
       "        vertical-align: middle;\n",
       "    }\n",
       "\n",
       "    .dataframe tbody tr th {\n",
       "        vertical-align: top;\n",
       "    }\n",
       "\n",
       "    .dataframe thead th {\n",
       "        text-align: right;\n",
       "    }\n",
       "</style>\n",
       "<table border=\"1\" class=\"dataframe\">\n",
       "  <thead>\n",
       "    <tr style=\"text-align: right;\">\n",
       "      <th></th>\n",
       "      <th>Precision_mean</th>\n",
       "      <th>Precision_std</th>\n",
       "      <th>Accuracy_mean</th>\n",
       "      <th>Accuracy_std</th>\n",
       "      <th>AUC_mean</th>\n",
       "      <th>AUC_std</th>\n",
       "      <th>Exec_time</th>\n",
       "    </tr>\n",
       "  </thead>\n",
       "  <tbody>\n",
       "    <tr>\n",
       "      <th>RF</th>\n",
       "      <td>0.818635</td>\n",
       "      <td>0.016131</td>\n",
       "      <td>0.782853</td>\n",
       "      <td>0.014320</td>\n",
       "      <td>0.822830</td>\n",
       "      <td>0.015287</td>\n",
       "      <td>2.951030</td>\n",
       "    </tr>\n",
       "    <tr>\n",
       "      <th>KNN</th>\n",
       "      <td>0.817957</td>\n",
       "      <td>0.021284</td>\n",
       "      <td>0.758164</td>\n",
       "      <td>0.024188</td>\n",
       "      <td>0.767221</td>\n",
       "      <td>0.023254</td>\n",
       "      <td>0.534729</td>\n",
       "    </tr>\n",
       "    <tr>\n",
       "      <th>DT</th>\n",
       "      <td>0.807137</td>\n",
       "      <td>0.021889</td>\n",
       "      <td>0.724345</td>\n",
       "      <td>0.023191</td>\n",
       "      <td>0.653577</td>\n",
       "      <td>0.032462</td>\n",
       "      <td>0.255959</td>\n",
       "    </tr>\n",
       "    <tr>\n",
       "      <th>MLP</th>\n",
       "      <td>0.826355</td>\n",
       "      <td>0.014635</td>\n",
       "      <td>0.789941</td>\n",
       "      <td>0.011833</td>\n",
       "      <td>0.835319</td>\n",
       "      <td>0.018537</td>\n",
       "      <td>23.793192</td>\n",
       "    </tr>\n",
       "    <tr>\n",
       "      <th>B</th>\n",
       "      <td>0.824896</td>\n",
       "      <td>0.016337</td>\n",
       "      <td>0.774394</td>\n",
       "      <td>0.012961</td>\n",
       "      <td>0.817887</td>\n",
       "      <td>0.018624</td>\n",
       "      <td>7.705962</td>\n",
       "    </tr>\n",
       "    <tr>\n",
       "      <th>ADA</th>\n",
       "      <td>0.822515</td>\n",
       "      <td>0.017518</td>\n",
       "      <td>0.788110</td>\n",
       "      <td>0.015590</td>\n",
       "      <td>0.829275</td>\n",
       "      <td>0.021240</td>\n",
       "      <td>2.364590</td>\n",
       "    </tr>\n",
       "    <tr>\n",
       "      <th>NB</th>\n",
       "      <td>0.841357</td>\n",
       "      <td>0.015736</td>\n",
       "      <td>0.767772</td>\n",
       "      <td>0.018929</td>\n",
       "      <td>0.795059</td>\n",
       "      <td>0.025065</td>\n",
       "      <td>0.069930</td>\n",
       "    </tr>\n",
       "  </tbody>\n",
       "</table>\n",
       "</div>\n",
       "      <button class=\"colab-df-convert\" onclick=\"convertToInteractive('df-44f230fc-cc8a-4938-97ac-296d88f49b14')\"\n",
       "              title=\"Convert this dataframe to an interactive table.\"\n",
       "              style=\"display:none;\">\n",
       "        \n",
       "  <svg xmlns=\"http://www.w3.org/2000/svg\" height=\"24px\"viewBox=\"0 0 24 24\"\n",
       "       width=\"24px\">\n",
       "    <path d=\"M0 0h24v24H0V0z\" fill=\"none\"/>\n",
       "    <path d=\"M18.56 5.44l.94 2.06.94-2.06 2.06-.94-2.06-.94-.94-2.06-.94 2.06-2.06.94zm-11 1L8.5 8.5l.94-2.06 2.06-.94-2.06-.94L8.5 2.5l-.94 2.06-2.06.94zm10 10l.94 2.06.94-2.06 2.06-.94-2.06-.94-.94-2.06-.94 2.06-2.06.94z\"/><path d=\"M17.41 7.96l-1.37-1.37c-.4-.4-.92-.59-1.43-.59-.52 0-1.04.2-1.43.59L10.3 9.45l-7.72 7.72c-.78.78-.78 2.05 0 2.83L4 21.41c.39.39.9.59 1.41.59.51 0 1.02-.2 1.41-.59l7.78-7.78 2.81-2.81c.8-.78.8-2.07 0-2.86zM5.41 20L4 18.59l7.72-7.72 1.47 1.35L5.41 20z\"/>\n",
       "  </svg>\n",
       "      </button>\n",
       "      \n",
       "  <style>\n",
       "    .colab-df-container {\n",
       "      display:flex;\n",
       "      flex-wrap:wrap;\n",
       "      gap: 12px;\n",
       "    }\n",
       "\n",
       "    .colab-df-convert {\n",
       "      background-color: #E8F0FE;\n",
       "      border: none;\n",
       "      border-radius: 50%;\n",
       "      cursor: pointer;\n",
       "      display: none;\n",
       "      fill: #1967D2;\n",
       "      height: 32px;\n",
       "      padding: 0 0 0 0;\n",
       "      width: 32px;\n",
       "    }\n",
       "\n",
       "    .colab-df-convert:hover {\n",
       "      background-color: #E2EBFA;\n",
       "      box-shadow: 0px 1px 2px rgba(60, 64, 67, 0.3), 0px 1px 3px 1px rgba(60, 64, 67, 0.15);\n",
       "      fill: #174EA6;\n",
       "    }\n",
       "\n",
       "    [theme=dark] .colab-df-convert {\n",
       "      background-color: #3B4455;\n",
       "      fill: #D2E3FC;\n",
       "    }\n",
       "\n",
       "    [theme=dark] .colab-df-convert:hover {\n",
       "      background-color: #434B5C;\n",
       "      box-shadow: 0px 1px 3px 1px rgba(0, 0, 0, 0.15);\n",
       "      filter: drop-shadow(0px 1px 2px rgba(0, 0, 0, 0.3));\n",
       "      fill: #FFFFFF;\n",
       "    }\n",
       "  </style>\n",
       "\n",
       "      <script>\n",
       "        const buttonEl =\n",
       "          document.querySelector('#df-44f230fc-cc8a-4938-97ac-296d88f49b14 button.colab-df-convert');\n",
       "        buttonEl.style.display =\n",
       "          google.colab.kernel.accessAllowed ? 'block' : 'none';\n",
       "\n",
       "        async function convertToInteractive(key) {\n",
       "          const element = document.querySelector('#df-44f230fc-cc8a-4938-97ac-296d88f49b14');\n",
       "          const dataTable =\n",
       "            await google.colab.kernel.invokeFunction('convertToInteractive',\n",
       "                                                     [key], {});\n",
       "          if (!dataTable) return;\n",
       "\n",
       "          const docLinkHtml = 'Like what you see? Visit the ' +\n",
       "            '<a target=\"_blank\" href=https://colab.research.google.com/notebooks/data_table.ipynb>data table notebook</a>'\n",
       "            + ' to learn more about interactive tables.';\n",
       "          element.innerHTML = '';\n",
       "          dataTable['output_type'] = 'display_data';\n",
       "          await google.colab.output.renderOutput(dataTable, element);\n",
       "          const docLink = document.createElement('div');\n",
       "          docLink.innerHTML = docLinkHtml;\n",
       "          element.appendChild(docLink);\n",
       "        }\n",
       "      </script>\n",
       "    </div>\n",
       "  </div>\n",
       "  "
      ],
      "text/plain": [
       "     Precision_mean  Precision_std  Accuracy_mean  Accuracy_std  AUC_mean  \\\n",
       "RF         0.818635       0.016131       0.782853      0.014320  0.822830   \n",
       "KNN        0.817957       0.021284       0.758164      0.024188  0.767221   \n",
       "DT         0.807137       0.021889       0.724345      0.023191  0.653577   \n",
       "MLP        0.826355       0.014635       0.789941      0.011833  0.835319   \n",
       "B          0.824896       0.016337       0.774394      0.012961  0.817887   \n",
       "ADA        0.822515       0.017518       0.788110      0.015590  0.829275   \n",
       "NB         0.841357       0.015736       0.767772      0.018929  0.795059   \n",
       "\n",
       "      AUC_std  Exec_time  \n",
       "RF   0.015287   2.951030  \n",
       "KNN  0.023254   0.534729  \n",
       "DT   0.032462   0.255959  \n",
       "MLP  0.018537  23.793192  \n",
       "B    0.018624   7.705962  \n",
       "ADA  0.021240   2.364590  \n",
       "NB   0.025065   0.069930  "
      ]
     },
     "execution_count": 53,
     "metadata": {},
     "output_type": "execute_result"
    }
   ],
   "source": [
    "run_classifiers(clfs, x_data_norm, y_data)"
   ]
  },
  {
   "cell_type": "markdown",
   "id": "fad87f35",
   "metadata": {
    "id": "WMoR66S-DyVV"
   },
   "source": [
    "🔑 **Comparaison**\n",
    "> * **MLP** a la meilleure accuracy et AUC moyenne et une precision relativement importante mais avec temps d'execution très important (400 fois que le Naive bayes et 8 fois que le Random forest)\n",
    "* **Naive bayes** a la meilleure precision moyenne et un temps d'execution très faible de l'ordre de centième par rapport à tous les modèles.\n",
    "* **Meilleure Accuracy** : MLP, ADABoost, Random Forest\n",
    "* **Meilleure precision** : Naive Bayes, MLP, Bagging\n",
    "* **Meilleure temps d'éxecution**: Naive bayes, Decision tree, KNN\n",
    "* **Meilleure AUC** : MLP, ADAboost, Random forest\n",
    "* **Pire temps d'execution** : MLP, Bagging, Random Forest, ADABoost       "
   ]
  },
  {
   "cell_type": "markdown",
   "id": "a32bb248",
   "metadata": {
    "id": "Ald7L4pKZ2l9"
   },
   "source": [
    "# **II- Apprentissage supervisé : Données hétérogènes**  "
   ]
  },
  {
   "cell_type": "markdown",
   "id": "c70795ea",
   "metadata": {
    "id": "Otd2p05nHHbU"
   },
   "source": [
    "🔑 **Données hétérogènes**\n",
    "> Les données hétérogènes sont des données qui proviennent de sources différentes et qui peuvent avoir des formats différents, des structures de données différentes, ou des granularités différentes. Elles peuvent également être exprimées dans des unités différentes ou avoir des échelles de mesure différentes."
   ]
  },
  {
   "cell_type": "markdown",
   "id": "703882b5",
   "metadata": {
    "id": "aYMt71ILTla0"
   },
   "source": [
    "## **Chargement de données**\n"
   ]
  },
  {
   "cell_type": "markdown",
   "id": "3092fb3f",
   "metadata": {
    "id": "ZC3dUfK2HfSF"
   },
   "source": [
    "> Le fichier \"credit.data\" comporte 688 instances décrites par 15 variables caractéristiques (6 numériques, 9\n",
    "catégorielles) et la variable à prédire \"classe\" (la dernière colonne du fichier) de nature nominale possédant un\n",
    "nombre fini de valeurs (ici deux valeurs \"+\" et \"–\"). Il ne s’agit pas d’une tâche de régression, mais de\n",
    "classification. Les exemples de ce jeu de données représentent des personnes (positifs et négatifs) pour lesquels\n",
    "un crédit a été accordé ou non"
   ]
  },
  {
   "cell_type": "code",
   "execution_count": 54,
   "id": "ac9cb451",
   "metadata": {
    "colab": {
     "base_uri": "https://localhost:8080/",
     "height": 206
    },
    "id": "l_ZgP9aeaH08",
    "outputId": "0d392375-a0cc-4e13-f4ed-8c96f92aa7f3"
   },
   "outputs": [
    {
     "data": {
      "text/html": [
       "\n",
       "  <div id=\"df-3d1357b5-4046-4cca-8943-34cbbf95f949\">\n",
       "    <div class=\"colab-df-container\">\n",
       "      <div>\n",
       "<style scoped>\n",
       "    .dataframe tbody tr th:only-of-type {\n",
       "        vertical-align: middle;\n",
       "    }\n",
       "\n",
       "    .dataframe tbody tr th {\n",
       "        vertical-align: top;\n",
       "    }\n",
       "\n",
       "    .dataframe thead th {\n",
       "        text-align: right;\n",
       "    }\n",
       "</style>\n",
       "<table border=\"1\" class=\"dataframe\">\n",
       "  <thead>\n",
       "    <tr style=\"text-align: right;\">\n",
       "      <th></th>\n",
       "      <th>A0</th>\n",
       "      <th>A1</th>\n",
       "      <th>A2</th>\n",
       "      <th>A3</th>\n",
       "      <th>A4</th>\n",
       "      <th>A5</th>\n",
       "      <th>A6</th>\n",
       "      <th>A7</th>\n",
       "      <th>A8</th>\n",
       "      <th>A9</th>\n",
       "      <th>A10</th>\n",
       "      <th>A11</th>\n",
       "      <th>A12</th>\n",
       "      <th>A13</th>\n",
       "      <th>A14</th>\n",
       "      <th>A15</th>\n",
       "    </tr>\n",
       "  </thead>\n",
       "  <tbody>\n",
       "    <tr>\n",
       "      <th>0</th>\n",
       "      <td>b</td>\n",
       "      <td>30.83</td>\n",
       "      <td>0.000</td>\n",
       "      <td>u</td>\n",
       "      <td>g</td>\n",
       "      <td>w</td>\n",
       "      <td>v</td>\n",
       "      <td>1.25</td>\n",
       "      <td>t</td>\n",
       "      <td>t</td>\n",
       "      <td>1</td>\n",
       "      <td>f</td>\n",
       "      <td>g</td>\n",
       "      <td>202</td>\n",
       "      <td>0</td>\n",
       "      <td>+</td>\n",
       "    </tr>\n",
       "    <tr>\n",
       "      <th>1</th>\n",
       "      <td>a</td>\n",
       "      <td>58.67</td>\n",
       "      <td>4.460</td>\n",
       "      <td>u</td>\n",
       "      <td>g</td>\n",
       "      <td>q</td>\n",
       "      <td>h</td>\n",
       "      <td>3.04</td>\n",
       "      <td>t</td>\n",
       "      <td>t</td>\n",
       "      <td>6</td>\n",
       "      <td>f</td>\n",
       "      <td>g</td>\n",
       "      <td>43</td>\n",
       "      <td>560</td>\n",
       "      <td>+</td>\n",
       "    </tr>\n",
       "    <tr>\n",
       "      <th>2</th>\n",
       "      <td>a</td>\n",
       "      <td>24.50</td>\n",
       "      <td>0.500</td>\n",
       "      <td>u</td>\n",
       "      <td>g</td>\n",
       "      <td>q</td>\n",
       "      <td>h</td>\n",
       "      <td>1.50</td>\n",
       "      <td>t</td>\n",
       "      <td>f</td>\n",
       "      <td>0</td>\n",
       "      <td>f</td>\n",
       "      <td>g</td>\n",
       "      <td>280</td>\n",
       "      <td>824</td>\n",
       "      <td>+</td>\n",
       "    </tr>\n",
       "    <tr>\n",
       "      <th>3</th>\n",
       "      <td>b</td>\n",
       "      <td>27.83</td>\n",
       "      <td>1.540</td>\n",
       "      <td>u</td>\n",
       "      <td>g</td>\n",
       "      <td>w</td>\n",
       "      <td>v</td>\n",
       "      <td>3.75</td>\n",
       "      <td>t</td>\n",
       "      <td>t</td>\n",
       "      <td>5</td>\n",
       "      <td>t</td>\n",
       "      <td>g</td>\n",
       "      <td>100</td>\n",
       "      <td>3</td>\n",
       "      <td>+</td>\n",
       "    </tr>\n",
       "    <tr>\n",
       "      <th>4</th>\n",
       "      <td>b</td>\n",
       "      <td>20.17</td>\n",
       "      <td>5.625</td>\n",
       "      <td>u</td>\n",
       "      <td>g</td>\n",
       "      <td>w</td>\n",
       "      <td>v</td>\n",
       "      <td>1.71</td>\n",
       "      <td>t</td>\n",
       "      <td>f</td>\n",
       "      <td>0</td>\n",
       "      <td>f</td>\n",
       "      <td>s</td>\n",
       "      <td>120</td>\n",
       "      <td>0</td>\n",
       "      <td>+</td>\n",
       "    </tr>\n",
       "  </tbody>\n",
       "</table>\n",
       "</div>\n",
       "      <button class=\"colab-df-convert\" onclick=\"convertToInteractive('df-3d1357b5-4046-4cca-8943-34cbbf95f949')\"\n",
       "              title=\"Convert this dataframe to an interactive table.\"\n",
       "              style=\"display:none;\">\n",
       "        \n",
       "  <svg xmlns=\"http://www.w3.org/2000/svg\" height=\"24px\"viewBox=\"0 0 24 24\"\n",
       "       width=\"24px\">\n",
       "    <path d=\"M0 0h24v24H0V0z\" fill=\"none\"/>\n",
       "    <path d=\"M18.56 5.44l.94 2.06.94-2.06 2.06-.94-2.06-.94-.94-2.06-.94 2.06-2.06.94zm-11 1L8.5 8.5l.94-2.06 2.06-.94-2.06-.94L8.5 2.5l-.94 2.06-2.06.94zm10 10l.94 2.06.94-2.06 2.06-.94-2.06-.94-.94-2.06-.94 2.06-2.06.94z\"/><path d=\"M17.41 7.96l-1.37-1.37c-.4-.4-.92-.59-1.43-.59-.52 0-1.04.2-1.43.59L10.3 9.45l-7.72 7.72c-.78.78-.78 2.05 0 2.83L4 21.41c.39.39.9.59 1.41.59.51 0 1.02-.2 1.41-.59l7.78-7.78 2.81-2.81c.8-.78.8-2.07 0-2.86zM5.41 20L4 18.59l7.72-7.72 1.47 1.35L5.41 20z\"/>\n",
       "  </svg>\n",
       "      </button>\n",
       "      \n",
       "  <style>\n",
       "    .colab-df-container {\n",
       "      display:flex;\n",
       "      flex-wrap:wrap;\n",
       "      gap: 12px;\n",
       "    }\n",
       "\n",
       "    .colab-df-convert {\n",
       "      background-color: #E8F0FE;\n",
       "      border: none;\n",
       "      border-radius: 50%;\n",
       "      cursor: pointer;\n",
       "      display: none;\n",
       "      fill: #1967D2;\n",
       "      height: 32px;\n",
       "      padding: 0 0 0 0;\n",
       "      width: 32px;\n",
       "    }\n",
       "\n",
       "    .colab-df-convert:hover {\n",
       "      background-color: #E2EBFA;\n",
       "      box-shadow: 0px 1px 2px rgba(60, 64, 67, 0.3), 0px 1px 3px 1px rgba(60, 64, 67, 0.15);\n",
       "      fill: #174EA6;\n",
       "    }\n",
       "\n",
       "    [theme=dark] .colab-df-convert {\n",
       "      background-color: #3B4455;\n",
       "      fill: #D2E3FC;\n",
       "    }\n",
       "\n",
       "    [theme=dark] .colab-df-convert:hover {\n",
       "      background-color: #434B5C;\n",
       "      box-shadow: 0px 1px 3px 1px rgba(0, 0, 0, 0.15);\n",
       "      filter: drop-shadow(0px 1px 2px rgba(0, 0, 0, 0.3));\n",
       "      fill: #FFFFFF;\n",
       "    }\n",
       "  </style>\n",
       "\n",
       "      <script>\n",
       "        const buttonEl =\n",
       "          document.querySelector('#df-3d1357b5-4046-4cca-8943-34cbbf95f949 button.colab-df-convert');\n",
       "        buttonEl.style.display =\n",
       "          google.colab.kernel.accessAllowed ? 'block' : 'none';\n",
       "\n",
       "        async function convertToInteractive(key) {\n",
       "          const element = document.querySelector('#df-3d1357b5-4046-4cca-8943-34cbbf95f949');\n",
       "          const dataTable =\n",
       "            await google.colab.kernel.invokeFunction('convertToInteractive',\n",
       "                                                     [key], {});\n",
       "          if (!dataTable) return;\n",
       "\n",
       "          const docLinkHtml = 'Like what you see? Visit the ' +\n",
       "            '<a target=\"_blank\" href=https://colab.research.google.com/notebooks/data_table.ipynb>data table notebook</a>'\n",
       "            + ' to learn more about interactive tables.';\n",
       "          element.innerHTML = '';\n",
       "          dataTable['output_type'] = 'display_data';\n",
       "          await google.colab.output.renderOutput(dataTable, element);\n",
       "          const docLink = document.createElement('div');\n",
       "          docLink.innerHTML = docLinkHtml;\n",
       "          element.appendChild(docLink);\n",
       "        }\n",
       "      </script>\n",
       "    </div>\n",
       "  </div>\n",
       "  "
      ],
      "text/plain": [
       "  A0     A1     A2 A3 A4 A5 A6    A7 A8 A9  A10 A11 A12  A13  A14 A15\n",
       "0  b  30.83  0.000  u  g  w  v  1.25  t  t    1   f   g  202    0   +\n",
       "1  a  58.67  4.460  u  g  q  h  3.04  t  t    6   f   g   43  560   +\n",
       "2  a  24.50  0.500  u  g  q  h  1.50  t  f    0   f   g  280  824   +\n",
       "3  b  27.83  1.540  u  g  w  v  3.75  t  t    5   t   g  100    3   +\n",
       "4  b  20.17  5.625  u  g  w  v  1.71  t  f    0   f   s  120    0   +"
      ]
     },
     "execution_count": 54,
     "metadata": {},
     "output_type": "execute_result"
    }
   ],
   "source": [
    "# Chargement de données\n",
    "data = pd.read_csv('credit.data', sep=None, names=['A' + str(i) for i in range(0, 16) ])\n",
    "data.head()"
   ]
  },
  {
   "cell_type": "code",
   "execution_count": 55,
   "id": "08d7cfee",
   "metadata": {
    "id": "ZpgKE6d9UU05"
   },
   "outputs": [],
   "source": [
    "# Extraction des features et targets\n",
    "X = data.iloc[:,:].values[:, :-1]\n",
    "Y = data.iloc[:,:].values[:,-1]"
   ]
  },
  {
   "cell_type": "code",
   "execution_count": 56,
   "id": "c1bb7a36",
   "metadata": {
    "id": "izGGGsdcdypt"
   },
   "outputs": [],
   "source": [
    "# Remplacement de + et - par respectivement 1, et 0 et conversion en int data type\n",
    "Y = np.where(Y=='+', 1, Y)\n",
    "Y = np.where(Y=='-', 0, Y)\n",
    "Y = Y.astype(np.int)"
   ]
  },
  {
   "cell_type": "code",
   "execution_count": 57,
   "id": "59f6e973",
   "metadata": {
    "id": "NLoaa9ZGaizI"
   },
   "outputs": [],
   "source": [
    "# Extraction des colonnes numériques (col_num) et categorielles (col_cat)\n",
    "col_num = [1, 2, 7, 10, 13, 14]\n",
    "col_cat = [0, 3, 4, 5, 6, 8, 9, 11, 12]"
   ]
  },
  {
   "cell_type": "markdown",
   "id": "153de318",
   "metadata": {
    "id": "hCbZ1sgIfpjw"
   },
   "source": [
    "##**Données numériques**"
   ]
  },
  {
   "cell_type": "markdown",
   "id": "efdb747b",
   "metadata": {
    "id": "uYazPLD-IOfz"
   },
   "source": [
    "> Dans cette section un pretraiment est effectué sur les données\n",
    "* Remplacer les valeurs ? par des np.nan\n",
    "* Suppression des lignes contenant des nan\n",
    "\n",
    "     "
   ]
  },
  {
   "cell_type": "code",
   "execution_count": 58,
   "id": "f562a135",
   "metadata": {
    "id": "w9yWn8Y-a0aG"
   },
   "outputs": [],
   "source": [
    "# Extraction des colonnes numériques\n",
    "X_num = X[:, col_num]\n",
    "\n",
    "# Remplacement des ? par des np.nan\n",
    "X_num[X_num=='?'] = np.nan\n",
    "\n",
    "# Conversion en numpy array\n",
    "X_num = X_num.astype(np.float)\n",
    "\n",
    "# Extraction des lignes contenant des np.nan\n",
    "nan_rows = np.isnan(X_num).any(axis=1)\n",
    "\n",
    "# Suppression des lignes contenant des np.nan \n",
    "X_num = X_num[~nan_rows] "
   ]
  },
  {
   "cell_type": "code",
   "execution_count": 59,
   "id": "cdaf451e",
   "metadata": {
    "id": "f438rdFCbi3w"
   },
   "outputs": [],
   "source": [
    "# suppression des targets donc les lignes contiennent de valeurs null\n",
    "Y_num = Y[~nan_rows]"
   ]
  },
  {
   "cell_type": "code",
   "execution_count": 60,
   "id": "10174ea2",
   "metadata": {
    "colab": {
     "base_uri": "https://localhost:8080/"
    },
    "id": "cpvEyTlCa9se",
    "outputId": "d201e362-e78e-46a9-9ed9-d89251c54690"
   },
   "outputs": [
    {
     "name": "stdout",
     "output_type": "stream",
     "text": [
      "Taille de l'échantillon :  (666, 6)\n",
      "Nombre de targets =  0 : 367 (55.11%)\n",
      "Nombre de targets = 1: 299 (44.89%)\n",
      "Nombres de lignes avec des données manquantes: 22\n"
     ]
    }
   ],
   "source": [
    "n_zeros = np.histogram(Y_num)[0][0]\n",
    "n_ones = np.histogram(Y_num)[0][-1]\n",
    "print(\"Taille de l'échantillon : \", X_num.shape)\n",
    "print(f\"Nombre de targets =  0 : {n_zeros} ({round(n_zeros*100/len(Y_num), 2)}%)\")\n",
    "print(f\"Nombre de targets = 1: {n_ones} ({round(n_ones*100/len(Y_num), 2)}%)\")\n",
    "print(f\"Nombres de lignes avec des données manquantes: {nan_rows.sum()}\")"
   ]
  },
  {
   "cell_type": "code",
   "execution_count": 61,
   "id": "596e733a",
   "metadata": {
    "id": "6N3PIqzSdahX"
   },
   "outputs": [],
   "source": [
    "clfs = {\n",
    "    'RF' : RandomForestClassifier(n_estimators=50, random_state=1),\n",
    "    'KNN' : KNeighborsClassifier(n_neighbors=10),\n",
    "    'DT' : DecisionTreeClassifier(),\n",
    "    'MLP' : MLPClassifier(hidden_layer_sizes=(20, 10), random_state=1),\n",
    "    'B' : BaggingClassifier(n_estimators=50),\n",
    "    'ADA' : AdaBoostClassifier(n_estimators=50),\n",
    "    'NB' : GaussianNB()\n",
    "}"
   ]
  },
  {
   "cell_type": "code",
   "execution_count": 62,
   "id": "96b9ae65",
   "metadata": {
    "colab": {
     "base_uri": "https://localhost:8080/",
     "height": 269
    },
    "id": "yWUomu0-f6po",
    "outputId": "9800d40c-0201-4810-9588-29d92db64833"
   },
   "outputs": [
    {
     "data": {
      "text/html": [
       "\n",
       "  <div id=\"df-3b697e53-ac1d-47f3-b6dc-e3364776fd4c\">\n",
       "    <div class=\"colab-df-container\">\n",
       "      <div>\n",
       "<style scoped>\n",
       "    .dataframe tbody tr th:only-of-type {\n",
       "        vertical-align: middle;\n",
       "    }\n",
       "\n",
       "    .dataframe tbody tr th {\n",
       "        vertical-align: top;\n",
       "    }\n",
       "\n",
       "    .dataframe thead th {\n",
       "        text-align: right;\n",
       "    }\n",
       "</style>\n",
       "<table border=\"1\" class=\"dataframe\">\n",
       "  <thead>\n",
       "    <tr style=\"text-align: right;\">\n",
       "      <th></th>\n",
       "      <th>Precision_mean</th>\n",
       "      <th>Precision_std</th>\n",
       "      <th>Accuracy_mean</th>\n",
       "      <th>Accuracy_std</th>\n",
       "      <th>AUC_mean</th>\n",
       "      <th>AUC_std</th>\n",
       "      <th>Exec_time</th>\n",
       "    </tr>\n",
       "  </thead>\n",
       "  <tbody>\n",
       "    <tr>\n",
       "      <th>RF</th>\n",
       "      <td>0.808115</td>\n",
       "      <td>0.057625</td>\n",
       "      <td>0.788444</td>\n",
       "      <td>0.052703</td>\n",
       "      <td>0.840702</td>\n",
       "      <td>0.046008</td>\n",
       "      <td>1.096737</td>\n",
       "    </tr>\n",
       "    <tr>\n",
       "      <th>KNN</th>\n",
       "      <td>0.756428</td>\n",
       "      <td>0.075043</td>\n",
       "      <td>0.704116</td>\n",
       "      <td>0.054732</td>\n",
       "      <td>0.745043</td>\n",
       "      <td>0.042451</td>\n",
       "      <td>0.069503</td>\n",
       "    </tr>\n",
       "    <tr>\n",
       "      <th>DT</th>\n",
       "      <td>0.683116</td>\n",
       "      <td>0.050696</td>\n",
       "      <td>0.722230</td>\n",
       "      <td>0.039069</td>\n",
       "      <td>0.719847</td>\n",
       "      <td>0.041084</td>\n",
       "      <td>0.052963</td>\n",
       "    </tr>\n",
       "    <tr>\n",
       "      <th>MLP</th>\n",
       "      <td>0.701472</td>\n",
       "      <td>0.070004</td>\n",
       "      <td>0.693623</td>\n",
       "      <td>0.055483</td>\n",
       "      <td>0.723614</td>\n",
       "      <td>0.064319</td>\n",
       "      <td>1.489080</td>\n",
       "    </tr>\n",
       "    <tr>\n",
       "      <th>B</th>\n",
       "      <td>0.800560</td>\n",
       "      <td>0.042422</td>\n",
       "      <td>0.786884</td>\n",
       "      <td>0.048632</td>\n",
       "      <td>0.840353</td>\n",
       "      <td>0.046490</td>\n",
       "      <td>1.488360</td>\n",
       "    </tr>\n",
       "    <tr>\n",
       "      <th>ADA</th>\n",
       "      <td>0.761079</td>\n",
       "      <td>0.060375</td>\n",
       "      <td>0.770398</td>\n",
       "      <td>0.062758</td>\n",
       "      <td>0.840771</td>\n",
       "      <td>0.052779</td>\n",
       "      <td>1.037778</td>\n",
       "    </tr>\n",
       "    <tr>\n",
       "      <th>NB</th>\n",
       "      <td>0.832235</td>\n",
       "      <td>0.051526</td>\n",
       "      <td>0.716101</td>\n",
       "      <td>0.049632</td>\n",
       "      <td>0.793077</td>\n",
       "      <td>0.057967</td>\n",
       "      <td>0.035709</td>\n",
       "    </tr>\n",
       "  </tbody>\n",
       "</table>\n",
       "</div>\n",
       "      <button class=\"colab-df-convert\" onclick=\"convertToInteractive('df-3b697e53-ac1d-47f3-b6dc-e3364776fd4c')\"\n",
       "              title=\"Convert this dataframe to an interactive table.\"\n",
       "              style=\"display:none;\">\n",
       "        \n",
       "  <svg xmlns=\"http://www.w3.org/2000/svg\" height=\"24px\"viewBox=\"0 0 24 24\"\n",
       "       width=\"24px\">\n",
       "    <path d=\"M0 0h24v24H0V0z\" fill=\"none\"/>\n",
       "    <path d=\"M18.56 5.44l.94 2.06.94-2.06 2.06-.94-2.06-.94-.94-2.06-.94 2.06-2.06.94zm-11 1L8.5 8.5l.94-2.06 2.06-.94-2.06-.94L8.5 2.5l-.94 2.06-2.06.94zm10 10l.94 2.06.94-2.06 2.06-.94-2.06-.94-.94-2.06-.94 2.06-2.06.94z\"/><path d=\"M17.41 7.96l-1.37-1.37c-.4-.4-.92-.59-1.43-.59-.52 0-1.04.2-1.43.59L10.3 9.45l-7.72 7.72c-.78.78-.78 2.05 0 2.83L4 21.41c.39.39.9.59 1.41.59.51 0 1.02-.2 1.41-.59l7.78-7.78 2.81-2.81c.8-.78.8-2.07 0-2.86zM5.41 20L4 18.59l7.72-7.72 1.47 1.35L5.41 20z\"/>\n",
       "  </svg>\n",
       "      </button>\n",
       "      \n",
       "  <style>\n",
       "    .colab-df-container {\n",
       "      display:flex;\n",
       "      flex-wrap:wrap;\n",
       "      gap: 12px;\n",
       "    }\n",
       "\n",
       "    .colab-df-convert {\n",
       "      background-color: #E8F0FE;\n",
       "      border: none;\n",
       "      border-radius: 50%;\n",
       "      cursor: pointer;\n",
       "      display: none;\n",
       "      fill: #1967D2;\n",
       "      height: 32px;\n",
       "      padding: 0 0 0 0;\n",
       "      width: 32px;\n",
       "    }\n",
       "\n",
       "    .colab-df-convert:hover {\n",
       "      background-color: #E2EBFA;\n",
       "      box-shadow: 0px 1px 2px rgba(60, 64, 67, 0.3), 0px 1px 3px 1px rgba(60, 64, 67, 0.15);\n",
       "      fill: #174EA6;\n",
       "    }\n",
       "\n",
       "    [theme=dark] .colab-df-convert {\n",
       "      background-color: #3B4455;\n",
       "      fill: #D2E3FC;\n",
       "    }\n",
       "\n",
       "    [theme=dark] .colab-df-convert:hover {\n",
       "      background-color: #434B5C;\n",
       "      box-shadow: 0px 1px 3px 1px rgba(0, 0, 0, 0.15);\n",
       "      filter: drop-shadow(0px 1px 2px rgba(0, 0, 0, 0.3));\n",
       "      fill: #FFFFFF;\n",
       "    }\n",
       "  </style>\n",
       "\n",
       "      <script>\n",
       "        const buttonEl =\n",
       "          document.querySelector('#df-3b697e53-ac1d-47f3-b6dc-e3364776fd4c button.colab-df-convert');\n",
       "        buttonEl.style.display =\n",
       "          google.colab.kernel.accessAllowed ? 'block' : 'none';\n",
       "\n",
       "        async function convertToInteractive(key) {\n",
       "          const element = document.querySelector('#df-3b697e53-ac1d-47f3-b6dc-e3364776fd4c');\n",
       "          const dataTable =\n",
       "            await google.colab.kernel.invokeFunction('convertToInteractive',\n",
       "                                                     [key], {});\n",
       "          if (!dataTable) return;\n",
       "\n",
       "          const docLinkHtml = 'Like what you see? Visit the ' +\n",
       "            '<a target=\"_blank\" href=https://colab.research.google.com/notebooks/data_table.ipynb>data table notebook</a>'\n",
       "            + ' to learn more about interactive tables.';\n",
       "          element.innerHTML = '';\n",
       "          dataTable['output_type'] = 'display_data';\n",
       "          await google.colab.output.renderOutput(dataTable, element);\n",
       "          const docLink = document.createElement('div');\n",
       "          docLink.innerHTML = docLinkHtml;\n",
       "          element.appendChild(docLink);\n",
       "        }\n",
       "      </script>\n",
       "    </div>\n",
       "  </div>\n",
       "  "
      ],
      "text/plain": [
       "     Precision_mean  Precision_std  Accuracy_mean  Accuracy_std  AUC_mean  \\\n",
       "RF         0.808115       0.057625       0.788444      0.052703  0.840702   \n",
       "KNN        0.756428       0.075043       0.704116      0.054732  0.745043   \n",
       "DT         0.683116       0.050696       0.722230      0.039069  0.719847   \n",
       "MLP        0.701472       0.070004       0.693623      0.055483  0.723614   \n",
       "B          0.800560       0.042422       0.786884      0.048632  0.840353   \n",
       "ADA        0.761079       0.060375       0.770398      0.062758  0.840771   \n",
       "NB         0.832235       0.051526       0.716101      0.049632  0.793077   \n",
       "\n",
       "      AUC_std  Exec_time  \n",
       "RF   0.046008   1.096737  \n",
       "KNN  0.042451   0.069503  \n",
       "DT   0.041084   0.052963  \n",
       "MLP  0.064319   1.489080  \n",
       "B    0.046490   1.488360  \n",
       "ADA  0.052779   1.037778  \n",
       "NB   0.057967   0.035709  "
      ]
     },
     "execution_count": 62,
     "metadata": {},
     "output_type": "execute_result"
    }
   ],
   "source": [
    "# Sans normalization\n",
    "run_classifiers(clfs, X_num, Y_num )"
   ]
  },
  {
   "cell_type": "markdown",
   "id": "865e425b",
   "metadata": {
    "id": "Z-ocVOrtKEMW"
   },
   "source": [
    "🔑**Sans Normalization**\n",
    "- Meilleur accuracy : Random Forest\n",
    "- Meilleure precision : Naive bayes\n",
    "- Meilleure AUC : Adaboost"
   ]
  },
  {
   "cell_type": "code",
   "execution_count": 63,
   "id": "d7bb8ac6",
   "metadata": {
    "colab": {
     "base_uri": "https://localhost:8080/",
     "height": 269
    },
    "id": "-54lfSg8gAuo",
    "outputId": "7ff65e0a-11b3-4087-ed7f-f1d537027612"
   },
   "outputs": [
    {
     "data": {
      "text/html": [
       "\n",
       "  <div id=\"df-dd01a06d-de38-43a8-a8f5-29dae1b85767\">\n",
       "    <div class=\"colab-df-container\">\n",
       "      <div>\n",
       "<style scoped>\n",
       "    .dataframe tbody tr th:only-of-type {\n",
       "        vertical-align: middle;\n",
       "    }\n",
       "\n",
       "    .dataframe tbody tr th {\n",
       "        vertical-align: top;\n",
       "    }\n",
       "\n",
       "    .dataframe thead th {\n",
       "        text-align: right;\n",
       "    }\n",
       "</style>\n",
       "<table border=\"1\" class=\"dataframe\">\n",
       "  <thead>\n",
       "    <tr style=\"text-align: right;\">\n",
       "      <th></th>\n",
       "      <th>Precision_mean</th>\n",
       "      <th>Precision_std</th>\n",
       "      <th>Accuracy_mean</th>\n",
       "      <th>Accuracy_std</th>\n",
       "      <th>AUC_mean</th>\n",
       "      <th>AUC_std</th>\n",
       "      <th>Exec_time</th>\n",
       "    </tr>\n",
       "  </thead>\n",
       "  <tbody>\n",
       "    <tr>\n",
       "      <th>RF</th>\n",
       "      <td>0.808115</td>\n",
       "      <td>0.057625</td>\n",
       "      <td>0.788444</td>\n",
       "      <td>0.052703</td>\n",
       "      <td>0.840512</td>\n",
       "      <td>0.045591</td>\n",
       "      <td>1.058688</td>\n",
       "    </tr>\n",
       "    <tr>\n",
       "      <th>KNN</th>\n",
       "      <td>0.822741</td>\n",
       "      <td>0.081804</td>\n",
       "      <td>0.728268</td>\n",
       "      <td>0.070027</td>\n",
       "      <td>0.799063</td>\n",
       "      <td>0.072877</td>\n",
       "      <td>0.066418</td>\n",
       "    </tr>\n",
       "    <tr>\n",
       "      <th>DT</th>\n",
       "      <td>0.694772</td>\n",
       "      <td>0.045876</td>\n",
       "      <td>0.726707</td>\n",
       "      <td>0.036720</td>\n",
       "      <td>0.722869</td>\n",
       "      <td>0.038435</td>\n",
       "      <td>0.047104</td>\n",
       "    </tr>\n",
       "    <tr>\n",
       "      <th>MLP</th>\n",
       "      <td>0.821846</td>\n",
       "      <td>0.074624</td>\n",
       "      <td>0.767277</td>\n",
       "      <td>0.049203</td>\n",
       "      <td>0.825604</td>\n",
       "      <td>0.056419</td>\n",
       "      <td>3.640445</td>\n",
       "    </tr>\n",
       "    <tr>\n",
       "      <th>B</th>\n",
       "      <td>0.799221</td>\n",
       "      <td>0.051824</td>\n",
       "      <td>0.785369</td>\n",
       "      <td>0.046607</td>\n",
       "      <td>0.832990</td>\n",
       "      <td>0.047760</td>\n",
       "      <td>1.474803</td>\n",
       "    </tr>\n",
       "    <tr>\n",
       "      <th>ADA</th>\n",
       "      <td>0.761079</td>\n",
       "      <td>0.060375</td>\n",
       "      <td>0.770398</td>\n",
       "      <td>0.062758</td>\n",
       "      <td>0.840771</td>\n",
       "      <td>0.052779</td>\n",
       "      <td>0.997747</td>\n",
       "    </tr>\n",
       "    <tr>\n",
       "      <th>NB</th>\n",
       "      <td>0.832235</td>\n",
       "      <td>0.051526</td>\n",
       "      <td>0.716101</td>\n",
       "      <td>0.049632</td>\n",
       "      <td>0.793124</td>\n",
       "      <td>0.057912</td>\n",
       "      <td>0.033691</td>\n",
       "    </tr>\n",
       "  </tbody>\n",
       "</table>\n",
       "</div>\n",
       "      <button class=\"colab-df-convert\" onclick=\"convertToInteractive('df-dd01a06d-de38-43a8-a8f5-29dae1b85767')\"\n",
       "              title=\"Convert this dataframe to an interactive table.\"\n",
       "              style=\"display:none;\">\n",
       "        \n",
       "  <svg xmlns=\"http://www.w3.org/2000/svg\" height=\"24px\"viewBox=\"0 0 24 24\"\n",
       "       width=\"24px\">\n",
       "    <path d=\"M0 0h24v24H0V0z\" fill=\"none\"/>\n",
       "    <path d=\"M18.56 5.44l.94 2.06.94-2.06 2.06-.94-2.06-.94-.94-2.06-.94 2.06-2.06.94zm-11 1L8.5 8.5l.94-2.06 2.06-.94-2.06-.94L8.5 2.5l-.94 2.06-2.06.94zm10 10l.94 2.06.94-2.06 2.06-.94-2.06-.94-.94-2.06-.94 2.06-2.06.94z\"/><path d=\"M17.41 7.96l-1.37-1.37c-.4-.4-.92-.59-1.43-.59-.52 0-1.04.2-1.43.59L10.3 9.45l-7.72 7.72c-.78.78-.78 2.05 0 2.83L4 21.41c.39.39.9.59 1.41.59.51 0 1.02-.2 1.41-.59l7.78-7.78 2.81-2.81c.8-.78.8-2.07 0-2.86zM5.41 20L4 18.59l7.72-7.72 1.47 1.35L5.41 20z\"/>\n",
       "  </svg>\n",
       "      </button>\n",
       "      \n",
       "  <style>\n",
       "    .colab-df-container {\n",
       "      display:flex;\n",
       "      flex-wrap:wrap;\n",
       "      gap: 12px;\n",
       "    }\n",
       "\n",
       "    .colab-df-convert {\n",
       "      background-color: #E8F0FE;\n",
       "      border: none;\n",
       "      border-radius: 50%;\n",
       "      cursor: pointer;\n",
       "      display: none;\n",
       "      fill: #1967D2;\n",
       "      height: 32px;\n",
       "      padding: 0 0 0 0;\n",
       "      width: 32px;\n",
       "    }\n",
       "\n",
       "    .colab-df-convert:hover {\n",
       "      background-color: #E2EBFA;\n",
       "      box-shadow: 0px 1px 2px rgba(60, 64, 67, 0.3), 0px 1px 3px 1px rgba(60, 64, 67, 0.15);\n",
       "      fill: #174EA6;\n",
       "    }\n",
       "\n",
       "    [theme=dark] .colab-df-convert {\n",
       "      background-color: #3B4455;\n",
       "      fill: #D2E3FC;\n",
       "    }\n",
       "\n",
       "    [theme=dark] .colab-df-convert:hover {\n",
       "      background-color: #434B5C;\n",
       "      box-shadow: 0px 1px 3px 1px rgba(0, 0, 0, 0.15);\n",
       "      filter: drop-shadow(0px 1px 2px rgba(0, 0, 0, 0.3));\n",
       "      fill: #FFFFFF;\n",
       "    }\n",
       "  </style>\n",
       "\n",
       "      <script>\n",
       "        const buttonEl =\n",
       "          document.querySelector('#df-dd01a06d-de38-43a8-a8f5-29dae1b85767 button.colab-df-convert');\n",
       "        buttonEl.style.display =\n",
       "          google.colab.kernel.accessAllowed ? 'block' : 'none';\n",
       "\n",
       "        async function convertToInteractive(key) {\n",
       "          const element = document.querySelector('#df-dd01a06d-de38-43a8-a8f5-29dae1b85767');\n",
       "          const dataTable =\n",
       "            await google.colab.kernel.invokeFunction('convertToInteractive',\n",
       "                                                     [key], {});\n",
       "          if (!dataTable) return;\n",
       "\n",
       "          const docLinkHtml = 'Like what you see? Visit the ' +\n",
       "            '<a target=\"_blank\" href=https://colab.research.google.com/notebooks/data_table.ipynb>data table notebook</a>'\n",
       "            + ' to learn more about interactive tables.';\n",
       "          element.innerHTML = '';\n",
       "          dataTable['output_type'] = 'display_data';\n",
       "          await google.colab.output.renderOutput(dataTable, element);\n",
       "          const docLink = document.createElement('div');\n",
       "          docLink.innerHTML = docLinkHtml;\n",
       "          element.appendChild(docLink);\n",
       "        }\n",
       "      </script>\n",
       "    </div>\n",
       "  </div>\n",
       "  "
      ],
      "text/plain": [
       "     Precision_mean  Precision_std  Accuracy_mean  Accuracy_std  AUC_mean  \\\n",
       "RF         0.808115       0.057625       0.788444      0.052703  0.840512   \n",
       "KNN        0.822741       0.081804       0.728268      0.070027  0.799063   \n",
       "DT         0.694772       0.045876       0.726707      0.036720  0.722869   \n",
       "MLP        0.821846       0.074624       0.767277      0.049203  0.825604   \n",
       "B          0.799221       0.051824       0.785369      0.046607  0.832990   \n",
       "ADA        0.761079       0.060375       0.770398      0.062758  0.840771   \n",
       "NB         0.832235       0.051526       0.716101      0.049632  0.793124   \n",
       "\n",
       "      AUC_std  Exec_time  \n",
       "RF   0.045591   1.058688  \n",
       "KNN  0.072877   0.066418  \n",
       "DT   0.038435   0.047104  \n",
       "MLP  0.056419   3.640445  \n",
       "B    0.047760   1.474803  \n",
       "ADA  0.052779   0.997747  \n",
       "NB   0.057912   0.033691  "
      ]
     },
     "execution_count": 63,
     "metadata": {},
     "output_type": "execute_result"
    }
   ],
   "source": [
    "# Avec Normalization\n",
    "scaler = MinMaxScaler()\n",
    "X_num_scaled = scaler.fit_transform(X_num)\n",
    "run_classifiers(clfs, X_num_scaled, Y_num)"
   ]
  },
  {
   "cell_type": "markdown",
   "id": "d69b9fb1",
   "metadata": {
    "id": "O8frvAIMKfqx"
   },
   "source": [
    "🔑 Avec Normalization\n",
    "- Meilleur accuracy : Random Forest\n",
    "- Meilleure precision : Naive bayes\n",
    "- Meilleure AUC : Adaboost"
   ]
  },
  {
   "cell_type": "markdown",
   "id": "b6f1a048",
   "metadata": {
    "id": "kKD1lOWbiIeB"
   },
   "source": [
    "## **Traitement des données manquantes**"
   ]
  },
  {
   "cell_type": "code",
   "execution_count": 64,
   "id": "d2ffe631",
   "metadata": {
    "id": "G6-HqqNXjbxG"
   },
   "outputs": [],
   "source": [
    "from sklearn.preprocessing import OneHotEncoder\n",
    "from sklearn.impute import SimpleImputer as Imputer"
   ]
  },
  {
   "cell_type": "code",
   "execution_count": 65,
   "id": "7eb6e871",
   "metadata": {
    "id": "1HkOcrKEgfuZ"
   },
   "outputs": [],
   "source": [
    "# Extraction des collones categorielles \n",
    "X_cat = X[:, col_cat]"
   ]
  },
  {
   "cell_type": "code",
   "execution_count": 66,
   "id": "aaebc7ac",
   "metadata": {
    "id": "byHofLRhigJy"
   },
   "outputs": [],
   "source": [
    "for col_id in range(len(col_cat)):\n",
    "  unique_val, val_idx = np.unique(X_cat[:, col_id], return_inverse=True)\n",
    "  X_cat[:, col_id] = val_idx "
   ]
  },
  {
   "cell_type": "code",
   "execution_count": 67,
   "id": "a1e83c0d",
   "metadata": {
    "id": "7FL2Ju12jSp_"
   },
   "outputs": [],
   "source": [
    "# Remplacement de données manquantes par la valeur la plus frequente de la colonne\n",
    "imp_cat = Imputer(missing_values=0, strategy='most_frequent')\n",
    "X_cat[:, range(5)] = imp_cat.fit_transform(X_cat[:, range(5)]) "
   ]
  },
  {
   "cell_type": "code",
   "execution_count": 68,
   "id": "a23dc1af",
   "metadata": {
    "id": "4PWIFiLokDJP"
   },
   "outputs": [],
   "source": [
    "# Extraction des colonnes numériques et remplacement des valeurs manquantes \n",
    "# par la moyenne de la colonne  \n",
    "X_num = X[:, col_num]\n",
    "X_num[X_num == '?'] = np.nan\n",
    "X_num = X_num.astype(float) \n",
    "imp_num = Imputer(missing_values=np.nan, strategy='mean')\n",
    "X_num = imp_num.fit_transform(X_num)"
   ]
  },
  {
   "cell_type": "markdown",
   "id": "04c6b5d9",
   "metadata": {
    "id": "KlNxRnCtk_dn"
   },
   "source": [
    "## **Traitement des variables Catégorielles et concaténation**"
   ]
  },
  {
   "cell_type": "code",
   "execution_count": 69,
   "id": "68efdd04",
   "metadata": {
    "id": "1LVnBZG3knI3"
   },
   "outputs": [],
   "source": [
    "# Conversion des valeurs categorielles en valeurs numeriques avec OneHotEncoding\n",
    "X_cat_bin = OneHotEncoder().fit_transform(X_cat).toarray()\n",
    "\n",
    "# Normalization des valeurs numeriques et concatenation   \n",
    "X_num_scaled = StandardScaler().fit_transform(X_num)\n",
    "X_extended = np.concatenate([X_num_scaled, X_cat_bin], axis=1) "
   ]
  },
  {
   "cell_type": "code",
   "execution_count": 70,
   "id": "4c9f6ad6",
   "metadata": {
    "colab": {
     "base_uri": "https://localhost:8080/",
     "height": 269
    },
    "id": "uxgitsvElzVz",
    "outputId": "1b6f3309-d3a7-4c6d-f458-2c1e2d20e1ae"
   },
   "outputs": [
    {
     "data": {
      "text/html": [
       "\n",
       "  <div id=\"df-617b98d4-c426-4f48-a188-f24ac3ea250d\">\n",
       "    <div class=\"colab-df-container\">\n",
       "      <div>\n",
       "<style scoped>\n",
       "    .dataframe tbody tr th:only-of-type {\n",
       "        vertical-align: middle;\n",
       "    }\n",
       "\n",
       "    .dataframe tbody tr th {\n",
       "        vertical-align: top;\n",
       "    }\n",
       "\n",
       "    .dataframe thead th {\n",
       "        text-align: right;\n",
       "    }\n",
       "</style>\n",
       "<table border=\"1\" class=\"dataframe\">\n",
       "  <thead>\n",
       "    <tr style=\"text-align: right;\">\n",
       "      <th></th>\n",
       "      <th>Precision_mean</th>\n",
       "      <th>Precision_std</th>\n",
       "      <th>Accuracy_mean</th>\n",
       "      <th>Accuracy_std</th>\n",
       "      <th>AUC_mean</th>\n",
       "      <th>AUC_std</th>\n",
       "      <th>Exec_time</th>\n",
       "    </tr>\n",
       "  </thead>\n",
       "  <tbody>\n",
       "    <tr>\n",
       "      <th>RF</th>\n",
       "      <td>0.860505</td>\n",
       "      <td>0.042753</td>\n",
       "      <td>0.877920</td>\n",
       "      <td>0.029092</td>\n",
       "      <td>0.929815</td>\n",
       "      <td>0.029295</td>\n",
       "      <td>1.015974</td>\n",
       "    </tr>\n",
       "    <tr>\n",
       "      <th>KNN</th>\n",
       "      <td>0.881801</td>\n",
       "      <td>0.042787</td>\n",
       "      <td>0.847421</td>\n",
       "      <td>0.047651</td>\n",
       "      <td>0.910535</td>\n",
       "      <td>0.031243</td>\n",
       "      <td>0.124412</td>\n",
       "    </tr>\n",
       "    <tr>\n",
       "      <th>DT</th>\n",
       "      <td>0.792133</td>\n",
       "      <td>0.080501</td>\n",
       "      <td>0.816795</td>\n",
       "      <td>0.047153</td>\n",
       "      <td>0.816367</td>\n",
       "      <td>0.046366</td>\n",
       "      <td>0.130642</td>\n",
       "    </tr>\n",
       "    <tr>\n",
       "      <th>MLP</th>\n",
       "      <td>0.830443</td>\n",
       "      <td>0.056683</td>\n",
       "      <td>0.854625</td>\n",
       "      <td>0.042094</td>\n",
       "      <td>0.920446</td>\n",
       "      <td>0.037947</td>\n",
       "      <td>5.135624</td>\n",
       "    </tr>\n",
       "    <tr>\n",
       "      <th>B</th>\n",
       "      <td>0.843833</td>\n",
       "      <td>0.044895</td>\n",
       "      <td>0.864791</td>\n",
       "      <td>0.034535</td>\n",
       "      <td>0.929051</td>\n",
       "      <td>0.024723</td>\n",
       "      <td>1.804806</td>\n",
       "    </tr>\n",
       "    <tr>\n",
       "      <th>ADA</th>\n",
       "      <td>0.814491</td>\n",
       "      <td>0.069181</td>\n",
       "      <td>0.844437</td>\n",
       "      <td>0.036898</td>\n",
       "      <td>0.915874</td>\n",
       "      <td>0.031656</td>\n",
       "      <td>1.171716</td>\n",
       "    </tr>\n",
       "    <tr>\n",
       "      <th>NB</th>\n",
       "      <td>0.868394</td>\n",
       "      <td>0.094080</td>\n",
       "      <td>0.720972</td>\n",
       "      <td>0.048370</td>\n",
       "      <td>0.877746</td>\n",
       "      <td>0.044064</td>\n",
       "      <td>0.037470</td>\n",
       "    </tr>\n",
       "  </tbody>\n",
       "</table>\n",
       "</div>\n",
       "      <button class=\"colab-df-convert\" onclick=\"convertToInteractive('df-617b98d4-c426-4f48-a188-f24ac3ea250d')\"\n",
       "              title=\"Convert this dataframe to an interactive table.\"\n",
       "              style=\"display:none;\">\n",
       "        \n",
       "  <svg xmlns=\"http://www.w3.org/2000/svg\" height=\"24px\"viewBox=\"0 0 24 24\"\n",
       "       width=\"24px\">\n",
       "    <path d=\"M0 0h24v24H0V0z\" fill=\"none\"/>\n",
       "    <path d=\"M18.56 5.44l.94 2.06.94-2.06 2.06-.94-2.06-.94-.94-2.06-.94 2.06-2.06.94zm-11 1L8.5 8.5l.94-2.06 2.06-.94-2.06-.94L8.5 2.5l-.94 2.06-2.06.94zm10 10l.94 2.06.94-2.06 2.06-.94-2.06-.94-.94-2.06-.94 2.06-2.06.94z\"/><path d=\"M17.41 7.96l-1.37-1.37c-.4-.4-.92-.59-1.43-.59-.52 0-1.04.2-1.43.59L10.3 9.45l-7.72 7.72c-.78.78-.78 2.05 0 2.83L4 21.41c.39.39.9.59 1.41.59.51 0 1.02-.2 1.41-.59l7.78-7.78 2.81-2.81c.8-.78.8-2.07 0-2.86zM5.41 20L4 18.59l7.72-7.72 1.47 1.35L5.41 20z\"/>\n",
       "  </svg>\n",
       "      </button>\n",
       "      \n",
       "  <style>\n",
       "    .colab-df-container {\n",
       "      display:flex;\n",
       "      flex-wrap:wrap;\n",
       "      gap: 12px;\n",
       "    }\n",
       "\n",
       "    .colab-df-convert {\n",
       "      background-color: #E8F0FE;\n",
       "      border: none;\n",
       "      border-radius: 50%;\n",
       "      cursor: pointer;\n",
       "      display: none;\n",
       "      fill: #1967D2;\n",
       "      height: 32px;\n",
       "      padding: 0 0 0 0;\n",
       "      width: 32px;\n",
       "    }\n",
       "\n",
       "    .colab-df-convert:hover {\n",
       "      background-color: #E2EBFA;\n",
       "      box-shadow: 0px 1px 2px rgba(60, 64, 67, 0.3), 0px 1px 3px 1px rgba(60, 64, 67, 0.15);\n",
       "      fill: #174EA6;\n",
       "    }\n",
       "\n",
       "    [theme=dark] .colab-df-convert {\n",
       "      background-color: #3B4455;\n",
       "      fill: #D2E3FC;\n",
       "    }\n",
       "\n",
       "    [theme=dark] .colab-df-convert:hover {\n",
       "      background-color: #434B5C;\n",
       "      box-shadow: 0px 1px 3px 1px rgba(0, 0, 0, 0.15);\n",
       "      filter: drop-shadow(0px 1px 2px rgba(0, 0, 0, 0.3));\n",
       "      fill: #FFFFFF;\n",
       "    }\n",
       "  </style>\n",
       "\n",
       "      <script>\n",
       "        const buttonEl =\n",
       "          document.querySelector('#df-617b98d4-c426-4f48-a188-f24ac3ea250d button.colab-df-convert');\n",
       "        buttonEl.style.display =\n",
       "          google.colab.kernel.accessAllowed ? 'block' : 'none';\n",
       "\n",
       "        async function convertToInteractive(key) {\n",
       "          const element = document.querySelector('#df-617b98d4-c426-4f48-a188-f24ac3ea250d');\n",
       "          const dataTable =\n",
       "            await google.colab.kernel.invokeFunction('convertToInteractive',\n",
       "                                                     [key], {});\n",
       "          if (!dataTable) return;\n",
       "\n",
       "          const docLinkHtml = 'Like what you see? Visit the ' +\n",
       "            '<a target=\"_blank\" href=https://colab.research.google.com/notebooks/data_table.ipynb>data table notebook</a>'\n",
       "            + ' to learn more about interactive tables.';\n",
       "          element.innerHTML = '';\n",
       "          dataTable['output_type'] = 'display_data';\n",
       "          await google.colab.output.renderOutput(dataTable, element);\n",
       "          const docLink = document.createElement('div');\n",
       "          docLink.innerHTML = docLinkHtml;\n",
       "          element.appendChild(docLink);\n",
       "        }\n",
       "      </script>\n",
       "    </div>\n",
       "  </div>\n",
       "  "
      ],
      "text/plain": [
       "     Precision_mean  Precision_std  Accuracy_mean  Accuracy_std  AUC_mean  \\\n",
       "RF         0.860505       0.042753       0.877920      0.029092  0.929815   \n",
       "KNN        0.881801       0.042787       0.847421      0.047651  0.910535   \n",
       "DT         0.792133       0.080501       0.816795      0.047153  0.816367   \n",
       "MLP        0.830443       0.056683       0.854625      0.042094  0.920446   \n",
       "B          0.843833       0.044895       0.864791      0.034535  0.929051   \n",
       "ADA        0.814491       0.069181       0.844437      0.036898  0.915874   \n",
       "NB         0.868394       0.094080       0.720972      0.048370  0.877746   \n",
       "\n",
       "      AUC_std  Exec_time  \n",
       "RF   0.029295   1.015974  \n",
       "KNN  0.031243   0.124412  \n",
       "DT   0.046366   0.130642  \n",
       "MLP  0.037947   5.135624  \n",
       "B    0.024723   1.804806  \n",
       "ADA  0.031656   1.171716  \n",
       "NB   0.044064   0.037470  "
      ]
     },
     "execution_count": 70,
     "metadata": {},
     "output_type": "execute_result"
    }
   ],
   "source": [
    "run_classifiers(clfs, X_extended, Y)"
   ]
  },
  {
   "cell_type": "markdown",
   "id": "fecec5bb",
   "metadata": {
    "id": "6E9UjEqfL7UF"
   },
   "source": [
    "> * Meilleure accuracy : Random forest\n",
    "> * Meilleure precision : KNN, Naive bayes, Bagging, Random Forst \n",
    "> * Meilleure AUC : Random Forest\n",
    "> * Meilleur temps d'execution: Naive bayes, Decision tree, KNN, ADAboost, Random Forest"
   ]
  },
  {
   "cell_type": "markdown",
   "id": "2a186891",
   "metadata": {
    "id": "HwoAw50QoRJ9"
   },
   "source": [
    "# **III- Apprentissage sur des données textuelles**"
   ]
  },
  {
   "cell_type": "markdown",
   "id": "e16e7bc1",
   "metadata": {
    "id": "wbwvyyo-No8C"
   },
   "source": [
    ">**objectif** : L’objectif dans cette partie est de faire une étude comparative entre plusieurs algorithmes d’apprentissage\n",
    "supervisé sur un jeu de données textuelles de SMS (\"SMSSpamCollection.data\") pour prédire si un message\n",
    "est un spam ou pas."
   ]
  },
  {
   "cell_type": "code",
   "execution_count": 71,
   "id": "28e1657d",
   "metadata": {
    "id": "1eW4EbOcbXOn"
   },
   "outputs": [],
   "source": [
    "from sklearn.feature_extraction.text import CountVectorizer\n",
    "from sklearn.feature_extraction.text import TfidfVectorizer\n",
    "from sklearn.decomposition import TruncatedSVD"
   ]
  },
  {
   "cell_type": "code",
   "execution_count": 72,
   "id": "1ca20526",
   "metadata": {
    "id": "Ptv5et41ckJa"
   },
   "outputs": [],
   "source": [
    "# Dictionnaire des algorithmes à comparer\n",
    "clfs = {\n",
    "    'RF' : RandomForestClassifier(n_estimators=50, random_state=1),\n",
    "    'KNN' : KNeighborsClassifier(n_neighbors=10),\n",
    "    'DT' : DecisionTreeClassifier(),\n",
    "    'MLP' : MLPClassifier(hidden_layer_sizes=(20, 10), random_state=1),\n",
    "    'B' : BaggingClassifier(n_estimators=50),\n",
    "    'ADA' : AdaBoostClassifier(n_estimators=50)\n",
    "}"
   ]
  },
  {
   "cell_type": "markdown",
   "id": "bed3e0eb",
   "metadata": {
    "id": "AN_l9TFgZax4"
   },
   "source": [
    "## **Chargement des données**"
   ]
  },
  {
   "cell_type": "code",
   "execution_count": 73,
   "id": "90ebe691",
   "metadata": {
    "id": "dnZcd9RtoYJN"
   },
   "outputs": [],
   "source": [
    "# Chargement de données\n",
    "data = pd.read_csv(\"./SMSSpamCollection.data\", sep=\"\\t\", names=['category', 'mail'])"
   ]
  },
  {
   "cell_type": "code",
   "execution_count": 74,
   "id": "bbb8d5b8",
   "metadata": {
    "colab": {
     "base_uri": "https://localhost:8080/",
     "height": 206
    },
    "id": "-bAmbvXuaZFQ",
    "outputId": "80314c39-a8cd-4ee7-d4dc-e3c0e9ccf8f6"
   },
   "outputs": [
    {
     "data": {
      "text/html": [
       "\n",
       "  <div id=\"df-3d08b3ad-707b-4935-85a6-21ea30e4f111\">\n",
       "    <div class=\"colab-df-container\">\n",
       "      <div>\n",
       "<style scoped>\n",
       "    .dataframe tbody tr th:only-of-type {\n",
       "        vertical-align: middle;\n",
       "    }\n",
       "\n",
       "    .dataframe tbody tr th {\n",
       "        vertical-align: top;\n",
       "    }\n",
       "\n",
       "    .dataframe thead th {\n",
       "        text-align: right;\n",
       "    }\n",
       "</style>\n",
       "<table border=\"1\" class=\"dataframe\">\n",
       "  <thead>\n",
       "    <tr style=\"text-align: right;\">\n",
       "      <th></th>\n",
       "      <th>category</th>\n",
       "      <th>mail</th>\n",
       "    </tr>\n",
       "  </thead>\n",
       "  <tbody>\n",
       "    <tr>\n",
       "      <th>0</th>\n",
       "      <td>ham</td>\n",
       "      <td>Go until jurong point, crazy.. Available only ...</td>\n",
       "    </tr>\n",
       "    <tr>\n",
       "      <th>1</th>\n",
       "      <td>ham</td>\n",
       "      <td>Ok lar... Joking wif u oni...</td>\n",
       "    </tr>\n",
       "    <tr>\n",
       "      <th>2</th>\n",
       "      <td>spam</td>\n",
       "      <td>Free entry in 2 a wkly comp to win FA Cup fina...</td>\n",
       "    </tr>\n",
       "    <tr>\n",
       "      <th>3</th>\n",
       "      <td>ham</td>\n",
       "      <td>U dun say so early hor... U c already then say...</td>\n",
       "    </tr>\n",
       "    <tr>\n",
       "      <th>4</th>\n",
       "      <td>ham</td>\n",
       "      <td>Nah I don't think he goes to usf, he lives aro...</td>\n",
       "    </tr>\n",
       "  </tbody>\n",
       "</table>\n",
       "</div>\n",
       "      <button class=\"colab-df-convert\" onclick=\"convertToInteractive('df-3d08b3ad-707b-4935-85a6-21ea30e4f111')\"\n",
       "              title=\"Convert this dataframe to an interactive table.\"\n",
       "              style=\"display:none;\">\n",
       "        \n",
       "  <svg xmlns=\"http://www.w3.org/2000/svg\" height=\"24px\"viewBox=\"0 0 24 24\"\n",
       "       width=\"24px\">\n",
       "    <path d=\"M0 0h24v24H0V0z\" fill=\"none\"/>\n",
       "    <path d=\"M18.56 5.44l.94 2.06.94-2.06 2.06-.94-2.06-.94-.94-2.06-.94 2.06-2.06.94zm-11 1L8.5 8.5l.94-2.06 2.06-.94-2.06-.94L8.5 2.5l-.94 2.06-2.06.94zm10 10l.94 2.06.94-2.06 2.06-.94-2.06-.94-.94-2.06-.94 2.06-2.06.94z\"/><path d=\"M17.41 7.96l-1.37-1.37c-.4-.4-.92-.59-1.43-.59-.52 0-1.04.2-1.43.59L10.3 9.45l-7.72 7.72c-.78.78-.78 2.05 0 2.83L4 21.41c.39.39.9.59 1.41.59.51 0 1.02-.2 1.41-.59l7.78-7.78 2.81-2.81c.8-.78.8-2.07 0-2.86zM5.41 20L4 18.59l7.72-7.72 1.47 1.35L5.41 20z\"/>\n",
       "  </svg>\n",
       "      </button>\n",
       "      \n",
       "  <style>\n",
       "    .colab-df-container {\n",
       "      display:flex;\n",
       "      flex-wrap:wrap;\n",
       "      gap: 12px;\n",
       "    }\n",
       "\n",
       "    .colab-df-convert {\n",
       "      background-color: #E8F0FE;\n",
       "      border: none;\n",
       "      border-radius: 50%;\n",
       "      cursor: pointer;\n",
       "      display: none;\n",
       "      fill: #1967D2;\n",
       "      height: 32px;\n",
       "      padding: 0 0 0 0;\n",
       "      width: 32px;\n",
       "    }\n",
       "\n",
       "    .colab-df-convert:hover {\n",
       "      background-color: #E2EBFA;\n",
       "      box-shadow: 0px 1px 2px rgba(60, 64, 67, 0.3), 0px 1px 3px 1px rgba(60, 64, 67, 0.15);\n",
       "      fill: #174EA6;\n",
       "    }\n",
       "\n",
       "    [theme=dark] .colab-df-convert {\n",
       "      background-color: #3B4455;\n",
       "      fill: #D2E3FC;\n",
       "    }\n",
       "\n",
       "    [theme=dark] .colab-df-convert:hover {\n",
       "      background-color: #434B5C;\n",
       "      box-shadow: 0px 1px 3px 1px rgba(0, 0, 0, 0.15);\n",
       "      filter: drop-shadow(0px 1px 2px rgba(0, 0, 0, 0.3));\n",
       "      fill: #FFFFFF;\n",
       "    }\n",
       "  </style>\n",
       "\n",
       "      <script>\n",
       "        const buttonEl =\n",
       "          document.querySelector('#df-3d08b3ad-707b-4935-85a6-21ea30e4f111 button.colab-df-convert');\n",
       "        buttonEl.style.display =\n",
       "          google.colab.kernel.accessAllowed ? 'block' : 'none';\n",
       "\n",
       "        async function convertToInteractive(key) {\n",
       "          const element = document.querySelector('#df-3d08b3ad-707b-4935-85a6-21ea30e4f111');\n",
       "          const dataTable =\n",
       "            await google.colab.kernel.invokeFunction('convertToInteractive',\n",
       "                                                     [key], {});\n",
       "          if (!dataTable) return;\n",
       "\n",
       "          const docLinkHtml = 'Like what you see? Visit the ' +\n",
       "            '<a target=\"_blank\" href=https://colab.research.google.com/notebooks/data_table.ipynb>data table notebook</a>'\n",
       "            + ' to learn more about interactive tables.';\n",
       "          element.innerHTML = '';\n",
       "          dataTable['output_type'] = 'display_data';\n",
       "          await google.colab.output.renderOutput(dataTable, element);\n",
       "          const docLink = document.createElement('div');\n",
       "          docLink.innerHTML = docLinkHtml;\n",
       "          element.appendChild(docLink);\n",
       "        }\n",
       "      </script>\n",
       "    </div>\n",
       "  </div>\n",
       "  "
      ],
      "text/plain": [
       "  category                                               mail\n",
       "0      ham  Go until jurong point, crazy.. Available only ...\n",
       "1      ham                      Ok lar... Joking wif u oni...\n",
       "2     spam  Free entry in 2 a wkly comp to win FA Cup fina...\n",
       "3      ham  U dun say so early hor... U c already then say...\n",
       "4      ham  Nah I don't think he goes to usf, he lives aro..."
      ]
     },
     "execution_count": 74,
     "metadata": {},
     "output_type": "execute_result"
    }
   ],
   "source": [
    "data.head()"
   ]
  },
  {
   "cell_type": "code",
   "execution_count": 75,
   "id": "11209922",
   "metadata": {
    "id": "hUaIbSx8ZrzA"
   },
   "outputs": [],
   "source": [
    "# Extraction des targets et mails\n",
    "X = data.values[:, 1]\n",
    "Y = data.values[:, 0]"
   ]
  },
  {
   "cell_type": "code",
   "execution_count": 76,
   "id": "acdb93d9",
   "metadata": {
    "id": "hR-j8Ql-Z7h_"
   },
   "outputs": [],
   "source": [
    "# remplacement de spam et ham par 1 et 0\n",
    "Y = np.where(Y=='spam', 1, Y)\n",
    "Y = np.where(Y=='ham', 0, Y)\n",
    "Y = Y.astype(np.int)"
   ]
  },
  {
   "cell_type": "code",
   "execution_count": 77,
   "id": "0c3d218d",
   "metadata": {
    "id": "W7nmTp8raMPS"
   },
   "outputs": [],
   "source": [
    "n_zeros = np.histogram(Y)[0][0]\n",
    "n_ones  = np.histogram(Y)[0][-1]"
   ]
  },
  {
   "cell_type": "code",
   "execution_count": 78,
   "id": "2b903141",
   "metadata": {
    "colab": {
     "base_uri": "https://localhost:8080/"
    },
    "id": "OwNV6QHoaqGX",
    "outputId": "1b7204bf-814f-4786-c695-6bcde029ae4d"
   },
   "outputs": [
    {
     "name": "stdout",
     "output_type": "stream",
     "text": [
      "Taille de l'échantillon :  (5572,)\n",
      "Nombre de spams  : 4825\n",
      "Nombre de hams : 747\n"
     ]
    }
   ],
   "source": [
    "print(\"Taille de l'échantillon : \", X.shape)\n",
    "print(f\"Nombre de spams  : {n_zeros}\")\n",
    "print(f\"Nombre de hams : {n_ones}\")"
   ]
  },
  {
   "cell_type": "markdown",
   "id": "e1bf60b6",
   "metadata": {
    "id": "Qxz8ycCXbQy5"
   },
   "source": [
    "## **Count Vectorizer**\n"
   ]
  },
  {
   "cell_type": "markdown",
   "id": "59ebeee0",
   "metadata": {
    "id": "zkFe7NrHN_4Z"
   },
   "source": [
    "🔑 **CounterVectorizer**\n",
    "> **CountVectorizer** : pour splitter chaque texte en différents mots clés (termes), supprimer les mots clés vides (stopwords) et calculer la matrice de co-occurences. (extrait du TP)"
   ]
  },
  {
   "cell_type": "code",
   "execution_count": 79,
   "id": "f6275aff",
   "metadata": {
    "colab": {
     "base_uri": "https://localhost:8080/"
    },
    "id": "45cRvx0zbN33",
    "outputId": "a06cc7f3-9da1-43c1-e56a-97dca8702b02"
   },
   "outputs": [
    {
     "data": {
      "text/plain": [
       "(5572, 8713)"
      ]
     },
     "execution_count": 79,
     "metadata": {},
     "output_type": "execute_result"
    }
   ],
   "source": [
    "count_vectorizer = CountVectorizer()\n",
    "X_vec = count_vectorizer.fit_transform(X)\n",
    "X_vec.shape"
   ]
  },
  {
   "cell_type": "code",
   "execution_count": 80,
   "id": "d8631aa5",
   "metadata": {
    "colab": {
     "base_uri": "https://localhost:8080/",
     "height": 237
    },
    "id": "lqqQwkjzb7NI",
    "outputId": "a77d6d6e-f7e1-4224-b63d-8f7ff408ea51"
   },
   "outputs": [
    {
     "data": {
      "text/html": [
       "\n",
       "  <div id=\"df-3ada2d37-e58d-4ad1-949a-4bc2dab3caa0\">\n",
       "    <div class=\"colab-df-container\">\n",
       "      <div>\n",
       "<style scoped>\n",
       "    .dataframe tbody tr th:only-of-type {\n",
       "        vertical-align: middle;\n",
       "    }\n",
       "\n",
       "    .dataframe tbody tr th {\n",
       "        vertical-align: top;\n",
       "    }\n",
       "\n",
       "    .dataframe thead th {\n",
       "        text-align: right;\n",
       "    }\n",
       "</style>\n",
       "<table border=\"1\" class=\"dataframe\">\n",
       "  <thead>\n",
       "    <tr style=\"text-align: right;\">\n",
       "      <th></th>\n",
       "      <th>Precision_mean</th>\n",
       "      <th>Precision_std</th>\n",
       "      <th>Accuracy_mean</th>\n",
       "      <th>Accuracy_std</th>\n",
       "      <th>AUC_mean</th>\n",
       "      <th>AUC_std</th>\n",
       "      <th>Exec_time</th>\n",
       "    </tr>\n",
       "  </thead>\n",
       "  <tbody>\n",
       "    <tr>\n",
       "      <th>RF</th>\n",
       "      <td>1.000000</td>\n",
       "      <td>0.000000</td>\n",
       "      <td>0.977208</td>\n",
       "      <td>0.005956</td>\n",
       "      <td>0.993086</td>\n",
       "      <td>0.004684</td>\n",
       "      <td>19.224099</td>\n",
       "    </tr>\n",
       "    <tr>\n",
       "      <th>KNN</th>\n",
       "      <td>1.000000</td>\n",
       "      <td>0.000000</td>\n",
       "      <td>0.894835</td>\n",
       "      <td>0.015463</td>\n",
       "      <td>0.853034</td>\n",
       "      <td>0.034272</td>\n",
       "      <td>1.939215</td>\n",
       "    </tr>\n",
       "    <tr>\n",
       "      <th>DT</th>\n",
       "      <td>0.907579</td>\n",
       "      <td>0.031563</td>\n",
       "      <td>0.972180</td>\n",
       "      <td>0.005867</td>\n",
       "      <td>0.932193</td>\n",
       "      <td>0.018368</td>\n",
       "      <td>1.877683</td>\n",
       "    </tr>\n",
       "    <tr>\n",
       "      <th>MLP</th>\n",
       "      <td>0.995462</td>\n",
       "      <td>0.006997</td>\n",
       "      <td>0.986000</td>\n",
       "      <td>0.002762</td>\n",
       "      <td>0.980061</td>\n",
       "      <td>0.011185</td>\n",
       "      <td>75.282800</td>\n",
       "    </tr>\n",
       "    <tr>\n",
       "      <th>B</th>\n",
       "      <td>0.930344</td>\n",
       "      <td>0.017405</td>\n",
       "      <td>0.973437</td>\n",
       "      <td>0.004879</td>\n",
       "      <td>0.980353</td>\n",
       "      <td>0.006093</td>\n",
       "      <td>65.499011</td>\n",
       "    </tr>\n",
       "    <tr>\n",
       "      <th>ADA</th>\n",
       "      <td>0.947573</td>\n",
       "      <td>0.023426</td>\n",
       "      <td>0.971465</td>\n",
       "      <td>0.004427</td>\n",
       "      <td>0.979419</td>\n",
       "      <td>0.010077</td>\n",
       "      <td>21.489893</td>\n",
       "    </tr>\n",
       "  </tbody>\n",
       "</table>\n",
       "</div>\n",
       "      <button class=\"colab-df-convert\" onclick=\"convertToInteractive('df-3ada2d37-e58d-4ad1-949a-4bc2dab3caa0')\"\n",
       "              title=\"Convert this dataframe to an interactive table.\"\n",
       "              style=\"display:none;\">\n",
       "        \n",
       "  <svg xmlns=\"http://www.w3.org/2000/svg\" height=\"24px\"viewBox=\"0 0 24 24\"\n",
       "       width=\"24px\">\n",
       "    <path d=\"M0 0h24v24H0V0z\" fill=\"none\"/>\n",
       "    <path d=\"M18.56 5.44l.94 2.06.94-2.06 2.06-.94-2.06-.94-.94-2.06-.94 2.06-2.06.94zm-11 1L8.5 8.5l.94-2.06 2.06-.94-2.06-.94L8.5 2.5l-.94 2.06-2.06.94zm10 10l.94 2.06.94-2.06 2.06-.94-2.06-.94-.94-2.06-.94 2.06-2.06.94z\"/><path d=\"M17.41 7.96l-1.37-1.37c-.4-.4-.92-.59-1.43-.59-.52 0-1.04.2-1.43.59L10.3 9.45l-7.72 7.72c-.78.78-.78 2.05 0 2.83L4 21.41c.39.39.9.59 1.41.59.51 0 1.02-.2 1.41-.59l7.78-7.78 2.81-2.81c.8-.78.8-2.07 0-2.86zM5.41 20L4 18.59l7.72-7.72 1.47 1.35L5.41 20z\"/>\n",
       "  </svg>\n",
       "      </button>\n",
       "      \n",
       "  <style>\n",
       "    .colab-df-container {\n",
       "      display:flex;\n",
       "      flex-wrap:wrap;\n",
       "      gap: 12px;\n",
       "    }\n",
       "\n",
       "    .colab-df-convert {\n",
       "      background-color: #E8F0FE;\n",
       "      border: none;\n",
       "      border-radius: 50%;\n",
       "      cursor: pointer;\n",
       "      display: none;\n",
       "      fill: #1967D2;\n",
       "      height: 32px;\n",
       "      padding: 0 0 0 0;\n",
       "      width: 32px;\n",
       "    }\n",
       "\n",
       "    .colab-df-convert:hover {\n",
       "      background-color: #E2EBFA;\n",
       "      box-shadow: 0px 1px 2px rgba(60, 64, 67, 0.3), 0px 1px 3px 1px rgba(60, 64, 67, 0.15);\n",
       "      fill: #174EA6;\n",
       "    }\n",
       "\n",
       "    [theme=dark] .colab-df-convert {\n",
       "      background-color: #3B4455;\n",
       "      fill: #D2E3FC;\n",
       "    }\n",
       "\n",
       "    [theme=dark] .colab-df-convert:hover {\n",
       "      background-color: #434B5C;\n",
       "      box-shadow: 0px 1px 3px 1px rgba(0, 0, 0, 0.15);\n",
       "      filter: drop-shadow(0px 1px 2px rgba(0, 0, 0, 0.3));\n",
       "      fill: #FFFFFF;\n",
       "    }\n",
       "  </style>\n",
       "\n",
       "      <script>\n",
       "        const buttonEl =\n",
       "          document.querySelector('#df-3ada2d37-e58d-4ad1-949a-4bc2dab3caa0 button.colab-df-convert');\n",
       "        buttonEl.style.display =\n",
       "          google.colab.kernel.accessAllowed ? 'block' : 'none';\n",
       "\n",
       "        async function convertToInteractive(key) {\n",
       "          const element = document.querySelector('#df-3ada2d37-e58d-4ad1-949a-4bc2dab3caa0');\n",
       "          const dataTable =\n",
       "            await google.colab.kernel.invokeFunction('convertToInteractive',\n",
       "                                                     [key], {});\n",
       "          if (!dataTable) return;\n",
       "\n",
       "          const docLinkHtml = 'Like what you see? Visit the ' +\n",
       "            '<a target=\"_blank\" href=https://colab.research.google.com/notebooks/data_table.ipynb>data table notebook</a>'\n",
       "            + ' to learn more about interactive tables.';\n",
       "          element.innerHTML = '';\n",
       "          dataTable['output_type'] = 'display_data';\n",
       "          await google.colab.output.renderOutput(dataTable, element);\n",
       "          const docLink = document.createElement('div');\n",
       "          docLink.innerHTML = docLinkHtml;\n",
       "          element.appendChild(docLink);\n",
       "        }\n",
       "      </script>\n",
       "    </div>\n",
       "  </div>\n",
       "  "
      ],
      "text/plain": [
       "     Precision_mean  Precision_std  Accuracy_mean  Accuracy_std  AUC_mean  \\\n",
       "RF         1.000000       0.000000       0.977208      0.005956  0.993086   \n",
       "KNN        1.000000       0.000000       0.894835      0.015463  0.853034   \n",
       "DT         0.907579       0.031563       0.972180      0.005867  0.932193   \n",
       "MLP        0.995462       0.006997       0.986000      0.002762  0.980061   \n",
       "B          0.930344       0.017405       0.973437      0.004879  0.980353   \n",
       "ADA        0.947573       0.023426       0.971465      0.004427  0.979419   \n",
       "\n",
       "      AUC_std  Exec_time  \n",
       "RF   0.004684  19.224099  \n",
       "KNN  0.034272   1.939215  \n",
       "DT   0.018368   1.877683  \n",
       "MLP  0.011185  75.282800  \n",
       "B    0.006093  65.499011  \n",
       "ADA  0.010077  21.489893  "
      ]
     },
     "execution_count": 80,
     "metadata": {},
     "output_type": "execute_result"
    }
   ],
   "source": [
    "run_classifiers(clfs, X_vec, Y)"
   ]
  },
  {
   "cell_type": "markdown",
   "id": "c9fa3e23",
   "metadata": {
    "id": "HceFfCfhcunc"
   },
   "source": [
    "## **TF-IDF**"
   ]
  },
  {
   "cell_type": "markdown",
   "id": "a8bdbd1a",
   "metadata": {
    "id": "5zYgs-MCOTIW"
   },
   "source": [
    "🔑**TF-IDF**\n",
    ">**Tf–idf term weighting** : une mesure statistique utilisée pour la normalisation et la pondération de l’importance d’un terme contenu dans un document, relativement à toute la collection des documents (ici les SMS).(extrait du TP)"
   ]
  },
  {
   "cell_type": "markdown",
   "id": "327e2500",
   "metadata": {
    "id": "lm_s5rb2g--4"
   },
   "source": [
    "❗ **TfidfVectorizer**\n",
    "- TfidVectorizer : Combine CountVectorizer et TfidfTransformer"
   ]
  },
  {
   "cell_type": "code",
   "execution_count": 81,
   "id": "7c044d6f",
   "metadata": {
    "id": "K2LcmB2RctSj"
   },
   "outputs": [],
   "source": [
    "tfidf_vectorizer = TfidfVectorizer(max_features=1000, stop_words=\"english\")\n",
    "X_tfidf_vect = tfidf_vectorizer.fit_transform(X) "
   ]
  },
  {
   "cell_type": "code",
   "execution_count": 82,
   "id": "d7927f56",
   "metadata": {
    "colab": {
     "base_uri": "https://localhost:8080/",
     "height": 237
    },
    "id": "OzEIiTE1d4Ap",
    "outputId": "d2f78fc7-bf4f-454f-a9cc-83175b3fe0ba"
   },
   "outputs": [
    {
     "data": {
      "text/html": [
       "\n",
       "  <div id=\"df-83c2dcba-2cdf-4a00-98c9-a9f5520af8d5\">\n",
       "    <div class=\"colab-df-container\">\n",
       "      <div>\n",
       "<style scoped>\n",
       "    .dataframe tbody tr th:only-of-type {\n",
       "        vertical-align: middle;\n",
       "    }\n",
       "\n",
       "    .dataframe tbody tr th {\n",
       "        vertical-align: top;\n",
       "    }\n",
       "\n",
       "    .dataframe thead th {\n",
       "        text-align: right;\n",
       "    }\n",
       "</style>\n",
       "<table border=\"1\" class=\"dataframe\">\n",
       "  <thead>\n",
       "    <tr style=\"text-align: right;\">\n",
       "      <th></th>\n",
       "      <th>Precision_mean</th>\n",
       "      <th>Precision_std</th>\n",
       "      <th>Accuracy_mean</th>\n",
       "      <th>Accuracy_std</th>\n",
       "      <th>AUC_mean</th>\n",
       "      <th>AUC_std</th>\n",
       "      <th>Exec_time</th>\n",
       "    </tr>\n",
       "  </thead>\n",
       "  <tbody>\n",
       "    <tr>\n",
       "      <th>RF</th>\n",
       "      <td>0.980588</td>\n",
       "      <td>0.013293</td>\n",
       "      <td>0.981155</td>\n",
       "      <td>0.004700</td>\n",
       "      <td>0.987589</td>\n",
       "      <td>0.004752</td>\n",
       "      <td>5.566117</td>\n",
       "    </tr>\n",
       "    <tr>\n",
       "      <th>KNN</th>\n",
       "      <td>1.000000</td>\n",
       "      <td>0.000000</td>\n",
       "      <td>0.901654</td>\n",
       "      <td>0.011352</td>\n",
       "      <td>0.864766</td>\n",
       "      <td>0.032027</td>\n",
       "      <td>1.276494</td>\n",
       "    </tr>\n",
       "    <tr>\n",
       "      <th>DT</th>\n",
       "      <td>0.874150</td>\n",
       "      <td>0.026549</td>\n",
       "      <td>0.966259</td>\n",
       "      <td>0.006468</td>\n",
       "      <td>0.931686</td>\n",
       "      <td>0.017877</td>\n",
       "      <td>2.210307</td>\n",
       "    </tr>\n",
       "    <tr>\n",
       "      <th>MLP</th>\n",
       "      <td>0.959342</td>\n",
       "      <td>0.024069</td>\n",
       "      <td>0.983846</td>\n",
       "      <td>0.004177</td>\n",
       "      <td>0.989185</td>\n",
       "      <td>0.003450</td>\n",
       "      <td>33.695565</td>\n",
       "    </tr>\n",
       "    <tr>\n",
       "      <th>B</th>\n",
       "      <td>0.911061</td>\n",
       "      <td>0.029424</td>\n",
       "      <td>0.971822</td>\n",
       "      <td>0.007366</td>\n",
       "      <td>0.982764</td>\n",
       "      <td>0.005485</td>\n",
       "      <td>66.100194</td>\n",
       "    </tr>\n",
       "    <tr>\n",
       "      <th>ADA</th>\n",
       "      <td>0.948179</td>\n",
       "      <td>0.023032</td>\n",
       "      <td>0.970207</td>\n",
       "      <td>0.007414</td>\n",
       "      <td>0.963963</td>\n",
       "      <td>0.012956</td>\n",
       "      <td>3.320439</td>\n",
       "    </tr>\n",
       "  </tbody>\n",
       "</table>\n",
       "</div>\n",
       "      <button class=\"colab-df-convert\" onclick=\"convertToInteractive('df-83c2dcba-2cdf-4a00-98c9-a9f5520af8d5')\"\n",
       "              title=\"Convert this dataframe to an interactive table.\"\n",
       "              style=\"display:none;\">\n",
       "        \n",
       "  <svg xmlns=\"http://www.w3.org/2000/svg\" height=\"24px\"viewBox=\"0 0 24 24\"\n",
       "       width=\"24px\">\n",
       "    <path d=\"M0 0h24v24H0V0z\" fill=\"none\"/>\n",
       "    <path d=\"M18.56 5.44l.94 2.06.94-2.06 2.06-.94-2.06-.94-.94-2.06-.94 2.06-2.06.94zm-11 1L8.5 8.5l.94-2.06 2.06-.94-2.06-.94L8.5 2.5l-.94 2.06-2.06.94zm10 10l.94 2.06.94-2.06 2.06-.94-2.06-.94-.94-2.06-.94 2.06-2.06.94z\"/><path d=\"M17.41 7.96l-1.37-1.37c-.4-.4-.92-.59-1.43-.59-.52 0-1.04.2-1.43.59L10.3 9.45l-7.72 7.72c-.78.78-.78 2.05 0 2.83L4 21.41c.39.39.9.59 1.41.59.51 0 1.02-.2 1.41-.59l7.78-7.78 2.81-2.81c.8-.78.8-2.07 0-2.86zM5.41 20L4 18.59l7.72-7.72 1.47 1.35L5.41 20z\"/>\n",
       "  </svg>\n",
       "      </button>\n",
       "      \n",
       "  <style>\n",
       "    .colab-df-container {\n",
       "      display:flex;\n",
       "      flex-wrap:wrap;\n",
       "      gap: 12px;\n",
       "    }\n",
       "\n",
       "    .colab-df-convert {\n",
       "      background-color: #E8F0FE;\n",
       "      border: none;\n",
       "      border-radius: 50%;\n",
       "      cursor: pointer;\n",
       "      display: none;\n",
       "      fill: #1967D2;\n",
       "      height: 32px;\n",
       "      padding: 0 0 0 0;\n",
       "      width: 32px;\n",
       "    }\n",
       "\n",
       "    .colab-df-convert:hover {\n",
       "      background-color: #E2EBFA;\n",
       "      box-shadow: 0px 1px 2px rgba(60, 64, 67, 0.3), 0px 1px 3px 1px rgba(60, 64, 67, 0.15);\n",
       "      fill: #174EA6;\n",
       "    }\n",
       "\n",
       "    [theme=dark] .colab-df-convert {\n",
       "      background-color: #3B4455;\n",
       "      fill: #D2E3FC;\n",
       "    }\n",
       "\n",
       "    [theme=dark] .colab-df-convert:hover {\n",
       "      background-color: #434B5C;\n",
       "      box-shadow: 0px 1px 3px 1px rgba(0, 0, 0, 0.15);\n",
       "      filter: drop-shadow(0px 1px 2px rgba(0, 0, 0, 0.3));\n",
       "      fill: #FFFFFF;\n",
       "    }\n",
       "  </style>\n",
       "\n",
       "      <script>\n",
       "        const buttonEl =\n",
       "          document.querySelector('#df-83c2dcba-2cdf-4a00-98c9-a9f5520af8d5 button.colab-df-convert');\n",
       "        buttonEl.style.display =\n",
       "          google.colab.kernel.accessAllowed ? 'block' : 'none';\n",
       "\n",
       "        async function convertToInteractive(key) {\n",
       "          const element = document.querySelector('#df-83c2dcba-2cdf-4a00-98c9-a9f5520af8d5');\n",
       "          const dataTable =\n",
       "            await google.colab.kernel.invokeFunction('convertToInteractive',\n",
       "                                                     [key], {});\n",
       "          if (!dataTable) return;\n",
       "\n",
       "          const docLinkHtml = 'Like what you see? Visit the ' +\n",
       "            '<a target=\"_blank\" href=https://colab.research.google.com/notebooks/data_table.ipynb>data table notebook</a>'\n",
       "            + ' to learn more about interactive tables.';\n",
       "          element.innerHTML = '';\n",
       "          dataTable['output_type'] = 'display_data';\n",
       "          await google.colab.output.renderOutput(dataTable, element);\n",
       "          const docLink = document.createElement('div');\n",
       "          docLink.innerHTML = docLinkHtml;\n",
       "          element.appendChild(docLink);\n",
       "        }\n",
       "      </script>\n",
       "    </div>\n",
       "  </div>\n",
       "  "
      ],
      "text/plain": [
       "     Precision_mean  Precision_std  Accuracy_mean  Accuracy_std  AUC_mean  \\\n",
       "RF         0.980588       0.013293       0.981155      0.004700  0.987589   \n",
       "KNN        1.000000       0.000000       0.901654      0.011352  0.864766   \n",
       "DT         0.874150       0.026549       0.966259      0.006468  0.931686   \n",
       "MLP        0.959342       0.024069       0.983846      0.004177  0.989185   \n",
       "B          0.911061       0.029424       0.971822      0.007366  0.982764   \n",
       "ADA        0.948179       0.023032       0.970207      0.007414  0.963963   \n",
       "\n",
       "      AUC_std  Exec_time  \n",
       "RF   0.004752   5.566117  \n",
       "KNN  0.032027   1.276494  \n",
       "DT   0.017877   2.210307  \n",
       "MLP  0.003450  33.695565  \n",
       "B    0.005485  66.100194  \n",
       "ADA  0.012956   3.320439  "
      ]
     },
     "execution_count": 82,
     "metadata": {},
     "output_type": "execute_result"
    }
   ],
   "source": [
    "run_classifiers(clfs, X_tfidf_vect, Y)"
   ]
  },
  {
   "cell_type": "markdown",
   "id": "4824187d",
   "metadata": {
    "id": "5yjAfar6eHUk"
   },
   "source": [
    "## **TruncatedSVD**\n"
   ]
  },
  {
   "cell_type": "markdown",
   "id": "9591c200",
   "metadata": {
    "id": "1SYuot0yOo8c"
   },
   "source": [
    "**🔑TruncatedSVD**\n",
    "> TruncatedSVD : une méthode de réduction de dimensions pour les matrices très creuses (sparses en anglais) qui permettra d’améliorer la représentation vectorielle des textes des SMS par une indexation sémantique latente. Cette dernière permet d'établir des relations entre un ensemble de documents et les termes qu'ils contiennent, en construisant des \"concepts\" liés aux documents et\n",
    "aux termes. Elle permettra entre autre de résoudre les problèmes de synonymie (plusieurs mots avec un seul sens) et de polysémie (un seul mot avec plusieurs sens) (extrait du TP)"
   ]
  },
  {
   "cell_type": "code",
   "execution_count": 83,
   "id": "9389a919",
   "metadata": {
    "id": "b9kQiEZsehwO"
   },
   "outputs": [],
   "source": [
    "svd = TruncatedSVD(n_components=15)\n",
    "X_svd = svd.fit_transform(X_tfidf_vect)"
   ]
  },
  {
   "cell_type": "code",
   "execution_count": 84,
   "id": "e58c1dab",
   "metadata": {
    "colab": {
     "base_uri": "https://localhost:8080/",
     "height": 237
    },
    "id": "LLOZh4awewMl",
    "outputId": "0653ae73-7803-44f2-ba30-2dfa9ef272c0"
   },
   "outputs": [
    {
     "data": {
      "text/html": [
       "\n",
       "  <div id=\"df-595e8014-298b-432d-a5cd-93968053bb69\">\n",
       "    <div class=\"colab-df-container\">\n",
       "      <div>\n",
       "<style scoped>\n",
       "    .dataframe tbody tr th:only-of-type {\n",
       "        vertical-align: middle;\n",
       "    }\n",
       "\n",
       "    .dataframe tbody tr th {\n",
       "        vertical-align: top;\n",
       "    }\n",
       "\n",
       "    .dataframe thead th {\n",
       "        text-align: right;\n",
       "    }\n",
       "</style>\n",
       "<table border=\"1\" class=\"dataframe\">\n",
       "  <thead>\n",
       "    <tr style=\"text-align: right;\">\n",
       "      <th></th>\n",
       "      <th>Precision_mean</th>\n",
       "      <th>Precision_std</th>\n",
       "      <th>Accuracy_mean</th>\n",
       "      <th>Accuracy_std</th>\n",
       "      <th>AUC_mean</th>\n",
       "      <th>AUC_std</th>\n",
       "      <th>Exec_time</th>\n",
       "    </tr>\n",
       "  </thead>\n",
       "  <tbody>\n",
       "    <tr>\n",
       "      <th>RF</th>\n",
       "      <td>0.945020</td>\n",
       "      <td>0.022538</td>\n",
       "      <td>0.973616</td>\n",
       "      <td>0.006330</td>\n",
       "      <td>0.982107</td>\n",
       "      <td>0.006564</td>\n",
       "      <td>5.392620</td>\n",
       "    </tr>\n",
       "    <tr>\n",
       "      <th>KNN</th>\n",
       "      <td>0.897479</td>\n",
       "      <td>0.026102</td>\n",
       "      <td>0.965361</td>\n",
       "      <td>0.005745</td>\n",
       "      <td>0.970183</td>\n",
       "      <td>0.008922</td>\n",
       "      <td>1.004257</td>\n",
       "    </tr>\n",
       "    <tr>\n",
       "      <th>DT</th>\n",
       "      <td>0.833614</td>\n",
       "      <td>0.047667</td>\n",
       "      <td>0.955668</td>\n",
       "      <td>0.011046</td>\n",
       "      <td>0.905842</td>\n",
       "      <td>0.024947</td>\n",
       "      <td>0.832764</td>\n",
       "    </tr>\n",
       "    <tr>\n",
       "      <th>MLP</th>\n",
       "      <td>0.888375</td>\n",
       "      <td>0.029776</td>\n",
       "      <td>0.965542</td>\n",
       "      <td>0.009112</td>\n",
       "      <td>0.979353</td>\n",
       "      <td>0.007429</td>\n",
       "      <td>29.794582</td>\n",
       "    </tr>\n",
       "    <tr>\n",
       "      <th>B</th>\n",
       "      <td>0.924547</td>\n",
       "      <td>0.033721</td>\n",
       "      <td>0.972359</td>\n",
       "      <td>0.008203</td>\n",
       "      <td>0.978057</td>\n",
       "      <td>0.011584</td>\n",
       "      <td>24.340201</td>\n",
       "    </tr>\n",
       "    <tr>\n",
       "      <th>ADA</th>\n",
       "      <td>0.865229</td>\n",
       "      <td>0.041783</td>\n",
       "      <td>0.957823</td>\n",
       "      <td>0.008435</td>\n",
       "      <td>0.968145</td>\n",
       "      <td>0.010419</td>\n",
       "      <td>6.599569</td>\n",
       "    </tr>\n",
       "  </tbody>\n",
       "</table>\n",
       "</div>\n",
       "      <button class=\"colab-df-convert\" onclick=\"convertToInteractive('df-595e8014-298b-432d-a5cd-93968053bb69')\"\n",
       "              title=\"Convert this dataframe to an interactive table.\"\n",
       "              style=\"display:none;\">\n",
       "        \n",
       "  <svg xmlns=\"http://www.w3.org/2000/svg\" height=\"24px\"viewBox=\"0 0 24 24\"\n",
       "       width=\"24px\">\n",
       "    <path d=\"M0 0h24v24H0V0z\" fill=\"none\"/>\n",
       "    <path d=\"M18.56 5.44l.94 2.06.94-2.06 2.06-.94-2.06-.94-.94-2.06-.94 2.06-2.06.94zm-11 1L8.5 8.5l.94-2.06 2.06-.94-2.06-.94L8.5 2.5l-.94 2.06-2.06.94zm10 10l.94 2.06.94-2.06 2.06-.94-2.06-.94-.94-2.06-.94 2.06-2.06.94z\"/><path d=\"M17.41 7.96l-1.37-1.37c-.4-.4-.92-.59-1.43-.59-.52 0-1.04.2-1.43.59L10.3 9.45l-7.72 7.72c-.78.78-.78 2.05 0 2.83L4 21.41c.39.39.9.59 1.41.59.51 0 1.02-.2 1.41-.59l7.78-7.78 2.81-2.81c.8-.78.8-2.07 0-2.86zM5.41 20L4 18.59l7.72-7.72 1.47 1.35L5.41 20z\"/>\n",
       "  </svg>\n",
       "      </button>\n",
       "      \n",
       "  <style>\n",
       "    .colab-df-container {\n",
       "      display:flex;\n",
       "      flex-wrap:wrap;\n",
       "      gap: 12px;\n",
       "    }\n",
       "\n",
       "    .colab-df-convert {\n",
       "      background-color: #E8F0FE;\n",
       "      border: none;\n",
       "      border-radius: 50%;\n",
       "      cursor: pointer;\n",
       "      display: none;\n",
       "      fill: #1967D2;\n",
       "      height: 32px;\n",
       "      padding: 0 0 0 0;\n",
       "      width: 32px;\n",
       "    }\n",
       "\n",
       "    .colab-df-convert:hover {\n",
       "      background-color: #E2EBFA;\n",
       "      box-shadow: 0px 1px 2px rgba(60, 64, 67, 0.3), 0px 1px 3px 1px rgba(60, 64, 67, 0.15);\n",
       "      fill: #174EA6;\n",
       "    }\n",
       "\n",
       "    [theme=dark] .colab-df-convert {\n",
       "      background-color: #3B4455;\n",
       "      fill: #D2E3FC;\n",
       "    }\n",
       "\n",
       "    [theme=dark] .colab-df-convert:hover {\n",
       "      background-color: #434B5C;\n",
       "      box-shadow: 0px 1px 3px 1px rgba(0, 0, 0, 0.15);\n",
       "      filter: drop-shadow(0px 1px 2px rgba(0, 0, 0, 0.3));\n",
       "      fill: #FFFFFF;\n",
       "    }\n",
       "  </style>\n",
       "\n",
       "      <script>\n",
       "        const buttonEl =\n",
       "          document.querySelector('#df-595e8014-298b-432d-a5cd-93968053bb69 button.colab-df-convert');\n",
       "        buttonEl.style.display =\n",
       "          google.colab.kernel.accessAllowed ? 'block' : 'none';\n",
       "\n",
       "        async function convertToInteractive(key) {\n",
       "          const element = document.querySelector('#df-595e8014-298b-432d-a5cd-93968053bb69');\n",
       "          const dataTable =\n",
       "            await google.colab.kernel.invokeFunction('convertToInteractive',\n",
       "                                                     [key], {});\n",
       "          if (!dataTable) return;\n",
       "\n",
       "          const docLinkHtml = 'Like what you see? Visit the ' +\n",
       "            '<a target=\"_blank\" href=https://colab.research.google.com/notebooks/data_table.ipynb>data table notebook</a>'\n",
       "            + ' to learn more about interactive tables.';\n",
       "          element.innerHTML = '';\n",
       "          dataTable['output_type'] = 'display_data';\n",
       "          await google.colab.output.renderOutput(dataTable, element);\n",
       "          const docLink = document.createElement('div');\n",
       "          docLink.innerHTML = docLinkHtml;\n",
       "          element.appendChild(docLink);\n",
       "        }\n",
       "      </script>\n",
       "    </div>\n",
       "  </div>\n",
       "  "
      ],
      "text/plain": [
       "     Precision_mean  Precision_std  Accuracy_mean  Accuracy_std  AUC_mean  \\\n",
       "RF         0.945020       0.022538       0.973616      0.006330  0.982107   \n",
       "KNN        0.897479       0.026102       0.965361      0.005745  0.970183   \n",
       "DT         0.833614       0.047667       0.955668      0.011046  0.905842   \n",
       "MLP        0.888375       0.029776       0.965542      0.009112  0.979353   \n",
       "B          0.924547       0.033721       0.972359      0.008203  0.978057   \n",
       "ADA        0.865229       0.041783       0.957823      0.008435  0.968145   \n",
       "\n",
       "      AUC_std  Exec_time  \n",
       "RF   0.006564   5.392620  \n",
       "KNN  0.008922   1.004257  \n",
       "DT   0.024947   0.832764  \n",
       "MLP  0.007429  29.794582  \n",
       "B    0.011584  24.340201  \n",
       "ADA  0.010419   6.599569  "
      ]
     },
     "execution_count": 84,
     "metadata": {},
     "output_type": "execute_result"
    }
   ],
   "source": [
    "run_classifiers(clfs, X_svd, Y)"
   ]
  },
  {
   "cell_type": "markdown",
   "id": "c65d7900",
   "metadata": {
    "id": "pWsioohzfCBw"
   },
   "source": [
    "## **Pipeline**"
   ]
  },
  {
   "cell_type": "code",
   "execution_count": 85,
   "id": "264fe95d",
   "metadata": {
    "id": "8hpabIs6fAnn"
   },
   "outputs": [],
   "source": [
    "pipeline = Pipeline([(\"CountTFVectorizer\", TfidfVectorizer(max_features=100, stop_words=\"english\")),(\"TruncatedSVD\", TruncatedSVD(n_components=15)), \n",
    "                     ('RandomForest', RandomForestClassifier(n_estimators=50))])"
   ]
  },
  {
   "cell_type": "markdown",
   "id": "84b81d56",
   "metadata": {
    "id": "36UfKCszi-SJ"
   },
   "source": [
    "## **Yelp**"
   ]
  },
  {
   "cell_type": "markdown",
   "id": "b2fa6972",
   "metadata": {
    "id": "77k8SWs4PsL8"
   },
   "source": [
    "> **Objectif**: Application du pipeline sur le jeu de données Yelp contenant un ensemble d'avis notés sur des lieux (restaurants, hôtels, etc.) donnés par des utilisateurs sur le site Yelp.com "
   ]
  },
  {
   "cell_type": "markdown",
   "id": "54451cbe",
   "metadata": {
    "id": "ztxrOKL-lHdO"
   },
   "source": [
    "### **Chargement de données**"
   ]
  },
  {
   "cell_type": "code",
   "execution_count": 86,
   "id": "09352a66",
   "metadata": {
    "id": "RrPBlx0-i8ll"
   },
   "outputs": [],
   "source": [
    "data = pd.read_csv(\"./yelp-text-by-stars.csv\", sep=\";\", encoding=\"ISO-8859-1\") "
   ]
  },
  {
   "cell_type": "code",
   "execution_count": 87,
   "id": "3463b58c",
   "metadata": {
    "colab": {
     "base_uri": "https://localhost:8080/",
     "height": 206
    },
    "id": "9SOULfBqjulZ",
    "outputId": "509017d0-19b4-4f8f-fe80-d50dcad3e0b1"
   },
   "outputs": [
    {
     "data": {
      "text/html": [
       "\n",
       "  <div id=\"df-99e6fbba-2f39-4a1b-96fb-e557b6a9ad15\">\n",
       "    <div class=\"colab-df-container\">\n",
       "      <div>\n",
       "<style scoped>\n",
       "    .dataframe tbody tr th:only-of-type {\n",
       "        vertical-align: middle;\n",
       "    }\n",
       "\n",
       "    .dataframe tbody tr th {\n",
       "        vertical-align: top;\n",
       "    }\n",
       "\n",
       "    .dataframe thead th {\n",
       "        text-align: right;\n",
       "    }\n",
       "</style>\n",
       "<table border=\"1\" class=\"dataframe\">\n",
       "  <thead>\n",
       "    <tr style=\"text-align: right;\">\n",
       "      <th></th>\n",
       "      <th>Stars</th>\n",
       "      <th>Text</th>\n",
       "    </tr>\n",
       "  </thead>\n",
       "  <tbody>\n",
       "    <tr>\n",
       "      <th>0</th>\n",
       "      <td>1</td>\n",
       "      <td>Boarded my English Mastiff here over New Year'...</td>\n",
       "    </tr>\n",
       "    <tr>\n",
       "      <th>1</th>\n",
       "      <td>1</td>\n",
       "      <td>Another case of the Emperor's New Clothes.  So...</td>\n",
       "    </tr>\n",
       "    <tr>\n",
       "      <th>2</th>\n",
       "      <td>1</td>\n",
       "      <td>Came on Valentine's Day night having pre-bough...</td>\n",
       "    </tr>\n",
       "    <tr>\n",
       "      <th>3</th>\n",
       "      <td>1</td>\n",
       "      <td>2Nd time eating here today.1st time was great ...</td>\n",
       "    </tr>\n",
       "    <tr>\n",
       "      <th>4</th>\n",
       "      <td>1</td>\n",
       "      <td>Allegiant is a disaster.  Their fares are chea...</td>\n",
       "    </tr>\n",
       "  </tbody>\n",
       "</table>\n",
       "</div>\n",
       "      <button class=\"colab-df-convert\" onclick=\"convertToInteractive('df-99e6fbba-2f39-4a1b-96fb-e557b6a9ad15')\"\n",
       "              title=\"Convert this dataframe to an interactive table.\"\n",
       "              style=\"display:none;\">\n",
       "        \n",
       "  <svg xmlns=\"http://www.w3.org/2000/svg\" height=\"24px\"viewBox=\"0 0 24 24\"\n",
       "       width=\"24px\">\n",
       "    <path d=\"M0 0h24v24H0V0z\" fill=\"none\"/>\n",
       "    <path d=\"M18.56 5.44l.94 2.06.94-2.06 2.06-.94-2.06-.94-.94-2.06-.94 2.06-2.06.94zm-11 1L8.5 8.5l.94-2.06 2.06-.94-2.06-.94L8.5 2.5l-.94 2.06-2.06.94zm10 10l.94 2.06.94-2.06 2.06-.94-2.06-.94-.94-2.06-.94 2.06-2.06.94z\"/><path d=\"M17.41 7.96l-1.37-1.37c-.4-.4-.92-.59-1.43-.59-.52 0-1.04.2-1.43.59L10.3 9.45l-7.72 7.72c-.78.78-.78 2.05 0 2.83L4 21.41c.39.39.9.59 1.41.59.51 0 1.02-.2 1.41-.59l7.78-7.78 2.81-2.81c.8-.78.8-2.07 0-2.86zM5.41 20L4 18.59l7.72-7.72 1.47 1.35L5.41 20z\"/>\n",
       "  </svg>\n",
       "      </button>\n",
       "      \n",
       "  <style>\n",
       "    .colab-df-container {\n",
       "      display:flex;\n",
       "      flex-wrap:wrap;\n",
       "      gap: 12px;\n",
       "    }\n",
       "\n",
       "    .colab-df-convert {\n",
       "      background-color: #E8F0FE;\n",
       "      border: none;\n",
       "      border-radius: 50%;\n",
       "      cursor: pointer;\n",
       "      display: none;\n",
       "      fill: #1967D2;\n",
       "      height: 32px;\n",
       "      padding: 0 0 0 0;\n",
       "      width: 32px;\n",
       "    }\n",
       "\n",
       "    .colab-df-convert:hover {\n",
       "      background-color: #E2EBFA;\n",
       "      box-shadow: 0px 1px 2px rgba(60, 64, 67, 0.3), 0px 1px 3px 1px rgba(60, 64, 67, 0.15);\n",
       "      fill: #174EA6;\n",
       "    }\n",
       "\n",
       "    [theme=dark] .colab-df-convert {\n",
       "      background-color: #3B4455;\n",
       "      fill: #D2E3FC;\n",
       "    }\n",
       "\n",
       "    [theme=dark] .colab-df-convert:hover {\n",
       "      background-color: #434B5C;\n",
       "      box-shadow: 0px 1px 3px 1px rgba(0, 0, 0, 0.15);\n",
       "      filter: drop-shadow(0px 1px 2px rgba(0, 0, 0, 0.3));\n",
       "      fill: #FFFFFF;\n",
       "    }\n",
       "  </style>\n",
       "\n",
       "      <script>\n",
       "        const buttonEl =\n",
       "          document.querySelector('#df-99e6fbba-2f39-4a1b-96fb-e557b6a9ad15 button.colab-df-convert');\n",
       "        buttonEl.style.display =\n",
       "          google.colab.kernel.accessAllowed ? 'block' : 'none';\n",
       "\n",
       "        async function convertToInteractive(key) {\n",
       "          const element = document.querySelector('#df-99e6fbba-2f39-4a1b-96fb-e557b6a9ad15');\n",
       "          const dataTable =\n",
       "            await google.colab.kernel.invokeFunction('convertToInteractive',\n",
       "                                                     [key], {});\n",
       "          if (!dataTable) return;\n",
       "\n",
       "          const docLinkHtml = 'Like what you see? Visit the ' +\n",
       "            '<a target=\"_blank\" href=https://colab.research.google.com/notebooks/data_table.ipynb>data table notebook</a>'\n",
       "            + ' to learn more about interactive tables.';\n",
       "          element.innerHTML = '';\n",
       "          dataTable['output_type'] = 'display_data';\n",
       "          await google.colab.output.renderOutput(dataTable, element);\n",
       "          const docLink = document.createElement('div');\n",
       "          docLink.innerHTML = docLinkHtml;\n",
       "          element.appendChild(docLink);\n",
       "        }\n",
       "      </script>\n",
       "    </div>\n",
       "  </div>\n",
       "  "
      ],
      "text/plain": [
       "   Stars                                               Text\n",
       "0      1  Boarded my English Mastiff here over New Year'...\n",
       "1      1  Another case of the Emperor's New Clothes.  So...\n",
       "2      1  Came on Valentine's Day night having pre-bough...\n",
       "3      1  2Nd time eating here today.1st time was great ...\n",
       "4      1  Allegiant is a disaster.  Their fares are chea..."
      ]
     },
     "execution_count": 87,
     "metadata": {},
     "output_type": "execute_result"
    }
   ],
   "source": [
    "data.head()"
   ]
  },
  {
   "cell_type": "code",
   "execution_count": 88,
   "id": "38a44b84",
   "metadata": {
    "id": "2QvUBn-rjcU9"
   },
   "outputs": [],
   "source": [
    "X = data.values[:, 1]\n",
    "Y = data.values[:, 0]\n",
    "Y = Y.astype(np.int)"
   ]
  },
  {
   "cell_type": "code",
   "execution_count": 89,
   "id": "0e6f638d",
   "metadata": {
    "colab": {
     "base_uri": "https://localhost:8080/"
    },
    "id": "N-QLYoY2jnrU",
    "outputId": "3884377b-7565-4fd1-b4ba-efad528bbe8e"
   },
   "outputs": [
    {
     "name": "stdout",
     "output_type": "stream",
     "text": [
      "Taille de l'échantillon : (47371,)\n"
     ]
    }
   ],
   "source": [
    "print(f\"Taille de l'échantillon : {X.shape}\")"
   ]
  },
  {
   "cell_type": "code",
   "execution_count": 90,
   "id": "22ad3a79",
   "metadata": {
    "colab": {
     "base_uri": "https://localhost:8080/",
     "height": 295
    },
    "id": "9G86gArRj5sS",
    "outputId": "09ac5a60-35e1-4ddc-ebc3-8c05c0f291fd"
   },
   "outputs": [
    {
     "data": {
      "image/png": "[encoded data removed]",
      "text/plain": [
       "<Figure size 432x288 with 1 Axes>"
      ]
     },
     "metadata": {
      "needs_background": "light"
     },
     "output_type": "display_data"
    }
   ],
   "source": [
    "plt.title(\"Répartition des données\")\n",
    "plt.xlabel(\"Nombre d'étoiles\")\n",
    "plt.ylabel(\"Nombre d'occurences\")\n",
    "plt.hist(Y)\n",
    "plt.show()"
   ]
  },
  {
   "cell_type": "markdown",
   "id": "15e5448d",
   "metadata": {
    "id": "K61h8YYLlOkH"
   },
   "source": [
    "### **Utilisation du pipeline**"
   ]
  },
  {
   "cell_type": "code",
   "execution_count": 91,
   "id": "f691d783",
   "metadata": {
    "colab": {
     "base_uri": "https://localhost:8080/"
    },
    "id": "sSRzUWgRkN0m",
    "outputId": "f79c3ec4-07e8-40ed-db89-59e3c4fe137a"
   },
   "outputs": [
    {
     "data": {
      "text/plain": [
       "Pipeline(steps=[('CountTFVectorizer',\n",
       "                 TfidfVectorizer(max_features=100, stop_words='english')),\n",
       "                ('TruncatedSVD', TruncatedSVD(n_components=15)),\n",
       "                ('RandomForest', RandomForestClassifier(n_estimators=50))])"
      ]
     },
     "execution_count": 91,
     "metadata": {},
     "output_type": "execute_result"
    }
   ],
   "source": [
    "pipeline.fit(X, Y)"
   ]
  },
  {
   "cell_type": "code",
   "execution_count": 92,
   "id": "cc4ead1f",
   "metadata": {
    "colab": {
     "base_uri": "https://localhost:8080/"
    },
    "id": "FGplEoNKkZw8",
    "outputId": "f981b8df-829f-4485-b5ca-16b886c71432"
   },
   "outputs": [
    {
     "data": {
      "text/plain": [
       "0.9792911274830592"
      ]
     },
     "execution_count": 92,
     "metadata": {},
     "output_type": "execute_result"
    }
   ],
   "source": [
    "pipeline.score(X, Y)"
   ]
  },
  {
   "cell_type": "markdown",
   "id": "9fb7e79f",
   "metadata": {
    "id": "3WLtJThgPU_1"
   },
   "source": [
    "\n",
    "\n",
    "---\n",
    "\n",
    "\n",
    "\n",
    "---\n",
    "\n",
    "\n",
    "**❗ Score obtenu sur Yelp est de 0.97 (97.93%)**\n",
    "\n",
    "---\n",
    "\n"
   ]
  }
 ],
 "metadata": {
  "colab": {
   "provenance": []
  },
  "gpuClass": "standard",
  "kernelspec": {
   "display_name": "Python 3",
   "language": "python",
   "name": "python3"
  },
  "language_info": {
   "codemirror_mode": {
    "name": "ipython",
    "version": 3
   },
   "file_extension": ".py",
   "mimetype": "text/x-python",
   "name": "python",
   "nbconvert_exporter": "python",
   "pygments_lexer": "ipython3",
   "version": "3.8.5"
  }
 },
 "nbformat": 4,
 "nbformat_minor": 5
}
